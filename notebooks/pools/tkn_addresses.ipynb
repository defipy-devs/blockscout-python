{
 "cells": [
  {
   "cell_type": "markdown",
   "id": "edc91dbc-1da8-47b2-b9f3-62091ccbbece",
   "metadata": {},
   "source": [
    "* https://explorer.rollux.com/address/0x8A4AA176007196D48d39C89402d3753c39AE64c1\n",
    "* https://pypi.org/project/Historic-Crypto/\n",
    "* https://github.com/man-c/pycoingecko/tree/master"
   ]
  },
  {
   "cell_type": "code",
   "execution_count": 14,
   "id": "55e4b621-5e37-4f45-a8ec-e3cf247eed61",
   "metadata": {},
   "outputs": [
    {
     "data": {
      "text/plain": [
       "'0x455829781E218d33D3587D8282692C8F09d76f1C'"
      ]
     },
     "execution_count": 14,
     "metadata": {},
     "output_type": "execute_result"
    }
   ],
   "source": [
    "from blockscout import Blockscout\n",
    "from blockscout import Net\n",
    "from blockscout import API\n",
    "from datetime import datetime\n",
    "import pandas as pd\n",
    "import numpy as np\n",
    "import time\n",
    "from copy import deepcopy\n",
    "import matplotlib.pyplot as plt\n",
    "\n",
    "sys_addr = '0x6daF055c99883D920849D7022f2EfABb13e2af57'\n",
    "psys_addr = '0x6daF055c99883D920849D7022f2EfABb13e2af57'\n",
    "usdc_addr = '0x368433CaC2A0B8D76E64681a9835502a1f2A8A30'\n",
    "\n",
    "whale_addr1 = '0x455829781E218d33D3587D8282692C8F09d76f1C'\n",
    "whale_addr = '0x8A4AA176007196D48d39C89402d3753c39AE64c1'\n",
    "\n",
    "tkn_addr = whale_addr1\n",
    "\n",
    "eth_rpc = Blockscout(Net.ROLLUX, API.RPC)  \n",
    "eth_rest = Blockscout(Net.ROLLUX, API.REST) \n",
    "tkn_addr"
   ]
  },
  {
   "cell_type": "code",
   "execution_count": 15,
   "id": "409b73a1-fcd4-4ee1-b664-e69124ea8ea9",
   "metadata": {},
   "outputs": [
    {
     "name": "stdout",
     "output_type": "stream",
     "text": [
      "url: https://explorer.rollux.com/api?module=account&action=tokenlist&address=0x455829781E218d33D3587D8282692C8F09d76f1C\n"
     ]
    }
   ],
   "source": [
    "erc20_tkn_balances = eth_rpc.get_erc20_tokens_by_address(address=tkn_addr)"
   ]
  },
  {
   "cell_type": "code",
   "execution_count": 16,
   "id": "dbb961d2-69d2-4998-8312-55a61969a93b",
   "metadata": {},
   "outputs": [
    {
     "name": "stdout",
     "output_type": "stream",
     "text": [
      "url: https://explorer.rollux.com/api?module=account&action=tokentx&address=0x455829781E218d33D3587D8282692C8F09d76f1C&page=1&offset=0&sort=desc\n",
      "url: https://explorer.rollux.com/api?module=account&action=tokentx&address=0x455829781E218d33D3587D8282692C8F09d76f1C&page=2&offset=0&sort=desc\n"
     ]
    }
   ],
   "source": [
    "tkn_transfers = []\n",
    "page_nm = 1\n",
    "pull_tkn_transfers = True\n",
    "while(pull_tkn_transfers):\n",
    "    erc20_tkn_transfers = eth_rpc.get_erc20_token_transfer_events_by_address(address=tkn_addr, page=page_nm, offset=0, sort=\"desc\")\n",
    "    tkn_transfers.extend(erc20_tkn_transfers['result'])\n",
    "    pull_tkn_transfers = pull_tkn_transfers if len(erc20_tkn_transfers['result']) > 0 else False\n",
    "    page_nm+=1"
   ]
  },
  {
   "cell_type": "code",
   "execution_count": 24,
   "id": "9d7487ed-00a0-4bee-bc90-60a49d6b984d",
   "metadata": {},
   "outputs": [],
   "source": [
    "df_transfers = pd.DataFrame(columns=['blk_num', 'timestamp', 'tkn_symbol', 'tkn_name', 'tkn_decimal', \n",
    "                                     'transfer_value', 'coin_value', 'tkn_balance', 'transfer_gas', 'transfer_in', \n",
    "                                     'tkn_address', 'hash'])\n",
    "\n",
    "n_transfers = len(tkn_transfers)\n",
    "c = 0\n",
    "for k in range(n_transfers):\n",
    "    tx = tkn_transfers[k]\n",
    "    if('value' in tx):\n",
    "        blk_num = int(tx['blockNumber'])\n",
    "        timestamp = int(tx['timeStamp'])\n",
    "        tkn_symbol = tx['tokenSymbol']\n",
    "        tkn_name = tx['tokenName']\n",
    "        tkn_decimal = int(tx['tokenDecimal'])\n",
    "        tkn_address = tx['contractAddress']\n",
    "        transfer_value = int(tx['value'])\n",
    "        coin_value = transfer_value/(10**tkn_decimal)\n",
    "        transfer_in = tx['to'] == tkn_addr.lower()\n",
    "        transfer_gas = int(tx['gasUsed'])\n",
    "        transfer_hash = tx['hash']\n",
    "        df_transfers.loc[c] = [blk_num, timestamp, tkn_symbol, tkn_name, tkn_decimal, transfer_value, coin_value, 0, transfer_gas, transfer_in, tkn_address, transfer_hash]\n",
    "        c+=1\n",
    "\n",
    "df_transfers.sort_values(by=['blk_num'], ascending=False, inplace=False)\n",
    "dict_transfers = df_transfers.to_dict('index')"
   ]
  },
  {
   "cell_type": "code",
   "execution_count": 9,
   "id": "eb8e8e26-c309-4325-a2d6-077b248358f5",
   "metadata": {},
   "outputs": [],
   "source": [
    "dict_transfers = {}\n",
    "\n",
    "n_transfers = len(tkn_transfers)\n",
    "for k in range(n_transfers):\n",
    "    tx = tkn_transfers[k]\n",
    "    dict_transfers[k] = {}\n",
    "    dict_transfers[k]['blk_num'] = int(tx['blockNumber'])\n",
    "    dict_transfers[k]['timestamp'] = int(tx['timeStamp'])\n",
    "    dict_transfers[k]['tkn_symbol'] = tx['tokenSymbol']\n",
    "    dict_transfers[k]['tkn_name'] = tx['tokenName']\n",
    "    dict_transfers[k]['tkn_decimal'] = int(tx['tokenDecimal'])\n",
    "    dict_transfers[k]['tkn_address'] = tx['contractAddress']\n",
    "    dict_transfers[k]['transfer_value'] = int(tx['value'])\n",
    "    transfer_value = dict_transfers[k]['transfer_value']\n",
    "    tkn_decimal = dict_transfers[k]['tkn_decimal']\n",
    "    dict_transfers[k]['coin_value'] = transfer_value/(10**tkn_decimal)\n",
    "    dict_transfers[k]['transfer_in'] = tx['to'] == tkn_addr.lower()\n",
    "    dict_transfers[k]['transfer_gas'] = int(tx['gasUsed'])\n",
    "    dict_transfers[k]['transfer_hash'] = tx['hash']"
   ]
  },
  {
   "cell_type": "code",
   "execution_count": 10,
   "id": "333f11e9-acf4-4054-ad3e-d6ff5a8dca45",
   "metadata": {},
   "outputs": [],
   "source": [
    "dict_transfers = dict(sorted(dict_transfers.items(), key=lambda item: item[1]['blk_num'], reverse=True))\n",
    "\n",
    "dict_transfers_reindex = {}\n",
    "for k, old_k in enumerate(dict_transfers):\n",
    "    dict_transfers_reindex[k] = dict_transfers[old_k]\n",
    "dict_transfers = dict_transfers_reindex"
   ]
  },
  {
   "cell_type": "code",
   "execution_count": 11,
   "id": "96720947-3bf8-43b9-a2e6-748a08e39486",
   "metadata": {},
   "outputs": [],
   "source": [
    "df_transfers = pd.DataFrame.from_dict(dict_transfers_reindex, orient='index')"
   ]
  },
  {
   "cell_type": "code",
   "execution_count": 12,
   "id": "e41ba880-bd35-4234-be23-69453c221fa0",
   "metadata": {},
   "outputs": [
    {
     "data": {
      "text/plain": [
       "{'USDT': {'tkn_balance': 89590009236, 'tkn_name': 'Tether', 'tkn_decimal': 6},\n",
       " 'BTC': {'tkn_balance': 999799972, 'tkn_name': 'Bitcoin', 'tkn_decimal': 8},\n",
       " 'USDC': {'tkn_balance': 238003477125,\n",
       "  'tkn_name': 'USD Coin',\n",
       "  'tkn_decimal': 6},\n",
       " 'WSYS': {'tkn_balance': 65787771636449164370510,\n",
       "  'tkn_name': 'Wrapped Syscoin',\n",
       "  'tkn_decimal': 18},\n",
       " 'ETH': {'tkn_balance': 2689089808644384766235,\n",
       "  'tkn_name': 'Ethereum',\n",
       "  'tkn_decimal': 18}}"
      ]
     },
     "execution_count": 12,
     "metadata": {},
     "output_type": "execute_result"
    }
   ],
   "source": [
    "init_tkn_balances = {}\n",
    "for tkn in erc20_tkn_balances['result']:\n",
    "    symbol = tkn['symbol']\n",
    "    init_tkn_balances[symbol] = {} if symbol not in init_tkn_balances else {}\n",
    "    init_tkn_balances[symbol]['tkn_balance'] = int(tkn['balance'])\n",
    "    init_tkn_balances[symbol]['tkn_name'] = tkn['name']\n",
    "    init_tkn_balances[symbol]['tkn_decimal'] = int(tkn['decimals'])\n",
    "init_tkn_balances"
   ]
  },
  {
   "cell_type": "code",
   "execution_count": 13,
   "id": "4eae9057-4898-4826-8d0d-87c14682f9f0",
   "metadata": {},
   "outputs": [
    {
     "data": {
      "text/plain": [
       "{'USDT': {'tkn_balance': 89590009236},\n",
       " 'USDC': {'tkn_balance': 238003477125},\n",
       " 'ETH': {'tkn_balance': 2689089808644384766235},\n",
       " 'BTC': {'tkn_balance': 999799972},\n",
       " 'WSYS': {'tkn_balance': 65787771636449164370510}}"
      ]
     },
     "execution_count": 13,
     "metadata": {},
     "output_type": "execute_result"
    }
   ],
   "source": [
    "tkn_balances = {}\n",
    "N = len(dict_transfers)\n",
    "for k in range(N, 0, -1):\n",
    "    tx = dict_transfers[k-1]\n",
    "    tkn_symbol = tx['tkn_symbol']\n",
    "    transfer_value = tx['transfer_value']\n",
    "    transfer_in = tx['transfer_in']\n",
    "\n",
    "    tkn_balances[tkn_symbol] = {} if tkn_symbol not in tkn_balances else tkn_balances[tkn_symbol]\n",
    "    tkn_balances[tkn_symbol]['tkn_balance'] = 0 if 'tkn_balance' not in tkn_balances[tkn_symbol] else tkn_balances[tkn_symbol]['tkn_balance']\n",
    "\n",
    "    if(transfer_in):\n",
    "        tkn_balances[tkn_symbol]['tkn_balance'] += transfer_value\n",
    "    elif tkn_balances[tkn_symbol]['tkn_balance'] >= transfer_value:     \n",
    "        tkn_balances[tkn_symbol]['tkn_balance'] -= transfer_value\n",
    "    else:\n",
    "        tkn_balances[tkn_symbol]['tkn_balance'] = 0\n",
    "\n",
    "    dict_transfers[k-1]['tkn_balance'] = tkn_balances[tkn_symbol]['tkn_balance']\n",
    "\n",
    "tkn_balances"
   ]
  },
  {
   "cell_type": "code",
   "execution_count": null,
   "id": "64950ad8-8862-45d2-b08c-dc0f5b814ab0",
   "metadata": {},
   "outputs": [],
   "source": [
    "tkn_balances = {}\n",
    "N = len(df_transfers)\n",
    "for k in range(N, 0, -1):\n",
    "    tx = df_transfers.iloc[k-1]\n",
    "    tkn_symbol = tx['tkn_symbol']\n",
    "    transfer_value = tx['transfer_value']\n",
    "    transfer_in = tx['transfer_in']\n",
    "\n",
    "    tkn_balances[tkn_symbol] = {} if tkn_symbol not in tkn_balances else tkn_balances[tkn_symbol]\n",
    "    tkn_balances[tkn_symbol]['tkn_balance'] = 0 if 'tkn_balance' not in tkn_balances[tkn_symbol] else tkn_balances[tkn_symbol]['tkn_balance']\n",
    "\n",
    "    if(transfer_in):\n",
    "        tkn_balances[tkn_symbol]['tkn_balance'] += transfer_value\n",
    "    elif tkn_balances[tkn_symbol]['tkn_balance'] >= transfer_value:     \n",
    "        tkn_balances[tkn_symbol]['tkn_balance'] -= transfer_value\n",
    "    else:\n",
    "        tkn_balances[tkn_symbol]['tkn_balance'] = 0\n",
    "\n",
    "    df_transfers.loc[k-1,'tkn_balance'] = tkn_balances[tkn_symbol]['tkn_balance']\n",
    "\n",
    "tkn_balances"
   ]
  },
  {
   "cell_type": "code",
   "execution_count": null,
   "id": "54442b9e-94d8-4fb8-91ac-c10cbcafa423",
   "metadata": {},
   "outputs": [],
   "source": [
    "df_transfers.head(4)"
   ]
  },
  {
   "cell_type": "code",
   "execution_count": null,
   "id": "44efa75f-3c8d-4a27-bf2b-bd7d1e6122c5",
   "metadata": {},
   "outputs": [],
   "source": [
    "dict_transfers[0]"
   ]
  },
  {
   "cell_type": "code",
   "execution_count": null,
   "id": "2c4472ec-b32b-4c46-8e1e-f70d5d0d22c9",
   "metadata": {},
   "outputs": [],
   "source": [
    "tkn_symbol = 'USDC'\n",
    "plot_title = True\n",
    "\n",
    "for tkn_symbol in tkn_balances.keys():\n",
    "    tkn_decimal = init_tkn_balances[tkn_symbol]['tkn_decimal']\n",
    "    df_tkn = df_transfers.loc[df_transfers['tkn_symbol'] == tkn_symbol].copy()\n",
    "    df_tkn.sort_values(by=['blk_num'], ascending=True, inplace=True)\n",
    "    df_tkn.reset_index(drop=True, inplace=True)\n",
    "    \n",
    "    dates = np.array([datetime.fromtimestamp(ts) for ts in df_tkn['timestamp'].values])\n",
    "    tkn_coin_balances = df_tkn['tkn_balance'].values/(10**tkn_decimal)\n",
    "\n",
    "    fig, (TKN_ax) = plt.subplots(nrows=1, sharex=False, sharey=False, figsize=(16, 3))\n",
    "    TKN_ax.plot(dates, tkn_coin_balances, color = 'r',linestyle = 'dashdot', label=tkn_symbol) \n",
    "    if(plot_title): TKN_ax.set_title(f'Address: {tkn_addr}', size=20)\n",
    "    TKN_ax.set_ylabel(f'{tkn_symbol} Balance', size=14)\n",
    "    TKN_ax.set_xlabel('Date', size=14)\n",
    "    plot_title = False"
   ]
  }
 ],
 "metadata": {
  "kernelspec": {
   "display_name": "Python 3 (ipykernel)",
   "language": "python",
   "name": "python3"
  },
  "language_info": {
   "codemirror_mode": {
    "name": "ipython",
    "version": 3
   },
   "file_extension": ".py",
   "mimetype": "text/x-python",
   "name": "python",
   "nbconvert_exporter": "python",
   "pygments_lexer": "ipython3",
   "version": "3.10.0rc2"
  }
 },
 "nbformat": 4,
 "nbformat_minor": 5
}
