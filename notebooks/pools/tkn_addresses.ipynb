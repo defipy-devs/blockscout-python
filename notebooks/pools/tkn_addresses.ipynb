{
 "cells": [
  {
   "cell_type": "markdown",
   "id": "edc91dbc-1da8-47b2-b9f3-62091ccbbece",
   "metadata": {},
   "source": [
    "* https://explorer.rollux.com/address/0x8A4AA176007196D48d39C89402d3753c39AE64c1"
   ]
  },
  {
   "cell_type": "code",
   "execution_count": 1,
   "id": "55e4b621-5e37-4f45-a8ec-e3cf247eed61",
   "metadata": {},
   "outputs": [
    {
     "data": {
      "text/plain": [
       "'0x8A4AA176007196D48d39C89402d3753c39AE64c1'"
      ]
     },
     "execution_count": 1,
     "metadata": {},
     "output_type": "execute_result"
    }
   ],
   "source": [
    "from blockscout import Blockscout\n",
    "from blockscout import Net\n",
    "from blockscout import API\n",
    "from datetime import datetime\n",
    "import pandas as pd\n",
    "import time\n",
    "\n",
    "sys_addr = '0x6daF055c99883D920849D7022f2EfABb13e2af57'\n",
    "psys_addr = '0x6daF055c99883D920849D7022f2EfABb13e2af57'\n",
    "usdc_addr = '0x368433CaC2A0B8D76E64681a9835502a1f2A8A30'\n",
    "whale_addr = '0x8A4AA176007196D48d39C89402d3753c39AE64c1'\n",
    "\n",
    "tkn_addr = whale_addr\n",
    "\n",
    "eth_rpc = Blockscout(Net.ROLLUX, API.RPC)  \n",
    "eth_rest = Blockscout(Net.ROLLUX, API.REST) \n",
    "tkn_addr"
   ]
  },
  {
   "cell_type": "code",
   "execution_count": 2,
   "id": "409b73a1-fcd4-4ee1-b664-e69124ea8ea9",
   "metadata": {},
   "outputs": [
    {
     "name": "stdout",
     "output_type": "stream",
     "text": [
      "url: https://explorer.rollux.com/api?module=account&action=tokenlist&address=0x8A4AA176007196D48d39C89402d3753c39AE64c1\n"
     ]
    }
   ],
   "source": [
    "erc20_tkn_balannces = eth_rpc.get_erc20_tokens_by_address(address=tkn_addr)"
   ]
  },
  {
   "cell_type": "code",
   "execution_count": 3,
   "id": "dbb961d2-69d2-4998-8312-55a61969a93b",
   "metadata": {},
   "outputs": [
    {
     "name": "stdout",
     "output_type": "stream",
     "text": [
      "url: https://explorer.rollux.com/api?module=account&action=tokentx&address=0x8A4AA176007196D48d39C89402d3753c39AE64c1&page=1&offset=0&sort=desc\n"
     ]
    }
   ],
   "source": [
    "erc20_tkn_transfers = eth_rpc.get_erc20_token_transfer_events_by_address(address=tkn_addr, page=1, offset=0, sort=\"desc\")"
   ]
  },
  {
   "cell_type": "code",
   "execution_count": null,
   "id": "5b02ad53-8e51-4e18-8e8e-09ddecce5e0c",
   "metadata": {},
   "outputs": [],
   "source": [
    "#eth_rpc.get_block_reward_by_block_number(block_no=16668506)"
   ]
  },
  {
   "cell_type": "code",
   "execution_count": 120,
   "id": "9d7487ed-00a0-4bee-bc90-60a49d6b984d",
   "metadata": {},
   "outputs": [],
   "source": [
    "df_transfers = pd.DataFrame(columns=['blk_num', 'timestamp', 'tkn_symbol', 'tkn_name', 'tkn_decimal', \n",
    "                                     'transfer_value', 'coin_value', 'transfer_gas', 'transfer_in', \n",
    "                                     'tkn_address', 'hash'])\n",
    "\n",
    "n_transfers = len(erc20_tkn_transfers['result'])\n",
    "for k in range(n_transfers):\n",
    "    tx = erc20_tkn_transfers['result'][k]\n",
    "    blk_num = int(tx['blockNumber'])\n",
    "    timestamp = int(tx['timeStamp'])\n",
    "    tkn_symbol = tx['tokenSymbol']\n",
    "    tkn_name = tx['tokenName']\n",
    "    tkn_decimal = int(tx['tokenDecimal'])\n",
    "    tkn_address = tx['contractAddress']\n",
    "    transfer_value = int(tx['value'])\n",
    "    coin_value = transfer_value/(10**tkn_decimal)\n",
    "    transfer_in = erc20_tkn_transfers['result'][k]['to'] == tkn_addr.lower()\n",
    "    transfer_gas = int(tx['gasUsed'])\n",
    "    transfer_hash = tx['hash']\n",
    "    df_transfers.loc[k] = [blk_num, timestamp, tkn_symbol, tkn_name, tkn_decimal, transfer_value, coin_value, transfer_gas, transfer_in, tkn_address, transfer_hash]"
   ]
  },
  {
   "cell_type": "code",
   "execution_count": 121,
   "id": "e41ba880-bd35-4234-be23-69453c221fa0",
   "metadata": {},
   "outputs": [],
   "source": [
    "init_tkn_balances = {}\n",
    "for tkn in erc20_tkn_balannces['result']:\n",
    "    symbol = tkn['symbol']\n",
    "    init_tkn_balances[symbol] = {} if symbol not in tkn_balances else {}\n",
    "    init_tkn_balances[symbol]['tkn_balance'] = int(tkn['balance'])\n",
    "    init_tkn_balances[symbol]['tkn_name'] = tkn['name']\n",
    "    init_tkn_balances[symbol]['tkn_decimal'] = int(tkn['decimals'])"
   ]
  },
  {
   "cell_type": "code",
   "execution_count": 116,
   "id": "0922d1da-889f-4bc0-948d-bc252ad500d6",
   "metadata": {},
   "outputs": [
    {
     "data": {
      "text/plain": [
       "{'USDT': {'tkn_balance': 89590009236, 'tkn_name': 'Tether', 'tkn_decimal': 6},\n",
       " 'BTC': {'tkn_balance': 999799972, 'tkn_name': 'Bitcoin', 'tkn_decimal': 8},\n",
       " 'USDC': {'tkn_balance': 238003477125,\n",
       "  'tkn_name': 'USD Coin',\n",
       "  'tkn_decimal': 6},\n",
       " 'WSYS': {'tkn_balance': 65787771636449164370510,\n",
       "  'tkn_name': 'Wrapped Syscoin',\n",
       "  'tkn_decimal': 18},\n",
       " 'ETH': {'tkn_balance': 2689086726999817394149,\n",
       "  'tkn_name': 'Ethereum',\n",
       "  'tkn_decimal': 18}}"
      ]
     },
     "execution_count": 116,
     "metadata": {},
     "output_type": "execute_result"
    }
   ],
   "source": [
    "init_tkn_balances"
   ]
  },
  {
   "cell_type": "code",
   "execution_count": 122,
   "id": "ab386501-fac5-4cc2-87d5-28a50c98d723",
   "metadata": {},
   "outputs": [],
   "source": [
    "current_tkn_balances = init_tkn_balances.copy()"
   ]
  },
  {
   "cell_type": "code",
   "execution_count": 118,
   "id": "0d74af3f-c872-4c93-949f-e1b3ba86acc2",
   "metadata": {},
   "outputs": [
    {
     "data": {
      "text/plain": [
       "blk_num                                                    16934097\n",
       "timestamp                                                1721233435\n",
       "tkn_symbol                                                     WSYS\n",
       "tkn_name                                            Wrapped Syscoin\n",
       "tkn_decimal                                                      18\n",
       "transfer_value                                 45000000000000000000\n",
       "coin_value                                                     45.0\n",
       "transfer_gas                                                  83295\n",
       "transfer_in                                                    True\n",
       "tkn_address              0x4200000000000000000000000000000000000006\n",
       "hash              0x795ac0b3ea59f83fc38949268a09f3abd5a4cdf25727...\n",
       "Name: 0, dtype: object"
      ]
     },
     "execution_count": 118,
     "metadata": {},
     "output_type": "execute_result"
    }
   ],
   "source": [
    "df_transfers.iloc[0]"
   ]
  },
  {
   "cell_type": "code",
   "execution_count": 131,
   "id": "90ce2d0e-0526-47af-bcf6-5ad45faf457e",
   "metadata": {},
   "outputs": [
    {
     "data": {
      "text/plain": [
       "0       True\n",
       "1      False\n",
       "2      False\n",
       "3      False\n",
       "4      False\n",
       "       ...  \n",
       "840    False\n",
       "841    False\n",
       "842    False\n",
       "843    False\n",
       "844    False\n",
       "Name: tkn_symbol, Length: 845, dtype: bool"
      ]
     },
     "execution_count": 131,
     "metadata": {},
     "output_type": "execute_result"
    }
   ],
   "source": [
    "df_transfers['tkn_symbol'] == 'WSYS'"
   ]
  },
  {
   "cell_type": "code",
   "execution_count": 129,
   "id": "fa1071fe-aedb-4e68-a196-3a506d5341eb",
   "metadata": {},
   "outputs": [
    {
     "data": {
      "text/plain": [
       "'USDT'"
      ]
     },
     "execution_count": 129,
     "metadata": {},
     "output_type": "execute_result"
    }
   ],
   "source": [
    "tkn_symbol"
   ]
  },
  {
   "cell_type": "code",
   "execution_count": 127,
   "id": "7c88f322-1842-4bd0-a1a6-230c3efdfcd8",
   "metadata": {},
   "outputs": [],
   "source": [
    "k = 1\n",
    "transfer_in = df_transfers.iloc[k]['transfer_in']\n",
    "\n",
    "\n",
    "if(transfer_in)"
   ]
  },
  {
   "cell_type": "code",
   "execution_count": 128,
   "id": "52fc7d38-fdbf-431b-865e-8fcc7bae92ca",
   "metadata": {},
   "outputs": [
    {
     "data": {
      "text/plain": [
       "89590009236"
      ]
     },
     "execution_count": 128,
     "metadata": {},
     "output_type": "execute_result"
    }
   ],
   "source": [
    "current_tkn_balances[tkn_symbol]['tkn_balance']"
   ]
  }
 ],
 "metadata": {
  "kernelspec": {
   "display_name": "Python 3 (ipykernel)",
   "language": "python",
   "name": "python3"
  },
  "language_info": {
   "codemirror_mode": {
    "name": "ipython",
    "version": 3
   },
   "file_extension": ".py",
   "mimetype": "text/x-python",
   "name": "python",
   "nbconvert_exporter": "python",
   "pygments_lexer": "ipython3",
   "version": "3.10.0rc2"
  }
 },
 "nbformat": 4,
 "nbformat_minor": 5
}
