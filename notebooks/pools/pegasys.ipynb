{
 "cells": [
  {
   "cell_type": "markdown",
   "id": "d1358a0e-9fa5-4eaf-9967-d536b3f82dfa",
   "metadata": {},
   "source": [
    "* https://info.pegasys.fi/#/tokens/0x48023b16c3e81AA7F6eFFbdEB35Bb83f4f31a8fd\n",
    "* https://explorer.rollux.com/address/0x8A4AA176007196D48d39C89402d3753c39AE64c1"
   ]
  },
  {
   "cell_type": "code",
   "execution_count": 198,
   "id": "eadefed0-fa06-4252-a859-71e709b19faf",
   "metadata": {},
   "outputs": [],
   "source": [
    "from blockscout import Blockscout\n",
    "from blockscout import Net\n",
    "from blockscout import API\n",
    "from datetime import datetime\n",
    "import pandas as pd\n",
    "import time\n",
    "\n",
    "sys_addr = '0x6daF055c99883D920849D7022f2EfABb13e2af57'\n",
    "psys_addr = '0x6daF055c99883D920849D7022f2EfABb13e2af57'\n",
    "usdc_addr = '0x368433CaC2A0B8D76E64681a9835502a1f2A8A30'\n",
    "whale_addr = '0x8A4AA176007196D48d39C89402d3753c39AE64c1'\n",
    "\n",
    "tkn_addr = whale_addr\n",
    "\n",
    "eth_rpc = Blockscout(Net.ROLLUX, API.RPC)  \n",
    "eth_rest = Blockscout(Net.ROLLUX, API.REST) "
   ]
  },
  {
   "cell_type": "code",
   "execution_count": 151,
   "id": "b00179d2-d228-4998-b8cb-6941cee82639",
   "metadata": {},
   "outputs": [
    {
     "name": "stdout",
     "output_type": "stream",
     "text": [
      "url: https://explorer.rollux.com/api/v2/tokens?q=USDC&type=ERC-20%2CERC-721%2CERC-1155\n"
     ]
    },
    {
     "data": {
      "text/plain": [
       "{'items': [{'address': '0x368433CaC2A0B8D76E64681a9835502a1f2A8A30',\n",
       "   'circulating_market_cap': None,\n",
       "   'decimals': '6',\n",
       "   'exchange_rate': None,\n",
       "   'holders': '154',\n",
       "   'icon_url': None,\n",
       "   'name': 'USD Coin',\n",
       "   'symbol': 'USDC',\n",
       "   'total_supply': '350446540429',\n",
       "   'type': 'ERC-20',\n",
       "   'volume_24h': None},\n",
       "  {'address': '0xF3B1125C8505f038503E002e61a78253610D4F60',\n",
       "   'circulating_market_cap': None,\n",
       "   'decimals': '18',\n",
       "   'exchange_rate': None,\n",
       "   'holders': '4',\n",
       "   'icon_url': None,\n",
       "   'name': 'xUSDT-USDC05',\n",
       "   'symbol': 'xUSDT-USDC05',\n",
       "   'total_supply': '44954232101',\n",
       "   'type': 'ERC-20',\n",
       "   'volume_24h': None}],\n",
       " 'next_page_params': None}"
      ]
     },
     "execution_count": 151,
     "metadata": {},
     "output_type": "execute_result"
    }
   ],
   "source": [
    "eth_rest.get_tokens_list(token_name=\"USDC\")"
   ]
  },
  {
   "cell_type": "code",
   "execution_count": 200,
   "id": "89beb8cb-afcf-4879-a616-021582a7a329",
   "metadata": {},
   "outputs": [
    {
     "name": "stdout",
     "output_type": "stream",
     "text": [
      "url: https://explorer.rollux.com/api?module=account&action=tokenlist&address=0x8A4AA176007196D48d39C89402d3753c39AE64c1\n"
     ]
    }
   ],
   "source": [
    "erc20_tkn_balances = eth_rpc.get_erc20_tokens_by_address(address=tkn_addr)"
   ]
  },
  {
   "cell_type": "code",
   "execution_count": 201,
   "id": "77321326-19d0-4426-b5a7-b8dd4a951051",
   "metadata": {},
   "outputs": [
    {
     "name": "stdout",
     "output_type": "stream",
     "text": [
      "url: https://explorer.rollux.com/api?module=account&action=tokentx&address=0x8A4AA176007196D48d39C89402d3753c39AE64c1&page=1&offset=0&sort=asc\n"
     ]
    }
   ],
   "source": [
    "erc20_tkn_transfers = eth_rpc.get_erc20_token_transfer_events_by_address(address=tkn_addr, page=1, offset=0, sort=\"asc\")"
   ]
  },
  {
   "cell_type": "code",
   "execution_count": 195,
   "id": "3838ddfd-0fca-49e1-ad25-34e688964fbc",
   "metadata": {},
   "outputs": [
    {
     "name": "stdout",
     "output_type": "stream",
     "text": [
      "url: https://explorer.rollux.com/api/v2/tokens/0x8A4AA176007196D48d39C89402d3753c39AE64c1/transfers\n"
     ]
    },
    {
     "data": {
      "text/plain": [
       "{'message': 'Not found'}"
      ]
     },
     "execution_count": 195,
     "metadata": {},
     "output_type": "execute_result"
    }
   ],
   "source": [
    "eth_rest.get_token_transfers(address = tkn_addr)"
   ]
  },
  {
   "cell_type": "code",
   "execution_count": 155,
   "id": "c762b8f1-c907-492e-acad-6e321fa0b9e5",
   "metadata": {},
   "outputs": [
    {
     "name": "stdout",
     "output_type": "stream",
     "text": [
      "url: https://explorer.rollux.com/api/v2/addresses/0x8A4AA176007196D48d39C89402d3753c39AE64c1/logs\n"
     ]
    }
   ],
   "source": [
    "tx_logs = eth_rest.get_address_logs(address = tkn_addr)"
   ]
  },
  {
   "cell_type": "code",
   "execution_count": 156,
   "id": "835342bc-7e8a-4e7e-baf6-c66cb0ebe167",
   "metadata": {},
   "outputs": [
    {
     "name": "stdout",
     "output_type": "stream",
     "text": [
      "url: https://explorer.rollux.com/api/v2/addresses/0x8A4AA176007196D48d39C89402d3753c39AE64c1\n"
     ]
    },
    {
     "data": {
      "text/plain": [
       "{'block_number_balance_updated_at': 16903290,\n",
       " 'coin_balance': '26965534847863886139012',\n",
       " 'creation_tx_hash': None,\n",
       " 'creator_address_hash': None,\n",
       " 'ens_domain_name': None,\n",
       " 'exchange_rate': None,\n",
       " 'has_beacon_chain_withdrawals': False,\n",
       " 'has_custom_methods_read': False,\n",
       " 'has_custom_methods_write': False,\n",
       " 'has_decompiled_code': False,\n",
       " 'has_logs': False,\n",
       " 'has_methods_read': False,\n",
       " 'has_methods_read_proxy': False,\n",
       " 'has_methods_write': False,\n",
       " 'has_methods_write_proxy': False,\n",
       " 'has_token_transfers': True,\n",
       " 'has_tokens': True,\n",
       " 'has_validated_blocks': False,\n",
       " 'hash': '0x8A4AA176007196D48d39C89402d3753c39AE64c1',\n",
       " 'implementation_address': None,\n",
       " 'implementation_name': None,\n",
       " 'is_contract': False,\n",
       " 'is_verified': None,\n",
       " 'metadata': None,\n",
       " 'name': None,\n",
       " 'private_tags': [],\n",
       " 'public_tags': [],\n",
       " 'token': None,\n",
       " 'watchlist_address_id': None,\n",
       " 'watchlist_names': []}"
      ]
     },
     "execution_count": 156,
     "metadata": {},
     "output_type": "execute_result"
    }
   ],
   "source": [
    "tkn_info = eth_rest.get_address_info(address = tkn_addr)\n",
    "tkn_info"
   ]
  },
  {
   "cell_type": "code",
   "execution_count": 140,
   "id": "6e5bd4cb-455a-4f42-8292-d24c69ef8678",
   "metadata": {},
   "outputs": [],
   "source": [
    "last_block_tx = tkn_info['block_number_balance_updated_at']\n",
    "delta_blks = 54000\n",
    "prev_block_tx = last_block_tx - delta_blks\n",
    "#eth_rpc.get_txs_by_address_paginated(address=tkn_addr, startblock=prev_block_tx, endblock=last_block_tx, page=1, offset=5, sort=\"asc\")"
   ]
  },
  {
   "cell_type": "code",
   "execution_count": 159,
   "id": "2806c796-976d-4375-8a49-cf28011fa34d",
   "metadata": {},
   "outputs": [
    {
     "data": {
      "text/plain": [
       "'0x8A4AA176007196D48d39C89402d3753c39AE64c1'"
      ]
     },
     "execution_count": 159,
     "metadata": {},
     "output_type": "execute_result"
    }
   ],
   "source": [
    "tkn_addr"
   ]
  },
  {
   "cell_type": "code",
   "execution_count": 162,
   "id": "e5c4f442-f0a5-4557-bf36-8f0ff00ec1f7",
   "metadata": {},
   "outputs": [
    {
     "data": {
      "text/plain": [
       "73080"
      ]
     },
     "execution_count": 162,
     "metadata": {},
     "output_type": "execute_result"
    }
   ],
   "source": [
    "16903459-16830379"
   ]
  },
  {
   "cell_type": "code",
   "execution_count": 179,
   "id": "8bba8361-3aea-402a-8052-619cc57512e3",
   "metadata": {},
   "outputs": [
    {
     "name": "stdout",
     "output_type": "stream",
     "text": [
      "url: https://explorer.rollux.com/api?module=account&action=txlist&address=0x8A4AA176007196D48d39C89402d3753c39AE64c1&startblock=16633290&endblock=16903290&page=1&offset=0&sort=asc\n",
      "TX time: 2024-07-15 05:08:47\n",
      "TX time: 2024-07-15 06:32:43\n",
      "TX time: 2024-07-15 06:46:39\n"
     ]
    }
   ],
   "source": [
    "last_block_tx = tkn_info['block_number_balance_updated_at']\n",
    "delta_blks = 5*54000\n",
    "\n",
    "token_txs = {}\n",
    "c = 0\n",
    "\n",
    "for k in range(1):\n",
    "    prev_block_tx = last_block_tx - delta_blks\n",
    "    out = eth_rpc.get_txs_by_address_paginated(address=tkn_addr, startblock=prev_block_tx, endblock=last_block_tx, page=1, offset=0, sort=\"asc\")\n",
    "    last_block_tx = prev_block_tx\n",
    "    if out['result']:\n",
    "        token_txs[c] = out['result']\n",
    "        c+=1\n",
    "        for res in out['result']:\n",
    "            ts = int(res['timeStamp'])\n",
    "            human_ts = datetime.utcfromtimestamp(ts).strftime('%Y-%m-%d %H:%M:%S')\n",
    "            print(f'TX time: {human_ts}')\n",
    "            time.sleep(1)\n",
    "    else:\n",
    "        pass"
   ]
  },
  {
   "cell_type": "code",
   "execution_count": 190,
   "id": "16f6042f-d102-4ccc-ae8d-7f055959164a",
   "metadata": {},
   "outputs": [
    {
     "data": {
      "text/plain": [
       "{0: [{'blockHash': '0x1b69595d2a653ef27d36d54ad195ea9942f5c4d6f7ce61bf5775adca664c6bf9',\n",
       "   'blockNumber': '16827443',\n",
       "   'confirmations': '76483',\n",
       "   'contractAddress': '',\n",
       "   'cumulativeGasUsed': '82017',\n",
       "   'from': '0x8a4aa176007196d48d39c89402d3753c39ae64c1',\n",
       "   'gas': '500000',\n",
       "   'gasPrice': '100000050',\n",
       "   'gasUsed': '35140',\n",
       "   'hash': '0xc97918add9a12c43eff2994d5cfe1ef3936c6783be9f5233d030e09938dc5d2d',\n",
       "   'input': '0x2e1a7d4d000000000000000000000000000000000000000000000878678326eac9000000',\n",
       "   'isError': '0',\n",
       "   'nonce': '55',\n",
       "   'timeStamp': '1721020127',\n",
       "   'to': '0x4200000000000000000000000000000000000006',\n",
       "   'transactionIndex': '1',\n",
       "   'txreceipt_status': '1',\n",
       "   'value': '0'},\n",
       "  {'blockHash': '0xb55325d8614999611ab0898e17a02f979e5de3dfa0e873b5c40ac9c1491f253c',\n",
       "   'blockNumber': '16829961',\n",
       "   'confirmations': '73965',\n",
       "   'contractAddress': '',\n",
       "   'cumulativeGasUsed': '67877',\n",
       "   'from': '0x8a4aa176007196d48d39c89402d3753c39ae64c1',\n",
       "   'gas': '1000000',\n",
       "   'gasPrice': '100000050',\n",
       "   'gasUsed': '21000',\n",
       "   'hash': '0xe3199d0905aedf669c467f71418d665d4d75ae317349b070880c8265f86b4501',\n",
       "   'input': '0x',\n",
       "   'isError': '0',\n",
       "   'nonce': '56',\n",
       "   'timeStamp': '1721025163',\n",
       "   'to': '0x440872cfddac749d9f201234395fc20ed5480a80',\n",
       "   'transactionIndex': '1',\n",
       "   'txreceipt_status': '1',\n",
       "   'value': '40000000000000000000000'},\n",
       "  {'blockHash': '0xdfc5cb5959eaa3b79f0d5584bf5173a78549d40ebbef5f9fcee635cfa273723a',\n",
       "   'blockNumber': '16830379',\n",
       "   'confirmations': '73547',\n",
       "   'contractAddress': '',\n",
       "   'cumulativeGasUsed': '67877',\n",
       "   'from': '0x440872cfddac749d9f201234395fc20ed5480a80',\n",
       "   'gas': '50000',\n",
       "   'gasPrice': '150000075',\n",
       "   'gasUsed': '21000',\n",
       "   'hash': '0xc4703c8c6282bcce582d1a5c915c19c0507afbf9cf05c5908cbf37fb1b35a494',\n",
       "   'input': '0x',\n",
       "   'isError': '0',\n",
       "   'nonce': '5',\n",
       "   'timeStamp': '1721025999',\n",
       "   'to': '0x8a4aa176007196d48d39c89402d3753c39ae64c1',\n",
       "   'transactionIndex': '1',\n",
       "   'txreceipt_status': '1',\n",
       "   'value': '10000000000000000000000'}]}"
      ]
     },
     "execution_count": 190,
     "metadata": {},
     "output_type": "execute_result"
    }
   ],
   "source": [
    "token_txs"
   ]
  },
  {
   "cell_type": "code",
   "execution_count": 192,
   "id": "d90a1f80-d71d-401a-916e-d363eec2ac12",
   "metadata": {},
   "outputs": [
    {
     "name": "stdout",
     "output_type": "stream",
     "text": [
      "url: https://explorer.rollux.com/api/v2/transactions/0xc97918add9a12c43eff2994d5cfe1ef3936c6783be9f5233d030e09938dc5d2d/state-changes\n"
     ]
    },
    {
     "data": {
      "text/plain": [
       "{'items': [{'address': {'ens_domain_name': None,\n",
       "    'hash': '0x8A4AA176007196D48d39C89402d3753c39AE64c1',\n",
       "    'implementation_name': None,\n",
       "    'is_contract': False,\n",
       "    'is_verified': None,\n",
       "    'metadata': None,\n",
       "    'name': None,\n",
       "    'private_tags': [],\n",
       "    'public_tags': [],\n",
       "    'watchlist_names': []},\n",
       "   'balance_after': '16965534851249765333187',\n",
       "   'balance_before': '16965534854763767090187',\n",
       "   'change': '-3514001757000',\n",
       "   'is_miner': False,\n",
       "   'token': None,\n",
       "   'token_id': None,\n",
       "   'type': 'coin'},\n",
       "  {'address': {'ens_domain_name': None,\n",
       "    'hash': '0x4200000000000000000000000000000000000011',\n",
       "    'implementation_name': None,\n",
       "    'is_contract': True,\n",
       "    'is_verified': None,\n",
       "    'metadata': None,\n",
       "    'name': 'Proxy',\n",
       "    'private_tags': [],\n",
       "    'public_tags': [],\n",
       "    'watchlist_names': []},\n",
       "   'balance_after': '244014252888299337109',\n",
       "   'balance_before': '244014249374299337109',\n",
       "   'change': '3514000000000',\n",
       "   'is_miner': True,\n",
       "   'token': None,\n",
       "   'token_id': None,\n",
       "   'type': 'coin'},\n",
       "  {'address': {'ens_domain_name': None,\n",
       "    'hash': '0x0000000000000000000000000000000000000000',\n",
       "    'implementation_name': None,\n",
       "    'is_contract': False,\n",
       "    'is_verified': False,\n",
       "    'metadata': None,\n",
       "    'name': None,\n",
       "    'private_tags': [],\n",
       "    'public_tags': [],\n",
       "    'watchlist_names': []},\n",
       "   'balance_after': '40000000000000000000000',\n",
       "   'balance_before': '0',\n",
       "   'change': '40000000000000000000000',\n",
       "   'is_miner': False,\n",
       "   'token': {'address': '0x4200000000000000000000000000000000000006',\n",
       "    'circulating_market_cap': None,\n",
       "    'decimals': '18',\n",
       "    'exchange_rate': None,\n",
       "    'holders': '270',\n",
       "    'icon_url': None,\n",
       "    'name': 'Wrapped Syscoin',\n",
       "    'symbol': 'WSYS',\n",
       "    'total_supply': '1981130310717978905518676',\n",
       "    'type': 'ERC-20',\n",
       "    'volume_24h': None},\n",
       "   'token_id': None,\n",
       "   'type': 'token'},\n",
       "  {'address': {'ens_domain_name': None,\n",
       "    'hash': '0x8A4AA176007196D48d39C89402d3753c39AE64c1',\n",
       "    'implementation_name': None,\n",
       "    'is_contract': False,\n",
       "    'is_verified': False,\n",
       "    'metadata': None,\n",
       "    'name': None,\n",
       "    'private_tags': [],\n",
       "    'public_tags': [],\n",
       "    'watchlist_names': []},\n",
       "   'balance_after': '65742771636449164370510',\n",
       "   'balance_before': '105742771636449164370510',\n",
       "   'change': '-40000000000000000000000',\n",
       "   'is_miner': False,\n",
       "   'token': {'address': '0x4200000000000000000000000000000000000006',\n",
       "    'circulating_market_cap': None,\n",
       "    'decimals': '18',\n",
       "    'exchange_rate': None,\n",
       "    'holders': '270',\n",
       "    'icon_url': None,\n",
       "    'name': 'Wrapped Syscoin',\n",
       "    'symbol': 'WSYS',\n",
       "    'total_supply': '1981130310717978905518676',\n",
       "    'type': 'ERC-20',\n",
       "    'volume_24h': None},\n",
       "   'token_id': None,\n",
       "   'type': 'token'}],\n",
       " 'next_page_params': None}"
      ]
     },
     "execution_count": 192,
     "metadata": {},
     "output_type": "execute_result"
    }
   ],
   "source": [
    "tx = token_txs[0][0]\n",
    "tx_hash = tx['hash']\n",
    "tx_state_changes = eth_rest.get_state_changes(tx_hash = tx_hash)\n",
    "tx_state_changes"
   ]
  },
  {
   "cell_type": "code",
   "execution_count": 193,
   "id": "f0c72271-eab1-424b-a9fc-7ff931f02882",
   "metadata": {},
   "outputs": [
    {
     "name": "stdout",
     "output_type": "stream",
     "text": [
      "url: https://explorer.rollux.com/api/v2/transactions/0xe3199d0905aedf669c467f71418d665d4d75ae317349b070880c8265f86b4501/state-changes\n"
     ]
    },
    {
     "data": {
      "text/plain": [
       "{'items': [{'address': {'ens_domain_name': None,\n",
       "    'hash': '0x8A4AA176007196D48d39C89402d3753c39AE64c1',\n",
       "    'implementation_name': None,\n",
       "    'is_contract': False,\n",
       "    'is_verified': None,\n",
       "    'metadata': None,\n",
       "    'name': None,\n",
       "    'private_tags': [],\n",
       "    'public_tags': [],\n",
       "    'watchlist_names': []},\n",
       "   'balance_after': '16965534848778812142511',\n",
       "   'balance_before': '56965534850878813192511',\n",
       "   'change': '-40000000002100001050000',\n",
       "   'is_miner': False,\n",
       "   'token': None,\n",
       "   'token_id': None,\n",
       "   'type': 'coin'},\n",
       "  {'address': {'ens_domain_name': None,\n",
       "    'hash': '0x440872cfDDaC749D9F201234395fC20ed5480A80',\n",
       "    'implementation_name': None,\n",
       "    'is_contract': False,\n",
       "    'is_verified': False,\n",
       "    'metadata': None,\n",
       "    'name': None,\n",
       "    'private_tags': [],\n",
       "    'public_tags': [],\n",
       "    'watchlist_names': []},\n",
       "   'balance_after': '40000035278877620882371',\n",
       "   'balance_before': '35278877620882371',\n",
       "   'change': '40000000000000000000000',\n",
       "   'is_miner': False,\n",
       "   'token': None,\n",
       "   'token_id': None,\n",
       "   'type': 'coin'},\n",
       "  {'address': {'ens_domain_name': None,\n",
       "    'hash': '0x4200000000000000000000000000000000000011',\n",
       "    'implementation_name': None,\n",
       "    'is_contract': True,\n",
       "    'is_verified': None,\n",
       "    'metadata': None,\n",
       "    'name': 'Proxy',\n",
       "    'private_tags': [],\n",
       "    'public_tags': [],\n",
       "    'watchlist_names': []},\n",
       "   'balance_after': '244113886760797239109',\n",
       "   'balance_before': '244113884660797239109',\n",
       "   'change': '2100000000000',\n",
       "   'is_miner': True,\n",
       "   'token': None,\n",
       "   'token_id': None,\n",
       "   'type': 'coin'}],\n",
       " 'next_page_params': None}"
      ]
     },
     "execution_count": 193,
     "metadata": {},
     "output_type": "execute_result"
    }
   ],
   "source": [
    "tx = token_txs[0][1]\n",
    "tx_hash = tx['hash']\n",
    "tx_state_changes = eth_rest.get_state_changes(tx_hash = tx_hash)\n",
    "tx_state_changes"
   ]
  },
  {
   "cell_type": "code",
   "execution_count": 93,
   "id": "f304b32a-c848-49fb-ab7f-6b4c3eb0a759",
   "metadata": {},
   "outputs": [
    {
     "data": {
      "text/plain": [
       "16900823"
      ]
     },
     "execution_count": 93,
     "metadata": {},
     "output_type": "execute_result"
    }
   ],
   "source": [
    "blk_num"
   ]
  },
  {
   "cell_type": "code",
   "execution_count": 145,
   "id": "a53c98a3-16fd-499a-8cb7-5c298fcd3b57",
   "metadata": {},
   "outputs": [],
   "source": [
    "df_tkn = pd.DataFrame(columns=['blk_num', 'symbol', 'address', 'type', 'tot_supply', 'decimals'])\n",
    "c = 0\n",
    "\n",
    "for n in range(len(tx_logs['items'])):\n",
    "\n",
    "    tx_hash = tx_logs['items'][n]['tx_hash']\n",
    "    blk_num = tx_logs['items'][n]['block_number']\n",
    "    tx_state_changes = eth_rest.get_state_changes(tx_hash = tx_hash)\n",
    "    \n",
    "    for k in range(len(tx_state_changes['items'])):\n",
    "        is_token = tx_state_changes['items'][k]['token'] != None\n",
    "        if(is_token):\n",
    "            tkn_symbol = tx_state_changes['items'][k]['token']['symbol']\n",
    "            tkn_addr = tx_state_changes['items'][k]['token']['address']\n",
    "            tkn_type = tx_state_changes['items'][k]['token']['type']\n",
    "            tkn_supply = int(tx_state_changes['items'][k]['token']['total_supply'])\n",
    "            decimals = int(tx_state_changes['items'][k]['token']['decimals'])\n",
    "            df_tkn.loc[c] = [blk_num, tkn_symbol,tkn_addr,tkn_type,tkn_supply,decimals, ]  \n",
    "            c+=1"
   ]
  },
  {
   "cell_type": "code",
   "execution_count": 146,
   "id": "34ac4ed2-7c2c-4de0-a37f-97a670d04aa7",
   "metadata": {},
   "outputs": [
    {
     "data": {
      "text/html": [
       "<div>\n",
       "<style scoped>\n",
       "    .dataframe tbody tr th:only-of-type {\n",
       "        vertical-align: middle;\n",
       "    }\n",
       "\n",
       "    .dataframe tbody tr th {\n",
       "        vertical-align: top;\n",
       "    }\n",
       "\n",
       "    .dataframe thead th {\n",
       "        text-align: right;\n",
       "    }\n",
       "</style>\n",
       "<table border=\"1\" class=\"dataframe\">\n",
       "  <thead>\n",
       "    <tr style=\"text-align: right;\">\n",
       "      <th></th>\n",
       "      <th>blk_num</th>\n",
       "      <th>symbol</th>\n",
       "      <th>address</th>\n",
       "      <th>type</th>\n",
       "      <th>tot_supply</th>\n",
       "      <th>decimals</th>\n",
       "    </tr>\n",
       "  </thead>\n",
       "  <tbody>\n",
       "  </tbody>\n",
       "</table>\n",
       "</div>"
      ],
      "text/plain": [
       "Empty DataFrame\n",
       "Columns: [blk_num, symbol, address, type, tot_supply, decimals]\n",
       "Index: []"
      ]
     },
     "execution_count": 146,
     "metadata": {},
     "output_type": "execute_result"
    }
   ],
   "source": [
    "df_tkn"
   ]
  },
  {
   "cell_type": "code",
   "execution_count": 147,
   "id": "06288c7e-9ae2-49d8-91fd-b67ea3e81cff",
   "metadata": {},
   "outputs": [
    {
     "data": {
      "text/plain": [
       "{'address': {'ens_domain_name': None,\n",
       "  'hash': '0x0000000000000000000000000000000000000000',\n",
       "  'implementation_name': None,\n",
       "  'is_contract': False,\n",
       "  'is_verified': False,\n",
       "  'metadata': None,\n",
       "  'name': None,\n",
       "  'private_tags': [],\n",
       "  'public_tags': [],\n",
       "  'watchlist_names': []},\n",
       " 'balance_after': '9436679066954267496348',\n",
       " 'balance_before': '0',\n",
       " 'change': '9436679066954267496348',\n",
       " 'is_miner': False,\n",
       " 'token': {'address': '0x4200000000000000000000000000000000000006',\n",
       "  'circulating_market_cap': None,\n",
       "  'decimals': '18',\n",
       "  'exchange_rate': None,\n",
       "  'holders': '270',\n",
       "  'icon_url': None,\n",
       "  'name': 'Wrapped Syscoin',\n",
       "  'symbol': 'WSYS',\n",
       "  'total_supply': '1981130310717978905518676',\n",
       "  'type': 'ERC-20',\n",
       "  'volume_24h': None},\n",
       " 'token_id': None,\n",
       " 'type': 'token'}"
      ]
     },
     "execution_count": 147,
     "metadata": {},
     "output_type": "execute_result"
    }
   ],
   "source": [
    "tx_state_changes['items'][2]"
   ]
  },
  {
   "cell_type": "code",
   "execution_count": 89,
   "id": "1ee5e8f8-a6f5-4a53-9c67-f7b2fccb4a29",
   "metadata": {},
   "outputs": [
    {
     "data": {
      "text/plain": [
       "{'address': {'ens_domain_name': None,\n",
       "  'hash': '0x368433CaC2A0B8D76E64681a9835502a1f2A8A30',\n",
       "  'implementation_name': None,\n",
       "  'is_contract': False,\n",
       "  'is_verified': None,\n",
       "  'metadata': None,\n",
       "  'name': None,\n",
       "  'private_tags': [],\n",
       "  'public_tags': [],\n",
       "  'watchlist_names': []},\n",
       " 'block_hash': '0x559b882a30c244decdd875a24312573fc490769389581646f982be501e43169f',\n",
       " 'block_number': 16900823,\n",
       " 'data': '0x0000000000000000000000000000000000000000000000000000000004490886',\n",
       " 'decoded': {'method_call': 'Transfer(address indexed from, address indexed to, uint256 value)',\n",
       "  'method_id': 'ddf252ad',\n",
       "  'parameters': [{'indexed': True,\n",
       "    'name': 'from',\n",
       "    'type': 'address',\n",
       "    'value': '0x391bca3c3c5a71e369d284b0cd81a7fe8c097e20'},\n",
       "   {'indexed': True,\n",
       "    'name': 'to',\n",
       "    'type': 'address',\n",
       "    'value': '0x197e0865e759235699a758c5428944964627cde1'},\n",
       "   {'indexed': False,\n",
       "    'name': 'value',\n",
       "    'type': 'uint256',\n",
       "    'value': '71895174'}]},\n",
       " 'index': 2,\n",
       " 'smart_contract': {'ens_domain_name': None,\n",
       "  'hash': '0xc3DA629c518404860c8893a66cE3Bb2e16bea6eC',\n",
       "  'implementation_name': None,\n",
       "  'is_contract': True,\n",
       "  'is_verified': None,\n",
       "  'metadata': None,\n",
       "  'name': None,\n",
       "  'private_tags': [],\n",
       "  'public_tags': [],\n",
       "  'watchlist_names': []},\n",
       " 'topics': ['0xddf252ad1be2c89b69c2b068fc378daa952ba7f163c4a11628f55a4df523b3ef',\n",
       "  '0x000000000000000000000000391bca3c3c5a71e369d284b0cd81a7fe8c097e20',\n",
       "  '0x000000000000000000000000197e0865e759235699a758c5428944964627cde1',\n",
       "  None],\n",
       " 'tx_hash': '0xcd311dde69aac0722d96ec91e3eae475a5fca6f218348386454fc51fc1fd2649'}"
      ]
     },
     "execution_count": 89,
     "metadata": {},
     "output_type": "execute_result"
    }
   ],
   "source": [
    "tx_logs['items'][0]"
   ]
  },
  {
   "cell_type": "code",
   "execution_count": 57,
   "id": "d9667feb-28bb-4bef-a052-567234bc511a",
   "metadata": {},
   "outputs": [
    {
     "name": "stdout",
     "output_type": "stream",
     "text": [
      "url: https://explorer.rollux.com/api/v2/transactions/0x91882cdf21295d2abd1968c83ca6fe9b6b261e6242d2fccca647f44e95bdc33e\n"
     ]
    },
    {
     "data": {
      "text/plain": [
       "{'timestamp': '2024-07-16T21:50:55.000000Z',\n",
       " 'fee': {'type': 'actual', 'value': '27144613572300'},\n",
       " 'gas_limit': '538728',\n",
       " 'block': 16900707,\n",
       " 'status': 'ok',\n",
       " 'method': '0xff030000',\n",
       " 'confirmations': 87,\n",
       " 'type': 0,\n",
       " 'exchange_rate': None,\n",
       " 'to': {'ens_domain_name': None,\n",
       "  'hash': '0xc3DA629c518404860c8893a66cE3Bb2e16bea6eC',\n",
       "  'implementation_name': None,\n",
       "  'is_contract': True,\n",
       "  'is_verified': False,\n",
       "  'metadata': None,\n",
       "  'name': None,\n",
       "  'private_tags': [],\n",
       "  'public_tags': [],\n",
       "  'watchlist_names': []},\n",
       " 'tx_burnt_fee': None,\n",
       " 'max_fee_per_gas': None,\n",
       " 'result': 'success',\n",
       " 'hash': '0x91882cdf21295d2abd1968c83ca6fe9b6b261e6242d2fccca647f44e95bdc33e',\n",
       " 'gas_price': '100000050',\n",
       " 'priority_fee': None,\n",
       " 'base_fee_per_gas': '50',\n",
       " 'from': {'ens_domain_name': None,\n",
       "  'hash': '0x90AEC88D228080103D14f7715FE453355e8170dB',\n",
       "  'implementation_name': None,\n",
       "  'is_contract': False,\n",
       "  'is_verified': None,\n",
       "  'metadata': None,\n",
       "  'name': None,\n",
       "  'private_tags': [],\n",
       "  'public_tags': [],\n",
       "  'watchlist_names': []},\n",
       " 'token_transfers': [{'block_hash': '0xbd7c9b4dfc502604108990d9ae1792968ec6b57dc40c77343ffbed10228144fd',\n",
       "   'from': {'ens_domain_name': None,\n",
       "    'hash': '0x391Bca3c3C5a71E369D284b0CD81A7Fe8C097e20',\n",
       "    'implementation_name': None,\n",
       "    'is_contract': True,\n",
       "    'is_verified': False,\n",
       "    'metadata': None,\n",
       "    'name': None,\n",
       "    'private_tags': [],\n",
       "    'public_tags': [],\n",
       "    'watchlist_names': []},\n",
       "   'log_index': '0',\n",
       "   'method': None,\n",
       "   'timestamp': None,\n",
       "   'to': {'ens_domain_name': None,\n",
       "    'hash': '0xc3DA629c518404860c8893a66cE3Bb2e16bea6eC',\n",
       "    'implementation_name': None,\n",
       "    'is_contract': True,\n",
       "    'is_verified': False,\n",
       "    'metadata': None,\n",
       "    'name': None,\n",
       "    'private_tags': [],\n",
       "    'public_tags': [],\n",
       "    'watchlist_names': []},\n",
       "   'token': {'address': '0x4200000000000000000000000000000000000006',\n",
       "    'circulating_market_cap': None,\n",
       "    'decimals': '18',\n",
       "    'exchange_rate': None,\n",
       "    'holders': '270',\n",
       "    'icon_url': None,\n",
       "    'name': 'Wrapped Syscoin',\n",
       "    'symbol': 'WSYS',\n",
       "    'total_supply': '1949556763476485167496878',\n",
       "    'type': 'ERC-20',\n",
       "    'volume_24h': None},\n",
       "   'total': {'decimals': '18', 'value': '12122070199966845'},\n",
       "   'tx_hash': '0x91882cdf21295d2abd1968c83ca6fe9b6b261e6242d2fccca647f44e95bdc33e',\n",
       "   'type': 'token_transfer'},\n",
       "  {'block_hash': '0xbd7c9b4dfc502604108990d9ae1792968ec6b57dc40c77343ffbed10228144fd',\n",
       "   'from': {'ens_domain_name': None,\n",
       "    'hash': '0x197e0865E759235699A758c5428944964627Cde1',\n",
       "    'implementation_name': None,\n",
       "    'is_contract': True,\n",
       "    'is_verified': False,\n",
       "    'metadata': None,\n",
       "    'name': None,\n",
       "    'private_tags': [],\n",
       "    'public_tags': [],\n",
       "    'watchlist_names': []},\n",
       "   'log_index': '1',\n",
       "   'method': None,\n",
       "   'timestamp': None,\n",
       "   'to': {'ens_domain_name': None,\n",
       "    'hash': '0x391Bca3c3C5a71E369D284b0CD81A7Fe8C097e20',\n",
       "    'implementation_name': None,\n",
       "    'is_contract': True,\n",
       "    'is_verified': False,\n",
       "    'metadata': None,\n",
       "    'name': None,\n",
       "    'private_tags': [],\n",
       "    'public_tags': [],\n",
       "    'watchlist_names': []},\n",
       "   'token': {'address': '0x368433CaC2A0B8D76E64681a9835502a1f2A8A30',\n",
       "    'circulating_market_cap': None,\n",
       "    'decimals': '6',\n",
       "    'exchange_rate': None,\n",
       "    'holders': '154',\n",
       "    'icon_url': None,\n",
       "    'name': 'USD Coin',\n",
       "    'symbol': 'USDC',\n",
       "    'total_supply': '350446540429',\n",
       "    'type': 'ERC-20',\n",
       "    'volume_24h': None},\n",
       "   'total': {'decimals': '6', 'value': '1492'},\n",
       "   'tx_hash': '0x91882cdf21295d2abd1968c83ca6fe9b6b261e6242d2fccca647f44e95bdc33e',\n",
       "   'type': 'token_transfer'},\n",
       "  {'block_hash': '0xbd7c9b4dfc502604108990d9ae1792968ec6b57dc40c77343ffbed10228144fd',\n",
       "   'from': {'ens_domain_name': None,\n",
       "    'hash': '0x43b5ABCee7B5a2EB8698fB42C1b0850F5D80D853',\n",
       "    'implementation_name': None,\n",
       "    'is_contract': True,\n",
       "    'is_verified': False,\n",
       "    'metadata': None,\n",
       "    'name': None,\n",
       "    'private_tags': [],\n",
       "    'public_tags': [],\n",
       "    'watchlist_names': []},\n",
       "   'log_index': '2',\n",
       "   'method': None,\n",
       "   'timestamp': None,\n",
       "   'to': {'ens_domain_name': None,\n",
       "    'hash': '0x197e0865E759235699A758c5428944964627Cde1',\n",
       "    'implementation_name': None,\n",
       "    'is_contract': True,\n",
       "    'is_verified': False,\n",
       "    'metadata': None,\n",
       "    'name': None,\n",
       "    'private_tags': [],\n",
       "    'public_tags': [],\n",
       "    'watchlist_names': []},\n",
       "   'token': {'address': '0x28c9c7Fb3fE3104d2116Af26cC8eF7905547349c',\n",
       "    'circulating_market_cap': None,\n",
       "    'decimals': '6',\n",
       "    'exchange_rate': None,\n",
       "    'holders': '187',\n",
       "    'icon_url': None,\n",
       "    'name': 'Tether',\n",
       "    'symbol': 'USDT',\n",
       "    'total_supply': '250584719374',\n",
       "    'type': 'ERC-20',\n",
       "    'volume_24h': None},\n",
       "   'total': {'decimals': '6', 'value': '1495'},\n",
       "   'tx_hash': '0x91882cdf21295d2abd1968c83ca6fe9b6b261e6242d2fccca647f44e95bdc33e',\n",
       "   'type': 'token_transfer'},\n",
       "  {'block_hash': '0xbd7c9b4dfc502604108990d9ae1792968ec6b57dc40c77343ffbed10228144fd',\n",
       "   'from': {'ens_domain_name': None,\n",
       "    'hash': '0xc3DA629c518404860c8893a66cE3Bb2e16bea6eC',\n",
       "    'implementation_name': None,\n",
       "    'is_contract': True,\n",
       "    'is_verified': False,\n",
       "    'metadata': None,\n",
       "    'name': None,\n",
       "    'private_tags': [],\n",
       "    'public_tags': [],\n",
       "    'watchlist_names': []},\n",
       "   'log_index': '3',\n",
       "   'method': None,\n",
       "   'timestamp': None,\n",
       "   'to': {'ens_domain_name': None,\n",
       "    'hash': '0x43b5ABCee7B5a2EB8698fB42C1b0850F5D80D853',\n",
       "    'implementation_name': None,\n",
       "    'is_contract': True,\n",
       "    'is_verified': False,\n",
       "    'metadata': None,\n",
       "    'name': None,\n",
       "    'private_tags': [],\n",
       "    'public_tags': [],\n",
       "    'watchlist_names': []},\n",
       "   'token': {'address': '0x4200000000000000000000000000000000000006',\n",
       "    'circulating_market_cap': None,\n",
       "    'decimals': '18',\n",
       "    'exchange_rate': None,\n",
       "    'holders': '270',\n",
       "    'icon_url': None,\n",
       "    'name': 'Wrapped Syscoin',\n",
       "    'symbol': 'WSYS',\n",
       "    'total_supply': '1949556763476485167496878',\n",
       "    'type': 'ERC-20',\n",
       "    'volume_24h': None},\n",
       "   'total': {'decimals': '18', 'value': '12056764986528899'},\n",
       "   'tx_hash': '0x91882cdf21295d2abd1968c83ca6fe9b6b261e6242d2fccca647f44e95bdc33e',\n",
       "   'type': 'token_transfer'},\n",
       "  {'block_hash': '0xbd7c9b4dfc502604108990d9ae1792968ec6b57dc40c77343ffbed10228144fd',\n",
       "   'from': {'ens_domain_name': None,\n",
       "    'hash': '0xc3DA629c518404860c8893a66cE3Bb2e16bea6eC',\n",
       "    'implementation_name': None,\n",
       "    'is_contract': True,\n",
       "    'is_verified': False,\n",
       "    'metadata': None,\n",
       "    'name': None,\n",
       "    'private_tags': [],\n",
       "    'public_tags': [],\n",
       "    'watchlist_names': []},\n",
       "   'log_index': '7',\n",
       "   'method': None,\n",
       "   'timestamp': None,\n",
       "   'to': {'ens_domain_name': None,\n",
       "    'hash': '0x31C798AC8159568D44c7F0C8678bF6FDC4cAF57C',\n",
       "    'implementation_name': None,\n",
       "    'is_contract': False,\n",
       "    'is_verified': False,\n",
       "    'metadata': None,\n",
       "    'name': None,\n",
       "    'private_tags': [],\n",
       "    'public_tags': [],\n",
       "    'watchlist_names': []},\n",
       "   'token': {'address': '0x4200000000000000000000000000000000000006',\n",
       "    'circulating_market_cap': None,\n",
       "    'decimals': '18',\n",
       "    'exchange_rate': None,\n",
       "    'holders': '270',\n",
       "    'icon_url': None,\n",
       "    'name': 'Wrapped Syscoin',\n",
       "    'symbol': 'WSYS',\n",
       "    'total_supply': '1949556763476485167496878',\n",
       "    'type': 'ERC-20',\n",
       "    'volume_24h': None},\n",
       "   'total': {'decimals': '18', 'value': '65305213437946'},\n",
       "   'tx_hash': '0x91882cdf21295d2abd1968c83ca6fe9b6b261e6242d2fccca647f44e95bdc33e',\n",
       "   'type': 'token_transfer'}],\n",
       " 'tx_types': ['contract_call', 'token_transfer'],\n",
       " 'gas_used': '271446',\n",
       " 'created_contract': None,\n",
       " 'position': 1,\n",
       " 'nonce': 38364,\n",
       " 'has_error_in_internal_txs': None,\n",
       " 'actions': [],\n",
       " 'decoded_input': None,\n",
       " 'token_transfers_overflow': False,\n",
       " 'raw_input': '0xff0300000000000000000000187f9f5b362843b5abcee7b5a2eb8698fb42c1b0850f5d80d85342000000000000000000000000000000000000060182b80000000000000010197e0865e759235699a758c5428944964627cde128c9c7fb3fe3104d2116af26cc8ef7905547349c01866e00000001000003e4391bca3c3c5a71e369d284b0cd81a7fe8c097e20368433cac2a0b8d76e64681a9835502a1f2a8a3001857400000001000001ab',\n",
       " 'value': '0',\n",
       " 'max_priority_fee_per_gas': None,\n",
       " 'revert_reason': None,\n",
       " 'confirmation_duration': [0, 2000.0],\n",
       " 'tx_tag': None}"
      ]
     },
     "execution_count": 57,
     "metadata": {},
     "output_type": "execute_result"
    }
   ],
   "source": [
    "eth_rest.get_transaction_info(tx_hash = tx_hash)"
   ]
  },
  {
   "cell_type": "code",
   "execution_count": 45,
   "id": "e66b3e6b-d2ce-48cc-acf3-5cc525b57b62",
   "metadata": {},
   "outputs": [
    {
     "name": "stdout",
     "output_type": "stream",
     "text": [
      "url: https://explorer.rollux.com/api/v2/transactions/0xc35aaf4e6e7cadf16da3ee92e964f2cd9db79442ff41c715ecc2dfaf048b4656/logs\n"
     ]
    },
    {
     "data": {
      "text/plain": [
       "{'items': [{'address': {'ens_domain_name': None,\n",
       "    'hash': '0x368433CaC2A0B8D76E64681a9835502a1f2A8A30',\n",
       "    'implementation_name': None,\n",
       "    'is_contract': True,\n",
       "    'is_verified': False,\n",
       "    'metadata': None,\n",
       "    'name': 'USD Coin',\n",
       "    'private_tags': [],\n",
       "    'public_tags': [],\n",
       "    'watchlist_names': []},\n",
       "   'block_hash': '0x209a5f044f27042ef42b66363f0706ca05f2fbd7d489a07f3f511b455fb98cdd',\n",
       "   'block_number': 16866834,\n",
       "   'data': '0x00000000000000000000000000000000000000000000000000000000ee6b2800',\n",
       "   'decoded': {'method_call': 'Approval(address indexed owner, address indexed spender, uint256 value)',\n",
       "    'method_id': '8c5be1e5',\n",
       "    'parameters': [{'indexed': True,\n",
       "      'name': 'owner',\n",
       "      'type': 'address',\n",
       "      'value': '0x6a743dda477b7e356a699ffa28a4564ff55ba527'},\n",
       "     {'indexed': True,\n",
       "      'name': 'spender',\n",
       "      'type': 'address',\n",
       "      'value': '0x000000000022d473030f116ddee9f6b43ac78ba3'},\n",
       "     {'indexed': False,\n",
       "      'name': 'value',\n",
       "      'type': 'uint256',\n",
       "      'value': '4000000000'}]},\n",
       "   'index': 0,\n",
       "   'smart_contract': None,\n",
       "   'topics': ['0x8c5be1e5ebec7d5bd14f71427d1e84f3dd0314c0f7b2291e5b200ac8c7c3b925',\n",
       "    '0x0000000000000000000000006a743dda477b7e356a699ffa28a4564ff55ba527',\n",
       "    '0x000000000000000000000000000000000022d473030f116ddee9f6b43ac78ba3',\n",
       "    None],\n",
       "   'tx_hash': '0xc35aaf4e6e7cadf16da3ee92e964f2cd9db79442ff41c715ecc2dfaf048b4656'}],\n",
       " 'next_page_params': None}"
      ]
     },
     "execution_count": 45,
     "metadata": {},
     "output_type": "execute_result"
    }
   ],
   "source": [
    "eth_rest.get_transaction_logs(tx_hash = tx_hash)"
   ]
  },
  {
   "cell_type": "code",
   "execution_count": null,
   "id": "3a5e3c12-af4c-43b1-930e-a16cc6259eff",
   "metadata": {},
   "outputs": [],
   "source": [
    "eth_rest.get_address_info(address = tkn_addr)"
   ]
  },
  {
   "cell_type": "code",
   "execution_count": 19,
   "id": "84d9fa7f-581b-4b71-98af-9cd6d014ff4b",
   "metadata": {},
   "outputs": [
    {
     "name": "stdout",
     "output_type": "stream",
     "text": [
      "url: https://explorer.rollux.com/api?module=account&action=tokenlist&address=0x368433CaC2A0B8D76E64681a9835502a1f2A8A30\n"
     ]
    },
    {
     "data": {
      "text/plain": [
       "{'message': 'No tokens found', 'result': [], 'status': '0'}"
      ]
     },
     "execution_count": 19,
     "metadata": {},
     "output_type": "execute_result"
    }
   ],
   "source": [
    "eth_rpc.get_erc20_tokens_by_address(address=tkn_addr)"
   ]
  },
  {
   "cell_type": "code",
   "execution_count": 18,
   "id": "5effef76-d948-4642-8415-b60396fd58aa",
   "metadata": {},
   "outputs": [
    {
     "name": "stdout",
     "output_type": "stream",
     "text": [
      "url: https://explorer.rollux.com/api?module=account&action=tokentx&address=0x368433CaC2A0B8D76E64681a9835502a1f2A8A30&page=1&offset=1&sort=asc\n"
     ]
    },
    {
     "data": {
      "text/plain": [
       "{'message': 'No token transfers found', 'result': [], 'status': '0'}"
      ]
     },
     "execution_count": 18,
     "metadata": {},
     "output_type": "execute_result"
    }
   ],
   "source": [
    "eth_rpc.get_erc20_token_transfer_events_by_address(address=tkn_addr, page=1, offset=1, sort=\"asc\")"
   ]
  },
  {
   "cell_type": "code",
   "execution_count": null,
   "id": "f20779aa-648f-4106-b26c-75b9b2404672",
   "metadata": {},
   "outputs": [],
   "source": [
    "eth_rpc.get_txs_by_address_paginated(address=tkn_addr, startblock=16550000, endblock=16555563, page=1, offset=1, sort=\"asc\")"
   ]
  },
  {
   "cell_type": "code",
   "execution_count": null,
   "id": "95f50731-ae3c-4ff4-bc80-107fa7569620",
   "metadata": {},
   "outputs": [],
   "source": [
    "eth_rpc.get_account_list_balances(address=tkn_addr, page=1, offset=1)"
   ]
  },
  {
   "cell_type": "code",
   "execution_count": null,
   "id": "7be01015-b5cc-4e47-bea1-67df9070d688",
   "metadata": {},
   "outputs": [],
   "source": [
    "eth_rest.get_address_counters(address = tkn_addr)"
   ]
  },
  {
   "cell_type": "code",
   "execution_count": null,
   "id": "8ba4e7cc-47a5-435d-8b9f-d77f181e6dbc",
   "metadata": {},
   "outputs": [],
   "source": [
    "#eth_rest.get_address_transactions(address = psys_addr)"
   ]
  },
  {
   "cell_type": "code",
   "execution_count": null,
   "id": "928cc84f-1233-4010-b8a3-3aa8fd097eab",
   "metadata": {},
   "outputs": [],
   "source": [
    "#eth_rest.get_address_logs(address = psys_addr)"
   ]
  },
  {
   "cell_type": "code",
   "execution_count": null,
   "id": "36b5f9a8-eff9-404e-a4ae-6f3fa5f10378",
   "metadata": {},
   "outputs": [],
   "source": [
    "eth_rest.get_blocks_validated(address = tkn_addr)"
   ]
  },
  {
   "cell_type": "code",
   "execution_count": null,
   "id": "d1c3b3eb-dd76-4a61-b2c0-ad874f633734",
   "metadata": {},
   "outputs": [],
   "source": [
    "eth_rest.get_token_balances(address = tkn_addr)"
   ]
  },
  {
   "cell_type": "code",
   "execution_count": null,
   "id": "55da3dfa-2864-4319-9890-a1aa6bffc047",
   "metadata": {},
   "outputs": [],
   "source": [
    "eth_rest.get_token_balances_with_filtering(address = tkn_addr)"
   ]
  },
  {
   "cell_type": "code",
   "execution_count": null,
   "id": "203e573b-e232-49d7-862b-344c91ddd8fa",
   "metadata": {},
   "outputs": [],
   "source": [
    "eth_rest.get_coin_balance_history(address = tkn_addr)"
   ]
  },
  {
   "cell_type": "code",
   "execution_count": null,
   "id": "2c24c268-07ef-4ddc-969c-d692a78f5bb3",
   "metadata": {},
   "outputs": [],
   "source": [
    "eth_rest.get_coin_balance_history(address = tkn_addr)"
   ]
  }
 ],
 "metadata": {
  "kernelspec": {
   "display_name": "Python 3 (ipykernel)",
   "language": "python",
   "name": "python3"
  },
  "language_info": {
   "codemirror_mode": {
    "name": "ipython",
    "version": 3
   },
   "file_extension": ".py",
   "mimetype": "text/x-python",
   "name": "python",
   "nbconvert_exporter": "python",
   "pygments_lexer": "ipython3",
   "version": "3.10.0rc2"
  }
 },
 "nbformat": 4,
 "nbformat_minor": 5
}
