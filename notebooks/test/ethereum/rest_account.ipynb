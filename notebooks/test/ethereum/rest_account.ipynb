{
 "cells": [
  {
   "cell_type": "code",
   "execution_count": 1,
   "id": "a680857f-e2a5-4f32-8cdd-ffa3c3dcef52",
   "metadata": {},
   "outputs": [],
   "source": [
    "from blockscout import Blockscout\n",
    "from blockscout import TokenTransfers\n",
    "from blockscout import Net\n",
    "from blockscout import API\n",
    "\n",
    "eth_rest = Blockscout(Net.ETH, API.REST) "
   ]
  },
  {
   "cell_type": "code",
   "execution_count": 3,
   "id": "e633181f-0606-4d8b-904b-d925b5f89016",
   "metadata": {},
   "outputs": [],
   "source": [
    "eth_rest.get_addresses()"
   ]
  },
  {
   "cell_type": "code",
   "execution_count": null,
   "id": "98f63940-9094-45d4-b2ba-2726129aa9e9",
   "metadata": {},
   "outputs": [],
   "source": [
    "eth_rest.get_coin_balance_history_by_day(address = '0x8A4AA176007196D48d39C89402d3753c39AE64c1')"
   ]
  },
  {
   "cell_type": "code",
   "execution_count": null,
   "id": "be732706-8960-436f-ad52-1368eba81a23",
   "metadata": {},
   "outputs": [],
   "source": [
    "#eth_rest.get_coin_balance_history(address = '0x8A4AA176007196D48d39C89402d3753c39AE64c1')"
   ]
  },
  {
   "cell_type": "code",
   "execution_count": null,
   "id": "86ca832a-3b88-4604-be72-1e7f4ba12f02",
   "metadata": {},
   "outputs": [],
   "source": [
    "eth_rest.get_token_balances_with_filtering(address = '0x48023b16c3e81AA7F6eFFbdEB35Bb83f4f31a8fd')"
   ]
  },
  {
   "cell_type": "code",
   "execution_count": null,
   "id": "01f22696-1cc6-4dc6-aa35-d27f14f69782",
   "metadata": {},
   "outputs": [],
   "source": [
    "eth_rest.get_token_balances(address = '0x8A4AA176007196D48d39C89402d3753c39AE64c1')"
   ]
  },
  {
   "cell_type": "code",
   "execution_count": null,
   "id": "3b88f942-8dae-41fe-a3c2-bd43d4621cb8",
   "metadata": {},
   "outputs": [],
   "source": [
    "#eth_rest.get_blocks_validated(address = '0x4200000000000000000000000000000000000011')"
   ]
  },
  {
   "cell_type": "code",
   "execution_count": null,
   "id": "eabf3f95-9498-4fac-851c-71d57e615cde",
   "metadata": {},
   "outputs": [],
   "source": [
    "#eth_rest.get_address_logs(address = '0x48023b16c3e81AA7F6eFFbdEB35Bb83f4f31a8fd')"
   ]
  },
  {
   "cell_type": "code",
   "execution_count": null,
   "id": "e018b6a9-99cc-4856-b07c-685b1f750901",
   "metadata": {},
   "outputs": [],
   "source": [
    "#eth_rest.get_address_transactions(address = '0x8A4AA176007196D48d39C89402d3753c39AE64c1')"
   ]
  },
  {
   "cell_type": "code",
   "execution_count": null,
   "id": "8c90e868-bd53-4186-bc68-1ca11968ae34",
   "metadata": {},
   "outputs": [],
   "source": [
    "eth_rest.get_address_counters(address = '0x8A4AA176007196D48d39C89402d3753c39AE64c1')"
   ]
  },
  {
   "cell_type": "code",
   "execution_count": null,
   "id": "9acdc2af-5d1a-46c5-bc65-684f48325507",
   "metadata": {},
   "outputs": [],
   "source": [
    "eth_rest.get_address_info(address = '0x8A4AA176007196D48d39C89402d3753c39AE64c1')"
   ]
  }
 ],
 "metadata": {
  "kernelspec": {
   "display_name": "Python 3 (ipykernel)",
   "language": "python",
   "name": "python3"
  },
  "language_info": {
   "codemirror_mode": {
    "name": "ipython",
    "version": 3
   },
   "file_extension": ".py",
   "mimetype": "text/x-python",
   "name": "python",
   "nbconvert_exporter": "python",
   "pygments_lexer": "ipython3",
   "version": "3.10.0rc2"
  }
 },
 "nbformat": 4,
 "nbformat_minor": 5
}
