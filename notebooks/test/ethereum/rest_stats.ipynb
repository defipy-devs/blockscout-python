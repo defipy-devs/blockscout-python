{
 "cells": [
  {
   "cell_type": "code",
   "execution_count": 13,
   "id": "fb376097-418e-40ed-b8b5-485186c4601f",
   "metadata": {},
   "outputs": [],
   "source": [
    "from blockscout import Blockscout\n",
    "from blockscout import TokenTransfers\n",
    "from blockscout import Net\n",
    "from blockscout import API\n",
    "\n",
    "vitalik_addr = '0xd8da6bf26964af9d7eed9e03e53415d37aa96045'\n",
    "usdc_addr = '0xA0b86991c6218b36c1d19D4a2e9Eb0cE3606eB48'\n",
    "\n",
    "eth_rest = Blockscout(Net.ETH, API.REST)"
   ]
  },
  {
   "cell_type": "code",
   "execution_count": 14,
   "id": "d804ad2f-52de-4e60-b8c6-316c3595a718",
   "metadata": {},
   "outputs": [
    {
     "name": "stdout",
     "output_type": "stream",
     "text": [
      "url: https://eth.blockscout.com/api/v2/stats\n"
     ]
    },
    {
     "data": {
      "text/plain": [
       "{'average_block_time': 12121.0,\n",
       " 'coin_image': 'https://coin-images.coingecko.com/coins/images/279/small/ethereum.png?1696501628',\n",
       " 'coin_price': '3183.09',\n",
       " 'coin_price_change_percentage': -8.23,\n",
       " 'gas_price_updated_at': '2024-07-25T22:17:08.311919Z',\n",
       " 'gas_prices': {'slow': 2.64, 'average': 3.06, 'fast': 5.19},\n",
       " 'gas_prices_update_in': 11262,\n",
       " 'gas_used_today': '108529804266',\n",
       " 'market_cap': '382723252328.5726392',\n",
       " 'network_utilization_percentage': 49.59659871176049,\n",
       " 'secondary_coin_price': None,\n",
       " 'static_gas_price': None,\n",
       " 'total_addresses': '341326392',\n",
       " 'total_blocks': '20385967',\n",
       " 'total_gas_used': '0',\n",
       " 'total_transactions': '2454034164',\n",
       " 'transactions_today': '1134866',\n",
       " 'tvl': None}"
      ]
     },
     "execution_count": 14,
     "metadata": {},
     "output_type": "execute_result"
    }
   ],
   "source": [
    "eth_rest.get_stats_counters()"
   ]
  },
  {
   "cell_type": "code",
   "execution_count": 15,
   "id": "8457077c-9a9d-48c2-9338-87327562962b",
   "metadata": {},
   "outputs": [
    {
     "name": "stdout",
     "output_type": "stream",
     "text": [
      "url: https://eth.blockscout.com/api/v2/stats/charts/transactions\n"
     ]
    },
    {
     "data": {
      "text/plain": [
       "{'chart_data': [{'date': '2024-07-24', 'tx_count': 1134866},\n",
       "  {'date': '2024-07-23', 'tx_count': 1153902},\n",
       "  {'date': '2024-07-22', 'tx_count': 1151644},\n",
       "  {'date': '2024-07-21', 'tx_count': 1110270},\n",
       "  {'date': '2024-07-20', 'tx_count': 1106616},\n",
       "  {'date': '2024-07-19', 'tx_count': 1143856},\n",
       "  {'date': '2024-07-18', 'tx_count': 1182851},\n",
       "  {'date': '2024-07-17', 'tx_count': 1187807},\n",
       "  {'date': '2024-07-16', 'tx_count': 1199231},\n",
       "  {'date': '2024-07-15', 'tx_count': 1156527},\n",
       "  {'date': '2024-07-14', 'tx_count': 1083315},\n",
       "  {'date': '2024-07-13', 'tx_count': 1144777},\n",
       "  {'date': '2024-07-12', 'tx_count': 1187781},\n",
       "  {'date': '2024-07-11', 'tx_count': 1191598},\n",
       "  {'date': '2024-07-10', 'tx_count': 1175921},\n",
       "  {'date': '2024-07-09', 'tx_count': 1152066},\n",
       "  {'date': '2024-07-08', 'tx_count': 1137916},\n",
       "  {'date': '2024-07-07', 'tx_count': 1028693},\n",
       "  {'date': '2024-07-06', 'tx_count': 1138172},\n",
       "  {'date': '2024-07-05', 'tx_count': 1237378},\n",
       "  {'date': '2024-07-04', 'tx_count': 1241436},\n",
       "  {'date': '2024-07-03', 'tx_count': 1152170},\n",
       "  {'date': '2024-07-02', 'tx_count': 1136268},\n",
       "  {'date': '2024-07-01', 'tx_count': 1155800},\n",
       "  {'date': '2024-06-30', 'tx_count': 1123130},\n",
       "  {'date': '2024-06-29', 'tx_count': 1142766},\n",
       "  {'date': '2024-06-28', 'tx_count': 1176024},\n",
       "  {'date': '2024-06-27', 'tx_count': 1173878},\n",
       "  {'date': '2024-06-26', 'tx_count': 1248439},\n",
       "  {'date': '2024-06-25', 'tx_count': 1194045},\n",
       "  {'date': '2024-06-24', 'tx_count': 1159004}]}"
      ]
     },
     "execution_count": 15,
     "metadata": {},
     "output_type": "execute_result"
    }
   ],
   "source": [
    "eth_rest.get_stats_transactions_chart()"
   ]
  }
 ],
 "metadata": {
  "kernelspec": {
   "display_name": "Python 3 (ipykernel)",
   "language": "python",
   "name": "python3"
  },
  "language_info": {
   "codemirror_mode": {
    "name": "ipython",
    "version": 3
   },
   "file_extension": ".py",
   "mimetype": "text/x-python",
   "name": "python",
   "nbconvert_exporter": "python",
   "pygments_lexer": "ipython3",
   "version": "3.10.0rc2"
  }
 },
 "nbformat": 4,
 "nbformat_minor": 5
}
