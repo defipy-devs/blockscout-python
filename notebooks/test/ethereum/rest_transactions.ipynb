{
 "cells": [
  {
   "cell_type": "code",
   "execution_count": 41,
   "id": "d7c1fe29-80d8-45bf-8f87-851fa13c5aa5",
   "metadata": {},
   "outputs": [],
   "source": [
    "from blockscout import Blockscout\n",
    "from blockscout import TokenTransfers\n",
    "from blockscout import Net\n",
    "from blockscout import API\n",
    "\n",
    "vitalik_addr = '0xd8da6bf26964af9d7eed9e03e53415d37aa96045'\n",
    "usdc_addr = '0xA0b86991c6218b36c1d19D4a2e9Eb0cE3606eB48'\n",
    "\n",
    "eth_rest = Blockscout(Net.ETH, API.REST)"
   ]
  },
  {
   "cell_type": "code",
   "execution_count": 19,
   "id": "8bf60cd0-efd1-4333-b52c-cf1c12c59ba4",
   "metadata": {},
   "outputs": [],
   "source": [
    "#eth_rest.get_main_page_transactions()"
   ]
  },
  {
   "cell_type": "code",
   "execution_count": 42,
   "id": "cf09c06e-6127-4519-b052-91290cc964bc",
   "metadata": {},
   "outputs": [
    {
     "name": "stdout",
     "output_type": "stream",
     "text": [
      "url: https://eth.blockscout.com/api/v2/transactions/0x53dd071a03c75c0daec1888f31669b41b69a90087e325f1707f1d8b0591f6b31\n"
     ]
    },
    {
     "data": {
      "text/plain": [
       "{'timestamp': '2024-07-25T22:16:11.000000Z',\n",
       " 'fee': {'type': 'actual', 'value': '41823259641810'},\n",
       " 'gas_limit': '22111',\n",
       " 'block': 20386484,\n",
       " 'status': 'ok',\n",
       " 'method': None,\n",
       " 'confirmations': 13,\n",
       " 'type': 2,\n",
       " 'exchange_rate': '3183.09',\n",
       " 'to': {'ens_domain_name': None,\n",
       "  'hash': '0x388C818CA8B9251b393131C08a736A67ccB19297',\n",
       "  'implementation_address': None,\n",
       "  'implementation_name': None,\n",
       "  'implementations': [],\n",
       "  'is_contract': True,\n",
       "  'is_verified': True,\n",
       "  'metadata': {'tags': [{'meta': {},\n",
       "     'name': 'Lido: Execution Layer Rewards Vault',\n",
       "     'ordinal': 10,\n",
       "     'slug': 'lido-execution-layer-rewards-vault',\n",
       "     'tagType': 'name'}]},\n",
       "  'name': 'LidoExecutionLayerRewardsVault',\n",
       "  'private_tags': [],\n",
       "  'public_tags': [],\n",
       "  'watchlist_names': []},\n",
       " 'tx_burnt_fee': '41823259641810',\n",
       " 'max_fee_per_gas': '1891513710',\n",
       " 'result': 'success',\n",
       " 'hash': '0x53dd071a03c75c0daec1888f31669b41b69a90087e325f1707f1d8b0591f6b31',\n",
       " 'gas_price': '1891513710',\n",
       " 'priority_fee': '0',\n",
       " 'base_fee_per_gas': '1891513710',\n",
       " 'from': {'ens_domain_name': None,\n",
       "  'hash': '0xa83114A443dA1CecEFC50368531cACE9F37fCCcb',\n",
       "  'implementation_address': None,\n",
       "  'implementation_name': None,\n",
       "  'implementations': [],\n",
       "  'is_contract': False,\n",
       "  'is_verified': False,\n",
       "  'metadata': None,\n",
       "  'name': None,\n",
       "  'private_tags': [],\n",
       "  'public_tags': [],\n",
       "  'watchlist_names': []},\n",
       " 'token_transfers': [],\n",
       " 'tx_types': ['coin_transfer', 'contract_call'],\n",
       " 'gas_used': '22111',\n",
       " 'created_contract': None,\n",
       " 'position': 155,\n",
       " 'nonce': 56740,\n",
       " 'has_error_in_internal_txs': False,\n",
       " 'actions': [],\n",
       " 'decoded_input': None,\n",
       " 'token_transfers_overflow': False,\n",
       " 'raw_input': '0x',\n",
       " 'value': '23508652832296369',\n",
       " 'max_priority_fee_per_gas': '0',\n",
       " 'revert_reason': None,\n",
       " 'confirmation_duration': [0, 12121.0],\n",
       " 'tx_tag': None}"
      ]
     },
     "execution_count": 42,
     "metadata": {},
     "output_type": "execute_result"
    }
   ],
   "source": [
    "eth_rest.get_transaction_info(tx_hash = \"0x53dd071a03c75c0daec1888f31669b41b69a90087e325f1707f1d8b0591f6b31\")"
   ]
  },
  {
   "cell_type": "code",
   "execution_count": 43,
   "id": "52088cce-df88-48a1-b351-5382e4087201",
   "metadata": {},
   "outputs": [
    {
     "name": "stdout",
     "output_type": "stream",
     "text": [
      "url: https://eth.blockscout.com/api/v2/transactions/0x53dd071a03c75c0daec1888f31669b41b69a90087e325f1707f1d8b0591f6b31/token-transfers?type=ERC-20%2CERC-721%2CERC-1155\n"
     ]
    },
    {
     "data": {
      "text/plain": [
       "{'items': [], 'next_page_params': None}"
      ]
     },
     "execution_count": 43,
     "metadata": {},
     "output_type": "execute_result"
    }
   ],
   "source": [
    "eth_rest.get_token_hash_transfers(tx_hash = \"0x53dd071a03c75c0daec1888f31669b41b69a90087e325f1707f1d8b0591f6b31\")"
   ]
  },
  {
   "cell_type": "code",
   "execution_count": 44,
   "id": "7250d6d5-0c55-4a37-bcc9-26f495b6be9f",
   "metadata": {},
   "outputs": [
    {
     "name": "stdout",
     "output_type": "stream",
     "text": [
      "url: https://eth.blockscout.com/api/v2/transactions/0x53dd071a03c75c0daec1888f31669b41b69a90087e325f1707f1d8b0591f6b31/internal-transactions\n"
     ]
    },
    {
     "data": {
      "text/plain": [
       "{'items': [], 'next_page_params': None}"
      ]
     },
     "execution_count": 44,
     "metadata": {},
     "output_type": "execute_result"
    }
   ],
   "source": [
    "eth_rest.get_internal_transactions(tx_hash = \"0x53dd071a03c75c0daec1888f31669b41b69a90087e325f1707f1d8b0591f6b31\")"
   ]
  },
  {
   "cell_type": "code",
   "execution_count": 45,
   "id": "3f970862-1879-433b-b3ce-f1ec9b94bade",
   "metadata": {},
   "outputs": [
    {
     "name": "stdout",
     "output_type": "stream",
     "text": [
      "url: https://eth.blockscout.com/api/v2/transactions/0x53dd071a03c75c0daec1888f31669b41b69a90087e325f1707f1d8b0591f6b31/logs\n"
     ]
    },
    {
     "data": {
      "text/plain": [
       "{'items': [{'address': {'ens_domain_name': None,\n",
       "    'hash': '0x388C818CA8B9251b393131C08a736A67ccB19297',\n",
       "    'implementation_address': None,\n",
       "    'implementation_name': None,\n",
       "    'implementations': [],\n",
       "    'is_contract': True,\n",
       "    'is_verified': True,\n",
       "    'metadata': {'tags': [{'meta': {},\n",
       "       'name': 'Lido: Execution Layer Rewards Vault',\n",
       "       'ordinal': 10,\n",
       "       'slug': 'lido-execution-layer-rewards-vault',\n",
       "       'tagType': 'name'}]},\n",
       "    'name': 'LidoExecutionLayerRewardsVault',\n",
       "    'private_tags': [],\n",
       "    'public_tags': [],\n",
       "    'watchlist_names': []},\n",
       "   'block_hash': '0x4ecb260c3d151a5ca40beaaeb0d989b7bcdd4295a6e8e71c9953b87c3892233d',\n",
       "   'block_number': 20386484,\n",
       "   'data': '0x000000000000000000000000000000000000000000000000005384fec5378db1',\n",
       "   'decoded': {'method_call': 'ETHReceived(uint256 amount)',\n",
       "    'method_id': '27f12abf',\n",
       "    'parameters': [{'indexed': False,\n",
       "      'name': 'amount',\n",
       "      'type': 'uint256',\n",
       "      'value': '23508652832296369'}]},\n",
       "   'index': 335,\n",
       "   'smart_contract': None,\n",
       "   'topics': ['0x27f12abfe35860a9a927b465bb3d4a9c23c8428174b83f278fe45ed7b4da2662',\n",
       "    None,\n",
       "    None,\n",
       "    None],\n",
       "   'tx_hash': '0x53dd071a03c75c0daec1888f31669b41b69a90087e325f1707f1d8b0591f6b31'}],\n",
       " 'next_page_params': None}"
      ]
     },
     "execution_count": 45,
     "metadata": {},
     "output_type": "execute_result"
    }
   ],
   "source": [
    "eth_rest.get_transaction_logs(tx_hash = \"0x53dd071a03c75c0daec1888f31669b41b69a90087e325f1707f1d8b0591f6b31\")"
   ]
  },
  {
   "cell_type": "code",
   "execution_count": 46,
   "id": "5c47f153-182a-4773-bd59-0969526293eb",
   "metadata": {},
   "outputs": [
    {
     "name": "stdout",
     "output_type": "stream",
     "text": [
      "url: https://eth.blockscout.com/api/v2/transactions/0x53dd071a03c75c0daec1888f31669b41b69a90087e325f1707f1d8b0591f6b31/state-changes\n"
     ]
    },
    {
     "data": {
      "text/plain": [
       "{'items': [{'address': {'ens_domain_name': None,\n",
       "    'hash': '0xa83114A443dA1CecEFC50368531cACE9F37fCCcb',\n",
       "    'implementation_address': None,\n",
       "    'implementation_name': None,\n",
       "    'implementations': [],\n",
       "    'is_contract': False,\n",
       "    'is_verified': False,\n",
       "    'metadata': None,\n",
       "    'name': None,\n",
       "    'private_tags': [],\n",
       "    'public_tags': [],\n",
       "    'watchlist_names': []},\n",
       "   'balance_after': '29564310688939604214',\n",
       "   'balance_before': '29587861165031542393',\n",
       "   'change': '-23550476091938179',\n",
       "   'is_miner': False,\n",
       "   'token': None,\n",
       "   'token_id': None,\n",
       "   'type': 'coin'},\n",
       "  {'address': {'ens_domain_name': None,\n",
       "    'hash': '0x388C818CA8B9251b393131C08a736A67ccB19297',\n",
       "    'implementation_address': None,\n",
       "    'implementation_name': None,\n",
       "    'implementations': [],\n",
       "    'is_contract': True,\n",
       "    'is_verified': True,\n",
       "    'metadata': None,\n",
       "    'name': 'LidoExecutionLayerRewardsVault',\n",
       "    'private_tags': [],\n",
       "    'public_tags': [],\n",
       "    'watchlist_names': []},\n",
       "   'balance_after': '66159359647817501851',\n",
       "   'balance_before': '66135850994985205482',\n",
       "   'change': '23508652832296369',\n",
       "   'is_miner': False,\n",
       "   'token': None,\n",
       "   'token_id': None,\n",
       "   'type': 'coin'}],\n",
       " 'next_page_params': None}"
      ]
     },
     "execution_count": 46,
     "metadata": {},
     "output_type": "execute_result"
    }
   ],
   "source": [
    "eth_rest.get_state_changes(tx_hash = \"0x53dd071a03c75c0daec1888f31669b41b69a90087e325f1707f1d8b0591f6b31\")"
   ]
  }
 ],
 "metadata": {
  "kernelspec": {
   "display_name": "Python 3 (ipykernel)",
   "language": "python",
   "name": "python3"
  },
  "language_info": {
   "codemirror_mode": {
    "name": "ipython",
    "version": 3
   },
   "file_extension": ".py",
   "mimetype": "text/x-python",
   "name": "python",
   "nbconvert_exporter": "python",
   "pygments_lexer": "ipython3",
   "version": "3.10.0rc2"
  }
 },
 "nbformat": 4,
 "nbformat_minor": 5
}
