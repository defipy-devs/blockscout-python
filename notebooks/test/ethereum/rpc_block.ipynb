{
 "cells": [
  {
   "cell_type": "code",
   "execution_count": 26,
   "id": "95ccae47-63af-4cc9-84aa-d7503e4b7aec",
   "metadata": {},
   "outputs": [],
   "source": [
    "from blockscout import Blockscout\n",
    "from blockscout import Net\n",
    "from blockscout import API\n",
    "\n",
    "vitalik_addr = '0xd8da6bf26964af9d7eed9e03e53415d37aa96045'\n",
    "usdc_addr = '0xA0b86991c6218b36c1d19D4a2e9Eb0cE3606eB48'\n",
    "\n",
    "eth_rpc = Blockscout(Net.ETH, API.RPC) "
   ]
  },
  {
   "cell_type": "code",
   "execution_count": 27,
   "id": "c9034caf-0343-4bb6-bf15-caf727cba695",
   "metadata": {},
   "outputs": [
    {
     "name": "stdout",
     "output_type": "stream",
     "text": [
      "url: https://eth.blockscout.com/api?module=block&action=getblockreward&blockno=20386499\n"
     ]
    },
    {
     "data": {
      "text/plain": [
       "{'message': 'OK',\n",
       " 'result': {'blockMiner': '0x95222290dd7278aa3ddd389cc1e1d165cc4bafe5',\n",
       "  'blockNumber': '20386499',\n",
       "  'blockReward': '37855880168478307',\n",
       "  'timeStamp': 1721945951,\n",
       "  'uncleInclusionReward': '0',\n",
       "  'uncles': []},\n",
       " 'status': '1'}"
      ]
     },
     "execution_count": 27,
     "metadata": {},
     "output_type": "execute_result"
    }
   ],
   "source": [
    "eth_rpc.get_block_reward_by_block_number(block_no=20386499)"
   ]
  },
  {
   "cell_type": "code",
   "execution_count": 29,
   "id": "4e15ad96-6d6a-4367-979b-00f1fea47fd5",
   "metadata": {},
   "outputs": [
    {
     "name": "stdout",
     "output_type": "stream",
     "text": [
      "url: https://eth.blockscout.com/api?module=block&action=getblockcountdown&blockno=20396499\n"
     ]
    },
    {
     "data": {
      "text/plain": [
       "{'message': 'OK',\n",
       " 'result': {'CountdownBlock': '20396499',\n",
       "  'CurrentBlock': '20386505',\n",
       "  'EstimateTimeInSec': '121137.3',\n",
       "  'RemainingBlock': '9994'},\n",
       " 'status': '1'}"
      ]
     },
     "execution_count": 29,
     "metadata": {},
     "output_type": "execute_result"
    }
   ],
   "source": [
    "eth_rpc.get_est_block_countdown_time_by_block_number(block_no=20396499)"
   ]
  }
 ],
 "metadata": {
  "kernelspec": {
   "display_name": "Python 3 (ipykernel)",
   "language": "python",
   "name": "python3"
  },
  "language_info": {
   "codemirror_mode": {
    "name": "ipython",
    "version": 3
   },
   "file_extension": ".py",
   "mimetype": "text/x-python",
   "name": "python",
   "nbconvert_exporter": "python",
   "pygments_lexer": "ipython3",
   "version": "3.10.0rc2"
  }
 },
 "nbformat": 4,
 "nbformat_minor": 5
}
