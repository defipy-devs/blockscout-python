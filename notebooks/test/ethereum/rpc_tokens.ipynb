{
 "cells": [
  {
   "cell_type": "code",
   "execution_count": 29,
   "id": "40e6b3d4-17af-475f-9d37-d072d7d37db1",
   "metadata": {},
   "outputs": [],
   "source": [
    "from blockscout import Blockscout\n",
    "from blockscout import TokenTransfers\n",
    "from blockscout import Net\n",
    "from blockscout import API\n",
    "\n",
    "vitalik_addr = '0xd8da6bf26964af9d7eed9e03e53415d37aa96045'\n",
    "usdc_addr = '0xA0b86991c6218b36c1d19D4a2e9Eb0cE3606eB48'\n",
    "\n",
    "eth_rpc = Blockscout(Net.ETH, API.RPC)"
   ]
  },
  {
   "cell_type": "code",
   "execution_count": 30,
   "id": "7aed2f67-7236-4047-9021-dcf5e1c1708c",
   "metadata": {},
   "outputs": [
    {
     "name": "stdout",
     "output_type": "stream",
     "text": [
      "url: https://eth.blockscout.com/api?module=token&action=gettoken&contractaddress=0xA0b86991c6218b36c1d19D4a2e9Eb0cE3606eB48\n"
     ]
    },
    {
     "data": {
      "text/plain": [
       "{'message': 'OK',\n",
       " 'result': {'cataloged': True,\n",
       "  'contractAddress': '0xa0b86991c6218b36c1d19d4a2e9eb0ce3606eb48',\n",
       "  'decimals': '6',\n",
       "  'name': 'USD Coin',\n",
       "  'symbol': 'USDC',\n",
       "  'totalSupply': '25101062666941080',\n",
       "  'type': 'ERC-20'},\n",
       " 'status': '1'}"
      ]
     },
     "execution_count": 30,
     "metadata": {},
     "output_type": "execute_result"
    }
   ],
   "source": [
    "eth_rpc.get_total_supply_by_contract_address(contractaddress=usdc_addr)"
   ]
  },
  {
   "cell_type": "code",
   "execution_count": 31,
   "id": "817de396-5264-4424-a103-83957daa1161",
   "metadata": {},
   "outputs": [
    {
     "name": "stdout",
     "output_type": "stream",
     "text": [
      "url: https://eth.blockscout.com/api?module=token&action=gettokenholders&contractaddress=0xA0b86991c6218b36c1d19D4a2e9Eb0cE3606eB48&page=1&offset=0\n"
     ]
    },
    {
     "data": {
      "text/plain": [
       "{'message': 'OK',\n",
       " 'result': [{'address': '0x4b16c5de96eb2117bbe5fd171e4d203624b014aa',\n",
       "   'value': '1000000000016900'},\n",
       "  {'address': '0xd6153f5af5679a75cc85d8974463545181f48772',\n",
       "   'value': '661651268991478'},\n",
       "  {'address': '0x47ac0fb4f2d84898e4d9e7b4dab3c24507a6d503',\n",
       "   'value': '542999999840000'},\n",
       "  {'address': '0x5041ed759dd4afc3a72b8192c143f72f4724081a',\n",
       "   'value': '469520236782792'},\n",
       "  {'address': '0x7eb6c83ab7d8d9b8618c0ed973cbef71d1921ef2',\n",
       "   'value': '469404410904166'},\n",
       "  {'address': '0x0a59649758aa4d66e25f08dd01271e891fe52199',\n",
       "   'value': '404250459368598'},\n",
       "  {'address': '0xf4bd893e805724076a4e8f60a9664526ea32fb11',\n",
       "   'value': '338842941478067'},\n",
       "  {'address': '0xf977814e90da44bfa03b6295a0616a897441acec',\n",
       "   'value': '327527149706000'},\n",
       "  {'address': '0x40ec5b33f54e0e8a33a975908c5ba1c14e5bbbdf',\n",
       "   'value': '326587224752842'},\n",
       "  {'address': '0xc50480f09a39cd99664bbc96f2d2af46dc6381a5',\n",
       "   'value': '285355591542078'}],\n",
       " 'status': '1'}"
      ]
     },
     "execution_count": 31,
     "metadata": {},
     "output_type": "execute_result"
    }
   ],
   "source": [
    "eth_rpc.get_total_holders_by_contract_address(contractaddress=usdc_addr,page=1,offset=0)"
   ]
  },
  {
   "cell_type": "code",
   "execution_count": 32,
   "id": "c3904df1-f1d4-4320-8058-e066ab00a26f",
   "metadata": {},
   "outputs": [
    {
     "name": "stdout",
     "output_type": "stream",
     "text": [
      "url: https://eth.blockscout.com/api?module=transaction&action=gettxinfo&txhash=0xac19627648aa563cda4eb62c94f429438faa7644e50dac3513d0c2796b7d1668\n"
     ]
    },
    {
     "data": {
      "text/plain": [
       "{'message': 'OK',\n",
       " 'result': {'blockNumber': '20386499',\n",
       "  'confirmations': '15',\n",
       "  'from': '0x95222290dd7278aa3ddd389cc1e1d165cc4bafe5',\n",
       "  'gasLimit': '22111',\n",
       "  'gasPrice': '1824607629',\n",
       "  'gasUsed': '22111',\n",
       "  'hash': '0xac19627648aa563cda4eb62c94f429438faa7644e50dac3513d0c2796b7d1668',\n",
       "  'input': '0x',\n",
       "  'logs': [{'address': '0x388c818ca8b9251b393131c08a736a67ccb19297',\n",
       "    'data': '0x00000000000000000000000000000000000000000000000003eff1fd3d99f49d',\n",
       "    'index': '272',\n",
       "    'topics': ['0x27f12abfe35860a9a927b465bb3d4a9c23c8428174b83f278fe45ed7b4da2662',\n",
       "     None,\n",
       "     None,\n",
       "     None]}],\n",
       "  'next_page_params': None,\n",
       "  'revertReason': '',\n",
       "  'success': True,\n",
       "  'timeStamp': '1721945951',\n",
       "  'to': '0x388c818ca8b9251b393131c08a736a67ccb19297',\n",
       "  'value': '283711371510150301'},\n",
       " 'status': '1'}"
      ]
     },
     "execution_count": 32,
     "metadata": {},
     "output_type": "execute_result"
    }
   ],
   "source": [
    "eth_rpc.get_tx_info(txhash=\"0xac19627648aa563cda4eb62c94f429438faa7644e50dac3513d0c2796b7d1668\")"
   ]
  },
  {
   "cell_type": "code",
   "execution_count": 33,
   "id": "c3092340-b742-4314-a760-4f9c23001175",
   "metadata": {},
   "outputs": [
    {
     "name": "stdout",
     "output_type": "stream",
     "text": [
      "url: https://eth.blockscout.com/api?module=transaction&action=gettxreceiptstatus&txhash=0xac19627648aa563cda4eb62c94f429438faa7644e50dac3513d0c2796b7d1668\n"
     ]
    },
    {
     "data": {
      "text/plain": [
       "{'message': 'OK', 'result': {'status': '1'}, 'status': '1'}"
      ]
     },
     "execution_count": 33,
     "metadata": {},
     "output_type": "execute_result"
    }
   ],
   "source": [
    "eth_rpc.get_tx_receipt_status(txhash=\"0xac19627648aa563cda4eb62c94f429438faa7644e50dac3513d0c2796b7d1668\")"
   ]
  },
  {
   "cell_type": "code",
   "execution_count": 34,
   "id": "2c1d3de9-cf6f-44a1-a1d9-b91b22691f33",
   "metadata": {},
   "outputs": [
    {
     "name": "stdout",
     "output_type": "stream",
     "text": [
      "url: https://eth.blockscout.com/api?module=transaction&action=getstatus&txhash=0xac19627648aa563cda4eb62c94f429438faa7644e50dac3513d0c2796b7d1668\n"
     ]
    },
    {
     "data": {
      "text/plain": [
       "{'message': 'OK',\n",
       " 'result': {'errDescription': '', 'isError': '0'},\n",
       " 'status': '1'}"
      ]
     },
     "execution_count": 34,
     "metadata": {},
     "output_type": "execute_result"
    }
   ],
   "source": [
    "eth_rpc.get_status(txhash=\"0xac19627648aa563cda4eb62c94f429438faa7644e50dac3513d0c2796b7d1668\")"
   ]
  }
 ],
 "metadata": {
  "kernelspec": {
   "display_name": "Python 3 (ipykernel)",
   "language": "python",
   "name": "python3"
  },
  "language_info": {
   "codemirror_mode": {
    "name": "ipython",
    "version": 3
   },
   "file_extension": ".py",
   "mimetype": "text/x-python",
   "name": "python",
   "nbconvert_exporter": "python",
   "pygments_lexer": "ipython3",
   "version": "3.10.0rc2"
  }
 },
 "nbformat": 4,
 "nbformat_minor": 5
}
