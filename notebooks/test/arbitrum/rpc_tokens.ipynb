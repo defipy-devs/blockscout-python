{
 "cells": [
  {
   "cell_type": "code",
   "execution_count": 2,
   "id": "40e6b3d4-17af-475f-9d37-d072d7d37db1",
   "metadata": {},
   "outputs": [],
   "source": [
    "from blockscout import Blockscout\n",
    "from blockscout import Net\n",
    "from blockscout import API\n",
    "\n",
    "vitalik_addr = '0xd8da6bf26964af9d7eed9e03e53415d37aa96045'\n",
    "usdc_addr = '0xaf88d065e77c8cC2239327C5EDb3A432268e5831'\n",
    "\n",
    "eth_rpc = Blockscout(Net.ARB, API.RPC) "
   ]
  },
  {
   "cell_type": "code",
   "execution_count": 3,
   "id": "7aed2f67-7236-4047-9021-dcf5e1c1708c",
   "metadata": {},
   "outputs": [
    {
     "name": "stdout",
     "output_type": "stream",
     "text": [
      "url: https://arbitrum.blockscout.com/api?module=token&action=gettoken&contractaddress=0xaf88d065e77c8cC2239327C5EDb3A432268e5831\n"
     ]
    },
    {
     "data": {
      "text/plain": [
       "{'message': 'OK',\n",
       " 'result': {'cataloged': True,\n",
       "  'contractAddress': '0xaf88d065e77c8cc2239327c5edb3a432268e5831',\n",
       "  'decimals': '6',\n",
       "  'name': 'USD Coin',\n",
       "  'symbol': 'USDC',\n",
       "  'totalSupply': '1330672089485824',\n",
       "  'type': 'ERC-20'},\n",
       " 'status': '1'}"
      ]
     },
     "execution_count": 3,
     "metadata": {},
     "output_type": "execute_result"
    }
   ],
   "source": [
    "eth_rpc.get_total_supply_by_contract_address(contractaddress=usdc_addr)"
   ]
  },
  {
   "cell_type": "code",
   "execution_count": 4,
   "id": "817de396-5264-4424-a103-83957daa1161",
   "metadata": {},
   "outputs": [
    {
     "name": "stdout",
     "output_type": "stream",
     "text": [
      "url: https://arbitrum.blockscout.com/api?module=token&action=gettokenholders&contractaddress=0xaf88d065e77c8cC2239327C5EDb3A432268e5831&page=1&offset=0\n"
     ]
    },
    {
     "data": {
      "text/plain": [
       "{'message': 'OK',\n",
       " 'result': [{'address': '0x2df1c51e09aecf9cacb7bc98cb1742757f163df7',\n",
       "   'value': '431751594062494'},\n",
       "  {'address': '0xb38e8c17e38363af6ebdcb3dae12e0243582891d',\n",
       "   'value': '87404794150842'},\n",
       "  {'address': '0x47c031236e19d024b42f8ae6780e44a573170703',\n",
       "   'value': '73368171536404'},\n",
       "  {'address': '0x70d95587d40a2caf56bd97485ab3eec10bee6336',\n",
       "   'value': '65408744613599'},\n",
       "  {'address': '0x724dc807b04555b71ed48a6896b6f41593b8c637',\n",
       "   'value': '42573739947453'},\n",
       "  {'address': '0x3931dab967c3e2dbb492fe12460a66d0fe4cc857',\n",
       "   'value': '22022308341067'},\n",
       "  {'address': '0x9c4ec768c28520b50860ea7a15bd7213a9ff58bf',\n",
       "   'value': '21553002564904'},\n",
       "  {'address': '0x09400d9db990d5ed3f35d7be61dfaeb900af03c9',\n",
       "   'value': '17057220108419'},\n",
       "  {'address': '0xe8cdf27acd73a434d661c84887215f7598e7d0d3',\n",
       "   'value': '16731063343932'},\n",
       "  {'address': '0x489ee077994b6658eafa855c308275ead8097c4a',\n",
       "   'value': '16662578032494'}],\n",
       " 'status': '1'}"
      ]
     },
     "execution_count": 4,
     "metadata": {},
     "output_type": "execute_result"
    }
   ],
   "source": [
    "eth_rpc.get_total_holders_by_contract_address(contractaddress=usdc_addr,page=1,offset=0)"
   ]
  },
  {
   "cell_type": "code",
   "execution_count": 5,
   "id": "c3904df1-f1d4-4320-8058-e066ab00a26f",
   "metadata": {},
   "outputs": [
    {
     "name": "stdout",
     "output_type": "stream",
     "text": [
      "url: https://arbitrum.blockscout.com/api?module=transaction&action=gettxinfo&txhash=0x411c2c1492c402f7732aa52c9df4d08d0ee6b89d31adb54eb44f802833a15245\n"
     ]
    },
    {
     "data": {
      "text/plain": [
       "{'message': 'OK',\n",
       " 'result': {'blockNumber': '236028161',\n",
       "  'confirmations': '2493',\n",
       "  'from': '0x3a5be419f77bbcd46925c44c9d11022e4cf0ed08',\n",
       "  'gasLimit': '144538',\n",
       "  'gasPrice': '10000000',\n",
       "  'gasUsed': '61073',\n",
       "  'hash': '0x411c2c1492c402f7732aa52c9df4d08d0ee6b89d31adb54eb44f802833a15245',\n",
       "  'input': '0xa9059cbb000000000000000000000000b38e8c17e38363af6ebdcb3dae12e0243582891d000000000000000000000000000000000000000000000000000000005cecc5f2',\n",
       "  'logs': [{'address': '0xaf88d065e77c8cc2239327c5edb3a432268e5831',\n",
       "    'data': '0x000000000000000000000000000000000000000000000000000000005cecc5f2',\n",
       "    'index': '14',\n",
       "    'topics': ['0xddf252ad1be2c89b69c2b068fc378daa952ba7f163c4a11628f55a4df523b3ef',\n",
       "     '0x0000000000000000000000003a5be419f77bbcd46925c44c9d11022e4cf0ed08',\n",
       "     '0x000000000000000000000000b38e8c17e38363af6ebdcb3dae12e0243582891d',\n",
       "     None]}],\n",
       "  'next_page_params': None,\n",
       "  'revertReason': '',\n",
       "  'success': True,\n",
       "  'timeStamp': '1721942411',\n",
       "  'to': '0xaf88d065e77c8cc2239327c5edb3a432268e5831',\n",
       "  'value': '0'},\n",
       " 'status': '1'}"
      ]
     },
     "execution_count": 5,
     "metadata": {},
     "output_type": "execute_result"
    }
   ],
   "source": [
    "eth_rpc.get_tx_info(txhash=\"0x411c2c1492c402f7732aa52c9df4d08d0ee6b89d31adb54eb44f802833a15245\")"
   ]
  },
  {
   "cell_type": "code",
   "execution_count": 6,
   "id": "c3092340-b742-4314-a760-4f9c23001175",
   "metadata": {},
   "outputs": [
    {
     "name": "stdout",
     "output_type": "stream",
     "text": [
      "url: https://arbitrum.blockscout.com/api?module=transaction&action=gettxreceiptstatus&txhash=0x411c2c1492c402f7732aa52c9df4d08d0ee6b89d31adb54eb44f802833a15245\n"
     ]
    },
    {
     "data": {
      "text/plain": [
       "{'message': 'OK', 'result': {'status': '1'}, 'status': '1'}"
      ]
     },
     "execution_count": 6,
     "metadata": {},
     "output_type": "execute_result"
    }
   ],
   "source": [
    "eth_rpc.get_tx_receipt_status(txhash=\"0x411c2c1492c402f7732aa52c9df4d08d0ee6b89d31adb54eb44f802833a15245\")"
   ]
  },
  {
   "cell_type": "code",
   "execution_count": 7,
   "id": "2c1d3de9-cf6f-44a1-a1d9-b91b22691f33",
   "metadata": {},
   "outputs": [
    {
     "name": "stdout",
     "output_type": "stream",
     "text": [
      "url: https://arbitrum.blockscout.com/api?module=transaction&action=getstatus&txhash=0x411c2c1492c402f7732aa52c9df4d08d0ee6b89d31adb54eb44f802833a15245\n"
     ]
    },
    {
     "data": {
      "text/plain": [
       "{'message': 'OK',\n",
       " 'result': {'errDescription': '', 'isError': '0'},\n",
       " 'status': '1'}"
      ]
     },
     "execution_count": 7,
     "metadata": {},
     "output_type": "execute_result"
    }
   ],
   "source": [
    "eth_rpc.get_status(txhash=\"0x411c2c1492c402f7732aa52c9df4d08d0ee6b89d31adb54eb44f802833a15245\")"
   ]
  }
 ],
 "metadata": {
  "kernelspec": {
   "display_name": "Python 3 (ipykernel)",
   "language": "python",
   "name": "python3"
  },
  "language_info": {
   "codemirror_mode": {
    "name": "ipython",
    "version": 3
   },
   "file_extension": ".py",
   "mimetype": "text/x-python",
   "name": "python",
   "nbconvert_exporter": "python",
   "pygments_lexer": "ipython3",
   "version": "3.10.0rc2"
  }
 },
 "nbformat": 4,
 "nbformat_minor": 5
}
