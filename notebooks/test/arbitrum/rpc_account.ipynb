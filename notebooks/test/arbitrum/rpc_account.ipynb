{
 "cells": [
  {
   "cell_type": "markdown",
   "id": "467058d7-cbac-4d35-9652-fb49ae5c4b51",
   "metadata": {},
   "source": [
    "* https://explorer.rollux.com/api/v2/addresses"
   ]
  },
  {
   "cell_type": "code",
   "execution_count": 2,
   "id": "2d6df20a-1df7-4644-876a-f43095c3ceb6",
   "metadata": {},
   "outputs": [],
   "source": [
    "from blockscout import Blockscout\n",
    "from blockscout import Net\n",
    "from blockscout import API\n",
    "\n",
    "eth = Blockscout(Net.ROLLUX, API.RPC) "
   ]
  },
  {
   "cell_type": "code",
   "execution_count": 2,
   "id": "64a5080a-168c-4393-b1c1-a065f911a49c",
   "metadata": {},
   "outputs": [
    {
     "name": "stdout",
     "output_type": "stream",
     "text": [
      "url: https://explorer.rollux.com/api?module=account&action=balance&address=0xBb8b9456F615545c88528653024E87C6069d1598\n"
     ]
    },
    {
     "data": {
      "text/plain": [
       "{'message': 'OK', 'result': '2035174474713027290171386', 'status': '1'}"
      ]
     },
     "execution_count": 2,
     "metadata": {},
     "output_type": "execute_result"
    }
   ],
   "source": [
    "eth.get_balance(address = \"0xBb8b9456F615545c88528653024E87C6069d1598\")"
   ]
  },
  {
   "cell_type": "code",
   "execution_count": 3,
   "id": "1e4045f5-2996-41de-84ca-d266d0d32cda",
   "metadata": {},
   "outputs": [
    {
     "name": "stdout",
     "output_type": "stream",
     "text": [
      "url: https://explorer.rollux.com/api?module=account&action=balance&address=0xBb8b9456F615545c88528653024E87C6069d1598,0xc84633Af14e43F00D5aaa7A47B8d0864eE6a46FB\n"
     ]
    },
    {
     "data": {
      "text/plain": [
       "{'message': 'OK',\n",
       " 'result': [{'account': '0xbb8b9456f615545c88528653024e87c6069d1598',\n",
       "   'balance': '2035174474713027290171386',\n",
       "   'stale': False},\n",
       "  {'account': '0xc84633af14e43f00d5aaa7a47b8d0864ee6a46fb',\n",
       "   'balance': '372776070053305285741',\n",
       "   'stale': False}],\n",
       " 'status': '1'}"
      ]
     },
     "execution_count": 3,
     "metadata": {},
     "output_type": "execute_result"
    }
   ],
   "source": [
    "eth.get_balance(address=\"0xBb8b9456F615545c88528653024E87C6069d1598,0xc84633Af14e43F00D5aaa7A47B8d0864eE6a46FB\")"
   ]
  },
  {
   "cell_type": "code",
   "execution_count": 4,
   "id": "6101b5e0-f614-43a7-9f26-c62efd80f771",
   "metadata": {},
   "outputs": [
    {
     "name": "stdout",
     "output_type": "stream",
     "text": [
      "url: https://explorer.rollux.com/api?module=account&action=balance&address=0xBb8b9456F615545c88528653024E87C6069d1598,0xc84633Af14e43F00D5aaa7A47B8d0864eE6a46FB\n"
     ]
    },
    {
     "data": {
      "text/plain": [
       "{'message': 'OK',\n",
       " 'result': [{'account': '0xbb8b9456f615545c88528653024e87c6069d1598',\n",
       "   'balance': '2035174474713027290171386',\n",
       "   'stale': False},\n",
       "  {'account': '0xc84633af14e43f00d5aaa7a47b8d0864ee6a46fb',\n",
       "   'balance': '372776070053305285741',\n",
       "   'stale': False}],\n",
       " 'status': '1'}"
      ]
     },
     "execution_count": 4,
     "metadata": {},
     "output_type": "execute_result"
    }
   ],
   "source": [
    "eth.get_balance(address=\"0xBb8b9456F615545c88528653024E87C6069d1598,0xc84633Af14e43F00D5aaa7A47B8d0864eE6a46FB\")"
   ]
  },
  {
   "cell_type": "code",
   "execution_count": 5,
   "id": "ba21e02d-990f-49c1-a532-3d744cda11dd",
   "metadata": {},
   "outputs": [
    {
     "name": "stdout",
     "output_type": "stream",
     "text": [
      "url: https://explorer.rollux.com/api?module=account&action=pendingtxlist&address=0xBb8b9456F615545c88528653024E87C6069d1598&page=1&offset=1\n"
     ]
    },
    {
     "data": {
      "text/plain": [
       "{'message': 'No transactions found', 'result': [], 'status': '0'}"
      ]
     },
     "execution_count": 5,
     "metadata": {},
     "output_type": "execute_result"
    }
   ],
   "source": [
    "eth.get_pending_txs_by_address_paginated(address=\"0xBb8b9456F615545c88528653024E87C6069d1598\", page=1, offset=1)"
   ]
  },
  {
   "cell_type": "code",
   "execution_count": 17,
   "id": "761e7c8d-f64b-4c98-a7e6-5d95489bf418",
   "metadata": {},
   "outputs": [
    {
     "name": "stdout",
     "output_type": "stream",
     "text": [
      "url: https://explorer.rollux.com/api?module=account&action=txlist&address=0x8A4AA176007196D48d39C89402d3753c39AE64c1&startblock=16633290&endblock=16903290&page=1&offset=0&sort=asc\n"
     ]
    },
    {
     "data": {
      "text/plain": [
       "{'message': 'OK',\n",
       " 'result': [{'blockHash': '0x1b69595d2a653ef27d36d54ad195ea9942f5c4d6f7ce61bf5775adca664c6bf9',\n",
       "   'blockNumber': '16827443',\n",
       "   'confirmations': '77740',\n",
       "   'contractAddress': '',\n",
       "   'cumulativeGasUsed': '82017',\n",
       "   'from': '0x8a4aa176007196d48d39c89402d3753c39ae64c1',\n",
       "   'gas': '500000',\n",
       "   'gasPrice': '100000050',\n",
       "   'gasUsed': '35140',\n",
       "   'hash': '0xc97918add9a12c43eff2994d5cfe1ef3936c6783be9f5233d030e09938dc5d2d',\n",
       "   'input': '0x2e1a7d4d000000000000000000000000000000000000000000000878678326eac9000000',\n",
       "   'isError': '0',\n",
       "   'nonce': '55',\n",
       "   'timeStamp': '1721020127',\n",
       "   'to': '0x4200000000000000000000000000000000000006',\n",
       "   'transactionIndex': '1',\n",
       "   'txreceipt_status': '1',\n",
       "   'value': '0'},\n",
       "  {'blockHash': '0xb55325d8614999611ab0898e17a02f979e5de3dfa0e873b5c40ac9c1491f253c',\n",
       "   'blockNumber': '16829961',\n",
       "   'confirmations': '75222',\n",
       "   'contractAddress': '',\n",
       "   'cumulativeGasUsed': '67877',\n",
       "   'from': '0x8a4aa176007196d48d39c89402d3753c39ae64c1',\n",
       "   'gas': '1000000',\n",
       "   'gasPrice': '100000050',\n",
       "   'gasUsed': '21000',\n",
       "   'hash': '0xe3199d0905aedf669c467f71418d665d4d75ae317349b070880c8265f86b4501',\n",
       "   'input': '0x',\n",
       "   'isError': '0',\n",
       "   'nonce': '56',\n",
       "   'timeStamp': '1721025163',\n",
       "   'to': '0x440872cfddac749d9f201234395fc20ed5480a80',\n",
       "   'transactionIndex': '1',\n",
       "   'txreceipt_status': '1',\n",
       "   'value': '40000000000000000000000'},\n",
       "  {'blockHash': '0xdfc5cb5959eaa3b79f0d5584bf5173a78549d40ebbef5f9fcee635cfa273723a',\n",
       "   'blockNumber': '16830379',\n",
       "   'confirmations': '74804',\n",
       "   'contractAddress': '',\n",
       "   'cumulativeGasUsed': '67877',\n",
       "   'from': '0x440872cfddac749d9f201234395fc20ed5480a80',\n",
       "   'gas': '50000',\n",
       "   'gasPrice': '150000075',\n",
       "   'gasUsed': '21000',\n",
       "   'hash': '0xc4703c8c6282bcce582d1a5c915c19c0507afbf9cf05c5908cbf37fb1b35a494',\n",
       "   'input': '0x',\n",
       "   'isError': '0',\n",
       "   'nonce': '5',\n",
       "   'timeStamp': '1721025999',\n",
       "   'to': '0x8a4aa176007196d48d39c89402d3753c39ae64c1',\n",
       "   'transactionIndex': '1',\n",
       "   'txreceipt_status': '1',\n",
       "   'value': '10000000000000000000000'}],\n",
       " 'status': '1'}"
      ]
     },
     "execution_count": 17,
     "metadata": {},
     "output_type": "execute_result"
    }
   ],
   "source": [
    "eth.get_txs_by_address_paginated(address=\"0x8A4AA176007196D48d39C89402d3753c39AE64c1\", startblock=16633290, endblock=16903290, page=1, offset=0, sort=\"asc\")"
   ]
  },
  {
   "cell_type": "code",
   "execution_count": 26,
   "id": "f97a032a-a61d-4c14-a436-404238f3a678",
   "metadata": {},
   "outputs": [],
   "source": [
    "#eth.get_erc20_token_transfer_events_by_address(address=\"0x8A4AA176007196D48d39C89402d3753c39AE64c1\", page=1, offset=0, sort=\"asc\")"
   ]
  },
  {
   "cell_type": "code",
   "execution_count": 7,
   "id": "58d63a1c-94d7-4e13-9e68-efe3f862a3b0",
   "metadata": {},
   "outputs": [
    {
     "name": "stdout",
     "output_type": "stream",
     "text": [
      "url: https://explorer.rollux.com/api?module=account&action=tokennfttx&address=0x8A4AA176007196D48d39C89402d3753c39AE64c1&page=1&offset=1&sort=asc\n"
     ]
    },
    {
     "data": {
      "text/plain": [
       "{'message': 'Something went wrong.', 'result': None, 'status': '0'}"
      ]
     },
     "execution_count": 7,
     "metadata": {},
     "output_type": "execute_result"
    }
   ],
   "source": [
    "eth.get_erc721_token_transfer_events_by_address(address=\"0x8A4AA176007196D48d39C89402d3753c39AE64c1\", page=1, offset=1, sort=\"asc\")"
   ]
  },
  {
   "cell_type": "code",
   "execution_count": 6,
   "id": "7baa1f7f-18ba-4a4d-a819-4ea6dc41db46",
   "metadata": {},
   "outputs": [
    {
     "name": "stdout",
     "output_type": "stream",
     "text": [
      "url: https://explorer.rollux.com/api?module=account&action=tokenbalance&contractaddress=0x8A4AA176007196D48d39C89402d3753c39AE64c1&address=0x48023b16c3e81AA7F6eFFbdEB35Bb83f4f31a8fd\n"
     ]
    },
    {
     "data": {
      "text/plain": [
       "{'message': 'OK', 'result': '0', 'status': '1'}"
      ]
     },
     "execution_count": 6,
     "metadata": {},
     "output_type": "execute_result"
    }
   ],
   "source": [
    "eth.get_erc20_balance_by_contract_address(contractaddress=\"0x8A4AA176007196D48d39C89402d3753c39AE64c1\", address=\"0x48023b16c3e81AA7F6eFFbdEB35Bb83f4f31a8fd\")"
   ]
  },
  {
   "cell_type": "code",
   "execution_count": 3,
   "id": "0e50ec31-e26e-478d-a678-228353fa1dfd",
   "metadata": {},
   "outputs": [
    {
     "name": "stdout",
     "output_type": "stream",
     "text": [
      "url: https://explorer.rollux.com/api?module=account&action=tokenlist&address=0x8A4AA176007196D48d39C89402d3753c39AE64c1\n"
     ]
    },
    {
     "data": {
      "text/plain": [
       "{'message': 'OK',\n",
       " 'result': [{'balance': '89590009236',\n",
       "   'contractAddress': '0x28c9c7fb3fe3104d2116af26cc8ef7905547349c',\n",
       "   'decimals': '6',\n",
       "   'name': 'Tether',\n",
       "   'symbol': 'USDT',\n",
       "   'type': 'ERC-20'},\n",
       "  {'balance': '999799972',\n",
       "   'contractAddress': '0x2a4dc2e946b92ab4a1f7d62844eb237788f9056c',\n",
       "   'decimals': '8',\n",
       "   'name': 'Bitcoin',\n",
       "   'symbol': 'BTC',\n",
       "   'type': 'ERC-20'},\n",
       "  {'balance': '238003477125',\n",
       "   'contractAddress': '0x368433cac2a0b8d76e64681a9835502a1f2a8a30',\n",
       "   'decimals': '6',\n",
       "   'name': 'USD Coin',\n",
       "   'symbol': 'USDC',\n",
       "   'type': 'ERC-20'},\n",
       "  {'balance': '65742771636449164370510',\n",
       "   'contractAddress': '0x4200000000000000000000000000000000000006',\n",
       "   'decimals': '18',\n",
       "   'name': 'Wrapped Syscoin',\n",
       "   'symbol': 'WSYS',\n",
       "   'type': 'ERC-20'},\n",
       "  {'balance': '2689086726999817394149',\n",
       "   'contractAddress': '0xaa1c53afd099e415208f47fcfa2c880f659e6904',\n",
       "   'decimals': '18',\n",
       "   'name': 'Ethereum',\n",
       "   'symbol': 'ETH',\n",
       "   'type': 'ERC-20'}],\n",
       " 'status': '1'}"
      ]
     },
     "execution_count": 3,
     "metadata": {},
     "output_type": "execute_result"
    }
   ],
   "source": [
    "eth.get_erc20_tokens_by_address(address=\"0x8A4AA176007196D48d39C89402d3753c39AE64c1\")"
   ]
  },
  {
   "cell_type": "code",
   "execution_count": 5,
   "id": "888c8a99-bace-4bcc-be42-74eb730f8eab",
   "metadata": {},
   "outputs": [
    {
     "name": "stdout",
     "output_type": "stream",
     "text": [
      "url: https://explorer.rollux.com/api?module=account&action=listaccounts&address=0x8A4AA176007196D48d39C89402d3753c39AE64c1\n"
     ]
    },
    {
     "data": {
      "text/plain": [
       "{'message': 'OK',\n",
       " 'result': [{'address': '0x4200000000000000000000000000000000000011',\n",
       "   'balance': '246770034307774969009',\n",
       "   'stale': False},\n",
       "  {'address': '0x4200000000000000000000000000000000000015',\n",
       "   'balance': '0',\n",
       "   'stale': False},\n",
       "  {'address': '0xdeaddeaddeaddeaddeaddeaddeaddeaddead0001',\n",
       "   'balance': '150000000000000',\n",
       "   'stale': False},\n",
       "  {'address': '0x1241f44bfa102ab7386c784959bae3d0fb923734',\n",
       "   'balance': '9625017850635926477106',\n",
       "   'stale': False},\n",
       "  {'address': '0xc1539b7084a9f793cbeada7382443dcdbc4d9add',\n",
       "   'balance': '0',\n",
       "   'stale': False},\n",
       "  {'address': '0x0000000000000000000000000000000000000000',\n",
       "   'balance': '150000000000000000',\n",
       "   'stale': False},\n",
       "  {'address': '0x28c9c7fb3fe3104d2116af26cc8ef7905547349c',\n",
       "   'balance': '0',\n",
       "   'stale': False},\n",
       "  {'address': '0x4200000000000000000000000000000000000006',\n",
       "   'balance': '1981130310717978905518676',\n",
       "   'stale': False},\n",
       "  {'address': '0x4db158eec5c5d63f9a09535882b835f36d3fd012',\n",
       "   'balance': '0',\n",
       "   'stale': False},\n",
       "  {'address': '0xa6153e4f8226f6cb6da09127287aa15ad7708a85',\n",
       "   'balance': '605757518123424407863',\n",
       "   'stale': False}],\n",
       " 'status': '1'}"
      ]
     },
     "execution_count": 5,
     "metadata": {},
     "output_type": "execute_result"
    }
   ],
   "source": [
    "eth.get_account_list_balances(address=\"0x8A4AA176007196D48d39C89402d3753c39AE64c1\", page=1, offset=0)"
   ]
  }
 ],
 "metadata": {
  "kernelspec": {
   "display_name": "Python 3 (ipykernel)",
   "language": "python",
   "name": "python3"
  },
  "language_info": {
   "codemirror_mode": {
    "name": "ipython",
    "version": 3
   },
   "file_extension": ".py",
   "mimetype": "text/x-python",
   "name": "python",
   "nbconvert_exporter": "python",
   "pygments_lexer": "ipython3",
   "version": "3.10.0rc2"
  }
 },
 "nbformat": 4,
 "nbformat_minor": 5
}
