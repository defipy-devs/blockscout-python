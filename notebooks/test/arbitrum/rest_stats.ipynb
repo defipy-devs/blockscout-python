{
 "cells": [
  {
   "cell_type": "code",
   "execution_count": 1,
   "id": "fb376097-418e-40ed-b8b5-485186c4601f",
   "metadata": {},
   "outputs": [],
   "source": [
    "from blockscout import Blockscout\n",
    "from blockscout import Net\n",
    "from blockscout import API\n",
    "\n",
    "vitalik_addr = '0xd8da6bf26964af9d7eed9e03e53415d37aa96045'\n",
    "usdc_addr = '0xaf88d065e77c8cC2239327C5EDb3A432268e5831'\n",
    "\n",
    "eth_rest = Blockscout(Net.ARB, API.REST) "
   ]
  },
  {
   "cell_type": "code",
   "execution_count": 2,
   "id": "d804ad2f-52de-4e60-b8c6-316c3595a718",
   "metadata": {},
   "outputs": [
    {
     "name": "stdout",
     "output_type": "stream",
     "text": [
      "url: https://arbitrum.blockscout.com/api/v2/stats\n"
     ]
    },
    {
     "data": {
      "text/plain": [
       "{'average_block_time': 143.0,\n",
       " 'coin_image': 'https://coin-images.coingecko.com/coins/images/39140/small/ETH.png?1720706783',\n",
       " 'coin_price': '3154.65',\n",
       " 'coin_price_change_percentage': -9.34,\n",
       " 'gas_price_updated_at': '2024-07-25T21:12:46.936041Z',\n",
       " 'gas_prices': {'slow': 0.18, 'average': 0.34, 'fast': 0.65},\n",
       " 'gas_prices_update_in': 6759,\n",
       " 'gas_used_today': '414997660217',\n",
       " 'market_cap': '0.000',\n",
       " 'network_utilization_percentage': 6.0360456188846e-08,\n",
       " 'secondary_coin_price': None,\n",
       " 'static_gas_price': None,\n",
       " 'total_addresses': '45788749',\n",
       " 'total_blocks': '235996349',\n",
       " 'total_gas_used': '0',\n",
       " 'total_transactions': '863351302',\n",
       " 'transactions_today': '1973817',\n",
       " 'tvl': None}"
      ]
     },
     "execution_count": 2,
     "metadata": {},
     "output_type": "execute_result"
    }
   ],
   "source": [
    "eth_rest.get_stats_counters()"
   ]
  },
  {
   "cell_type": "code",
   "execution_count": 3,
   "id": "8457077c-9a9d-48c2-9338-87327562962b",
   "metadata": {},
   "outputs": [
    {
     "name": "stdout",
     "output_type": "stream",
     "text": [
      "url: https://arbitrum.blockscout.com/api/v2/stats/charts/transactions\n"
     ]
    },
    {
     "data": {
      "text/plain": [
       "{'chart_data': [{'date': '2024-07-24', 'tx_count': 1973817},\n",
       "  {'date': '2024-07-23', 'tx_count': 2377663},\n",
       "  {'date': '2024-07-22', 'tx_count': 2077746},\n",
       "  {'date': '2024-07-21', 'tx_count': 1969448},\n",
       "  {'date': '2024-07-20', 'tx_count': 2007785},\n",
       "  {'date': '2024-07-19', 'tx_count': 2544382},\n",
       "  {'date': '2024-07-18', 'tx_count': 3510787},\n",
       "  {'date': '2024-07-17', 'tx_count': 2593543},\n",
       "  {'date': '2024-07-16', 'tx_count': 2305943},\n",
       "  {'date': '2024-07-15', 'tx_count': 2357761},\n",
       "  {'date': '2024-07-14', 'tx_count': 2038824},\n",
       "  {'date': '2024-07-13', 'tx_count': 1968875},\n",
       "  {'date': '2024-07-12', 'tx_count': 2234782},\n",
       "  {'date': '2024-07-11', 'tx_count': 2360188},\n",
       "  {'date': '2024-07-10', 'tx_count': 2318683},\n",
       "  {'date': '2024-07-09', 'tx_count': 2487077},\n",
       "  {'date': '2024-07-08', 'tx_count': 2598522},\n",
       "  {'date': '2024-07-07', 'tx_count': 2238716},\n",
       "  {'date': '2024-07-06', 'tx_count': 2065004},\n",
       "  {'date': '2024-07-05', 'tx_count': 2636572},\n",
       "  {'date': '2024-07-04', 'tx_count': 2675876},\n",
       "  {'date': '2024-07-03', 'tx_count': 2184917},\n",
       "  {'date': '2024-07-02', 'tx_count': 2127719},\n",
       "  {'date': '2024-07-01', 'tx_count': 2335280},\n",
       "  {'date': '2024-06-30', 'tx_count': 2117547},\n",
       "  {'date': '2024-06-29', 'tx_count': 1885024},\n",
       "  {'date': '2024-06-28', 'tx_count': 2343163},\n",
       "  {'date': '2024-06-27', 'tx_count': 2882918},\n",
       "  {'date': '2024-06-26', 'tx_count': 2611197},\n",
       "  {'date': '2024-06-25', 'tx_count': 2794208},\n",
       "  {'date': '2024-06-24', 'tx_count': 2916960}]}"
      ]
     },
     "execution_count": 3,
     "metadata": {},
     "output_type": "execute_result"
    }
   ],
   "source": [
    "eth_rest.get_stats_transactions_chart()"
   ]
  }
 ],
 "metadata": {
  "kernelspec": {
   "display_name": "Python 3 (ipykernel)",
   "language": "python",
   "name": "python3"
  },
  "language_info": {
   "codemirror_mode": {
    "name": "ipython",
    "version": 3
   },
   "file_extension": ".py",
   "mimetype": "text/x-python",
   "name": "python",
   "nbconvert_exporter": "python",
   "pygments_lexer": "ipython3",
   "version": "3.10.0rc2"
  }
 },
 "nbformat": 4,
 "nbformat_minor": 5
}
