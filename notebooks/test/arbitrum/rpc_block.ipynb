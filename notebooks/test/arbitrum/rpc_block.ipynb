{
 "cells": [
  {
   "cell_type": "code",
   "execution_count": 1,
   "id": "95ccae47-63af-4cc9-84aa-d7503e4b7aec",
   "metadata": {},
   "outputs": [],
   "source": [
    "from blockscout import Blockscout\n",
    "from blockscout import Net\n",
    "from blockscout import API\n",
    "\n",
    "eth_rpc = Blockscout(Net.ARB, API.RPC) "
   ]
  },
  {
   "cell_type": "code",
   "execution_count": 2,
   "id": "c9034caf-0343-4bb6-bf15-caf727cba695",
   "metadata": {},
   "outputs": [
    {
     "name": "stdout",
     "output_type": "stream",
     "text": [
      "url: https://arbitrum.blockscout.com/api?module=block&action=getblockreward&blockno=236028161\n"
     ]
    },
    {
     "data": {
      "text/plain": [
       "{'message': 'OK',\n",
       " 'result': {'blockMiner': '0xa4b000000000000000000073657175656e636572',\n",
       "  'blockNumber': '236028161',\n",
       "  'blockReward': '0',\n",
       "  'timeStamp': 1721942411,\n",
       "  'uncleInclusionReward': '0',\n",
       "  'uncles': []},\n",
       " 'status': '1'}"
      ]
     },
     "execution_count": 2,
     "metadata": {},
     "output_type": "execute_result"
    }
   ],
   "source": [
    "eth_rpc.get_block_reward_by_block_number(block_no=236028161)"
   ]
  },
  {
   "cell_type": "code",
   "execution_count": 5,
   "id": "4e15ad96-6d6a-4367-979b-00f1fea47fd5",
   "metadata": {},
   "outputs": [
    {
     "name": "stdout",
     "output_type": "stream",
     "text": [
      "url: https://arbitrum.blockscout.com/api?module=block&action=getblockcountdown&blockno=236039161\n"
     ]
    },
    {
     "data": {
      "text/plain": [
       "{'message': 'OK',\n",
       " 'result': {'CountdownBlock': '236039161',\n",
       "  'CurrentBlock': '236029409',\n",
       "  'EstimateTimeInSec': '1433.5',\n",
       "  'RemainingBlock': '9752'},\n",
       " 'status': '1'}"
      ]
     },
     "execution_count": 5,
     "metadata": {},
     "output_type": "execute_result"
    }
   ],
   "source": [
    "eth_rpc.get_est_block_countdown_time_by_block_number(block_no=236039161)"
   ]
  }
 ],
 "metadata": {
  "kernelspec": {
   "display_name": "Python 3 (ipykernel)",
   "language": "python",
   "name": "python3"
  },
  "language_info": {
   "codemirror_mode": {
    "name": "ipython",
    "version": 3
   },
   "file_extension": ".py",
   "mimetype": "text/x-python",
   "name": "python",
   "nbconvert_exporter": "python",
   "pygments_lexer": "ipython3",
   "version": "3.10.0rc2"
  }
 },
 "nbformat": 4,
 "nbformat_minor": 5
}
