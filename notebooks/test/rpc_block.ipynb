{
 "cells": [
  {
   "cell_type": "code",
   "execution_count": 1,
   "id": "95ccae47-63af-4cc9-84aa-d7503e4b7aec",
   "metadata": {},
   "outputs": [],
   "source": [
    "from blockscout import Blockscout\n",
    "from blockscout import Net\n",
    "from blockscout import API\n",
    "\n",
    "eth = Blockscout(Net.ROLLUX, API.RPC) "
   ]
  },
  {
   "cell_type": "code",
   "execution_count": 5,
   "id": "c9034caf-0343-4bb6-bf15-caf727cba695",
   "metadata": {},
   "outputs": [
    {
     "name": "stdout",
     "output_type": "stream",
     "text": [
      "url: https://explorer.rollux.com/api?module=block&action=getblockreward&blockno=1000000\n"
     ]
    },
    {
     "data": {
      "text/plain": [
       "{'message': 'OK',\n",
       " 'result': {'blockMiner': '0x4200000000000000000000000000000000000011',\n",
       "  'blockNumber': '1000000',\n",
       "  'blockReward': '0',\n",
       "  'timeStamp': 1689365241,\n",
       "  'uncleInclusionReward': '0',\n",
       "  'uncles': []},\n",
       " 'status': '1'}"
      ]
     },
     "execution_count": 5,
     "metadata": {},
     "output_type": "execute_result"
    }
   ],
   "source": [
    "eth.get_block_reward_by_block_number(block_no=1000000)"
   ]
  },
  {
   "cell_type": "code",
   "execution_count": 6,
   "id": "4e15ad96-6d6a-4367-979b-00f1fea47fd5",
   "metadata": {},
   "outputs": [
    {
     "name": "stdout",
     "output_type": "stream",
     "text": [
      "url: https://explorer.rollux.com/api?module=block&action=getblockcountdown&blockno=26594990\n"
     ]
    },
    {
     "data": {
      "text/plain": [
       "{'message': 'OK',\n",
       " 'result': {'CountdownBlock': '26594990',\n",
       "  'CurrentBlock': '16691636',\n",
       "  'EstimateTimeInSec': '19806708.0',\n",
       "  'RemainingBlock': '9903354'},\n",
       " 'status': '1'}"
      ]
     },
     "execution_count": 6,
     "metadata": {},
     "output_type": "execute_result"
    }
   ],
   "source": [
    "eth.get_est_block_countdown_time_by_block_number(block_no=26594990)"
   ]
  },
  {
   "cell_type": "code",
   "execution_count": 7,
   "id": "a3c31ed9-f9d4-4ffb-9079-5b35a97e52e1",
   "metadata": {},
   "outputs": [
    {
     "ename": "AttributeError",
     "evalue": "type object 'Blockscout' has no attribute 'get_block_number_by_timestamp'",
     "output_type": "error",
     "traceback": [
      "\u001b[0;31m---------------------------------------------------------------------------\u001b[0m",
      "\u001b[0;31mAttributeError\u001b[0m                            Traceback (most recent call last)",
      "Cell \u001b[0;32mIn[7], line 1\u001b[0m\n\u001b[0;32m----> 1\u001b[0m \u001b[43meth\u001b[49m\u001b[38;5;241;43m.\u001b[39;49m\u001b[43mget_block_number_by_timestamp\u001b[49m(timestamp\u001b[38;5;241m=\u001b[39m\u001b[38;5;241m1720494115\u001b[39m,closest\u001b[38;5;241m=\u001b[39m\u001b[38;5;124m\"\u001b[39m\u001b[38;5;124mbefore\u001b[39m\u001b[38;5;124m\"\u001b[39m)\n",
      "\u001b[0;31mAttributeError\u001b[0m: type object 'Blockscout' has no attribute 'get_block_number_by_timestamp'"
     ]
    }
   ],
   "source": [
    "eth.get_block_number_by_timestamp(timestamp=1720494115,closest=\"before\")"
   ]
  }
 ],
 "metadata": {
  "kernelspec": {
   "display_name": "Python 3 (ipykernel)",
   "language": "python",
   "name": "python3"
  },
  "language_info": {
   "codemirror_mode": {
    "name": "ipython",
    "version": 3
   },
   "file_extension": ".py",
   "mimetype": "text/x-python",
   "name": "python",
   "nbconvert_exporter": "python",
   "pygments_lexer": "ipython3",
   "version": "3.10.0rc2"
  }
 },
 "nbformat": 4,
 "nbformat_minor": 5
}
