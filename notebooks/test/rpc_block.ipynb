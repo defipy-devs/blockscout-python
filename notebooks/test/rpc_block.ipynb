{
 "cells": [
  {
   "cell_type": "code",
   "execution_count": 1,
   "id": "95ccae47-63af-4cc9-84aa-d7503e4b7aec",
   "metadata": {},
   "outputs": [
    {
     "ename": "ModuleNotFoundError",
     "evalue": "No module named 'blockscout.explorer.etherscan'",
     "output_type": "error",
     "traceback": [
      "\u001b[0;31m---------------------------------------------------------------------------\u001b[0m",
      "\u001b[0;31mModuleNotFoundError\u001b[0m                       Traceback (most recent call last)",
      "Cell \u001b[0;32mIn[1], line 1\u001b[0m\n\u001b[0;32m----> 1\u001b[0m \u001b[38;5;28;01mfrom\u001b[39;00m \u001b[38;5;21;01mblockscout\u001b[39;00m \u001b[38;5;28;01mimport\u001b[39;00m Blockscout\n\u001b[1;32m      2\u001b[0m \u001b[38;5;28;01mfrom\u001b[39;00m \u001b[38;5;21;01mblockscout\u001b[39;00m \u001b[38;5;28;01mimport\u001b[39;00m Net\n\u001b[1;32m      3\u001b[0m \u001b[38;5;28;01mfrom\u001b[39;00m \u001b[38;5;21;01mblockscout\u001b[39;00m \u001b[38;5;28;01mimport\u001b[39;00m API\n",
      "File \u001b[0;32m/Library/Frameworks/Python.framework/Versions/3.10/lib/python3.10/site-packages/blockscout/__init__.py:1\u001b[0m\n\u001b[0;32m----> 1\u001b[0m \u001b[38;5;28;01mfrom\u001b[39;00m \u001b[38;5;21;01m.\u001b[39;00m\u001b[38;5;21;01mexplorer\u001b[39;00m\u001b[38;5;21;01m.\u001b[39;00m\u001b[38;5;21;01metherscan\u001b[39;00m \u001b[38;5;28;01mimport\u001b[39;00m Etherscan\n\u001b[1;32m      2\u001b[0m \u001b[38;5;28;01mfrom\u001b[39;00m \u001b[38;5;21;01m.\u001b[39;00m\u001b[38;5;21;01mexplorer\u001b[39;00m\u001b[38;5;21;01m.\u001b[39;00m\u001b[38;5;21;01mblockscout\u001b[39;00m \u001b[38;5;28;01mimport\u001b[39;00m Blockscout\n\u001b[1;32m      3\u001b[0m \u001b[38;5;28;01mfrom\u001b[39;00m \u001b[38;5;21;01m.\u001b[39;00m\u001b[38;5;21;01menums\u001b[39;00m\u001b[38;5;21;01m.\u001b[39;00m\u001b[38;5;21;01mexplorers_enum\u001b[39;00m \u001b[38;5;28;01mimport\u001b[39;00m ExplorersEnum \u001b[38;5;28;01mas\u001b[39;00m Explorer\n",
      "\u001b[0;31mModuleNotFoundError\u001b[0m: No module named 'blockscout.explorer.etherscan'"
     ]
    }
   ],
   "source": [
    "from blockscout import Blockscout\n",
    "from blockscout import Net\n",
    "from blockscout import API\n",
    "\n",
    "eth = Blockscout(Net.ROLLUX, API.RPC) "
   ]
  },
  {
   "cell_type": "code",
   "execution_count": null,
   "id": "c9034caf-0343-4bb6-bf15-caf727cba695",
   "metadata": {},
   "outputs": [],
   "source": [
    "eth.get_block_reward_by_block_number(block_no=1000000)"
   ]
  },
  {
   "cell_type": "code",
   "execution_count": null,
   "id": "4e15ad96-6d6a-4367-979b-00f1fea47fd5",
   "metadata": {},
   "outputs": [],
   "source": [
    "eth.get_est_block_countdown_time_by_block_number(block_no=26594990)"
   ]
  }
 ],
 "metadata": {
  "kernelspec": {
   "display_name": "Python 3 (ipykernel)",
   "language": "python",
   "name": "python3"
  },
  "language_info": {
   "codemirror_mode": {
    "name": "ipython",
    "version": 3
   },
   "file_extension": ".py",
   "mimetype": "text/x-python",
   "name": "python",
   "nbconvert_exporter": "python",
   "pygments_lexer": "ipython3",
   "version": "3.10.0rc2"
  }
 },
 "nbformat": 4,
 "nbformat_minor": 5
}
