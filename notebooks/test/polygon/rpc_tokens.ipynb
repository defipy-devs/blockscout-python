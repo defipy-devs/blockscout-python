{
 "cells": [
  {
   "cell_type": "code",
   "execution_count": 19,
   "id": "40e6b3d4-17af-475f-9d37-d072d7d37db1",
   "metadata": {},
   "outputs": [],
   "source": [
    "from blockscout import Blockscout\n",
    "from blockscout import Net\n",
    "from blockscout import API\n",
    "\n",
    "vitalik_addr = '0xd8da6bf26964af9d7eed9e03e53415d37aa96045'\n",
    "usdc_addr = '0x3c499c542cEF5E3811e1192ce70d8cC03d5c3359'\n",
    "\n",
    "eth_rpc = Blockscout(Net.MATIC, API.RPC) "
   ]
  },
  {
   "cell_type": "code",
   "execution_count": 20,
   "id": "7aed2f67-7236-4047-9021-dcf5e1c1708c",
   "metadata": {},
   "outputs": [
    {
     "name": "stdout",
     "output_type": "stream",
     "text": [
      "url: https://polygon.blockscout.com/api?module=token&action=gettoken&contractaddress=0x3c499c542cEF5E3811e1192ce70d8cC03d5c3359\n"
     ]
    },
    {
     "data": {
      "text/plain": [
       "{'message': 'OK',\n",
       " 'result': {'cataloged': True,\n",
       "  'contractAddress': '0x3c499c542cef5e3811e1192ce70d8cc03d5c3359',\n",
       "  'decimals': '6',\n",
       "  'name': 'USD Coin',\n",
       "  'symbol': 'USDC',\n",
       "  'totalSupply': '390809003666960',\n",
       "  'type': 'ERC-20'},\n",
       " 'status': '1'}"
      ]
     },
     "execution_count": 20,
     "metadata": {},
     "output_type": "execute_result"
    }
   ],
   "source": [
    "eth_rpc.get_total_supply_by_contract_address(contractaddress=usdc_addr)"
   ]
  },
  {
   "cell_type": "code",
   "execution_count": 21,
   "id": "817de396-5264-4424-a103-83957daa1161",
   "metadata": {},
   "outputs": [
    {
     "name": "stdout",
     "output_type": "stream",
     "text": [
      "url: https://polygon.blockscout.com/api?module=token&action=gettokenholders&contractaddress=0x3c499c542cEF5E3811e1192ce70d8cC03d5c3359&page=1&offset=0\n"
     ]
    },
    {
     "data": {
      "text/plain": [
       "{'message': 'OK',\n",
       " 'result': [{'address': '0xf977814e90da44bfa03b6295a0616a897441acec',\n",
       "   'value': '106955973870000'},\n",
       "  {'address': '0xe7804c37c13166ff0b37f5ae0bb07a3aebb6e245',\n",
       "   'value': '49353313329815'},\n",
       "  {'address': '0xf89d7b9c864f589bbf53a82105107622b35eaa40',\n",
       "   'value': '23540532394559'},\n",
       "  {'address': '0x1ab4973a48dc892cd9971ece8e01dcc7688f8f23',\n",
       "   'value': '9048788881148'},\n",
       "  {'address': '0x4d8336bda6c11bd2a805c291ec719baedd10acb9',\n",
       "   'value': '7998088163352'},\n",
       "  {'address': '0x4b6f17856215eab57c29ebfa18b0a0f74a3627bb',\n",
       "   'value': '7367501122227'},\n",
       "  {'address': '0x166716c2838e182d64886135a96f1aabca9a9756',\n",
       "   'value': '7179491108542'},\n",
       "  {'address': '0xd36ec33c8bed5a9f7b6630855f1533455b98a418',\n",
       "   'value': '5833747367118'},\n",
       "  {'address': '0xa4d94019934d8333ef880abffbf2fdd611c762bd',\n",
       "   'value': '5635471628899'},\n",
       "  {'address': '0x3f1e6d87724558312734af6cd91dba4ac17eabff',\n",
       "   'value': '5424827920000'}],\n",
       " 'status': '1'}"
      ]
     },
     "execution_count": 21,
     "metadata": {},
     "output_type": "execute_result"
    }
   ],
   "source": [
    "eth_rpc.get_total_holders_by_contract_address(contractaddress=usdc_addr,page=1,offset=0)"
   ]
  },
  {
   "cell_type": "code",
   "execution_count": 22,
   "id": "c3904df1-f1d4-4320-8058-e066ab00a26f",
   "metadata": {},
   "outputs": [
    {
     "name": "stdout",
     "output_type": "stream",
     "text": [
      "url: https://polygon.blockscout.com/api?module=transaction&action=gettxinfo&txhash=0x9dd94ebbde988ba5a2e51fdf3aa341661987fc1e5ba0b3b247ca1c1bbfd7a6ec\n"
     ]
    },
    {
     "data": {
      "text/plain": [
       "{'message': 'OK',\n",
       " 'result': {'blockNumber': '59807382',\n",
       "  'confirmations': '130',\n",
       "  'from': '0xff5a5dcdf2348273eb228791f07cf30516414433',\n",
       "  'gasLimit': '28004',\n",
       "  'gasPrice': '30000000022',\n",
       "  'gasUsed': '28004',\n",
       "  'hash': '0x9dd94ebbde988ba5a2e51fdf3aa341661987fc1e5ba0b3b247ca1c1bbfd7a6ec',\n",
       "  'input': '0x7859bb8d00000000000000000000000000000000000000000000000000000000000f5ffc',\n",
       "  'logs': [{'address': '0x2c80179883217370f777e76c067eea91d8283c5c',\n",
       "    'data': '0x',\n",
       "    'index': '165',\n",
       "    'topics': ['0x019b3013705c8fbc4bfbebfaccb6b5dd82b7442cbbd37d656844ce845736747b',\n",
       "     '0x000000000000000000000000ff5a5dcdf2348273eb228791f07cf30516414433',\n",
       "     '0x00000000000000000000000000000000000000000000000000000000000f5ffc',\n",
       "     None]},\n",
       "   {'address': '0x0000000000000000000000000000000000001010',\n",
       "    'data': '0x0000000000000000000000000000000000000000000000000002fc15ae2b3000000000000000000000000000000000000000000000000000005a4f9420ffd44c000000000000000000000000000000000000000000000248d376865c6e446b0e0000000000000000000000000000000000000000000000000057537e72d4a44c000000000000000000000000000000000000000000000248d37982721c6f9b0e',\n",
       "    'index': '166',\n",
       "    'topics': ['0x4dfe1bbbcf077ddc3e01291eea2d5c70c2b422b415d95645b9adcfd678cb1d63',\n",
       "     '0x0000000000000000000000000000000000000000000000000000000000001010',\n",
       "     '0x000000000000000000000000ff5a5dcdf2348273eb228791f07cf30516414433',\n",
       "     '0x000000000000000000000000c684e44ce96a7d873af6bb31d4de02b5ca0f78c6']}],\n",
       "  'next_page_params': None,\n",
       "  'revertReason': '',\n",
       "  'success': True,\n",
       "  'timeStamp': '1721945209',\n",
       "  'to': '0x2c80179883217370f777e76c067eea91d8283c5c',\n",
       "  'value': '0'},\n",
       " 'status': '1'}"
      ]
     },
     "execution_count": 22,
     "metadata": {},
     "output_type": "execute_result"
    }
   ],
   "source": [
    "eth_rpc.get_tx_info(txhash=\"0x9dd94ebbde988ba5a2e51fdf3aa341661987fc1e5ba0b3b247ca1c1bbfd7a6ec\")"
   ]
  },
  {
   "cell_type": "code",
   "execution_count": 23,
   "id": "c3092340-b742-4314-a760-4f9c23001175",
   "metadata": {},
   "outputs": [
    {
     "name": "stdout",
     "output_type": "stream",
     "text": [
      "url: https://polygon.blockscout.com/api?module=transaction&action=gettxreceiptstatus&txhash=0x9dd94ebbde988ba5a2e51fdf3aa341661987fc1e5ba0b3b247ca1c1bbfd7a6ec\n"
     ]
    },
    {
     "data": {
      "text/plain": [
       "{'message': 'OK', 'result': {'status': '1'}, 'status': '1'}"
      ]
     },
     "execution_count": 23,
     "metadata": {},
     "output_type": "execute_result"
    }
   ],
   "source": [
    "eth_rpc.get_tx_receipt_status(txhash=\"0x9dd94ebbde988ba5a2e51fdf3aa341661987fc1e5ba0b3b247ca1c1bbfd7a6ec\")"
   ]
  },
  {
   "cell_type": "code",
   "execution_count": 24,
   "id": "2c1d3de9-cf6f-44a1-a1d9-b91b22691f33",
   "metadata": {},
   "outputs": [
    {
     "name": "stdout",
     "output_type": "stream",
     "text": [
      "url: https://polygon.blockscout.com/api?module=transaction&action=getstatus&txhash=0x9dd94ebbde988ba5a2e51fdf3aa341661987fc1e5ba0b3b247ca1c1bbfd7a6ec\n"
     ]
    },
    {
     "data": {
      "text/plain": [
       "{'message': 'OK',\n",
       " 'result': {'errDescription': '', 'isError': '0'},\n",
       " 'status': '1'}"
      ]
     },
     "execution_count": 24,
     "metadata": {},
     "output_type": "execute_result"
    }
   ],
   "source": [
    "eth_rpc.get_status(txhash=\"0x9dd94ebbde988ba5a2e51fdf3aa341661987fc1e5ba0b3b247ca1c1bbfd7a6ec\")"
   ]
  }
 ],
 "metadata": {
  "kernelspec": {
   "display_name": "Python 3 (ipykernel)",
   "language": "python",
   "name": "python3"
  },
  "language_info": {
   "codemirror_mode": {
    "name": "ipython",
    "version": 3
   },
   "file_extension": ".py",
   "mimetype": "text/x-python",
   "name": "python",
   "nbconvert_exporter": "python",
   "pygments_lexer": "ipython3",
   "version": "3.10.0rc2"
  }
 },
 "nbformat": 4,
 "nbformat_minor": 5
}
