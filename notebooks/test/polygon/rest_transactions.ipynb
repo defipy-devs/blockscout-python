{
 "cells": [
  {
   "cell_type": "code",
   "execution_count": 34,
   "id": "d7c1fe29-80d8-45bf-8f87-851fa13c5aa5",
   "metadata": {},
   "outputs": [],
   "source": [
    "from blockscout import Blockscout\n",
    "from blockscout import TokenTransfers\n",
    "from blockscout import Net\n",
    "from blockscout import API\n",
    "\n",
    "vitalik_addr = '0xd8da6bf26964af9d7eed9e03e53415d37aa96045'\n",
    "usdc_addr = '0x3c499c542cEF5E3811e1192ce70d8cC03d5c3359'\n",
    "\n",
    "eth_rest = Blockscout(Net.MATIC, API.REST) "
   ]
  },
  {
   "cell_type": "code",
   "execution_count": 19,
   "id": "8bf60cd0-efd1-4333-b52c-cf1c12c59ba4",
   "metadata": {},
   "outputs": [],
   "source": [
    "#eth_rest.get_main_page_transactions()"
   ]
  },
  {
   "cell_type": "code",
   "execution_count": 35,
   "id": "cf09c06e-6127-4519-b052-91290cc964bc",
   "metadata": {},
   "outputs": [
    {
     "name": "stdout",
     "output_type": "stream",
     "text": [
      "url: https://polygon.blockscout.com/api/v2/transactions/0x3ede5cc1ac219357001f0c9a0bf5639c3af842d206ec7991e3e25c4eb41f4be4\n"
     ]
    },
    {
     "data": {
      "text/plain": [
       "{'timestamp': '2024-07-25T22:02:45.000000Z',\n",
       " 'fee': {'type': 'actual', 'value': '1040790000936711'},\n",
       " 'gas_limit': '300000',\n",
       " 'block': 59807267,\n",
       " 'status': 'ok',\n",
       " 'method': 'checkIn',\n",
       " 'confirmations': 89,\n",
       " 'type': 0,\n",
       " 'exchange_rate': '0.499936',\n",
       " 'to': {'ens_domain_name': None,\n",
       "  'hash': '0xd8AfbF9b5d7da377d523F4bCddd2fd7F9322929a',\n",
       "  'implementation_address': None,\n",
       "  'implementation_name': None,\n",
       "  'implementations': [],\n",
       "  'is_contract': True,\n",
       "  'is_verified': False,\n",
       "  'metadata': None,\n",
       "  'name': None,\n",
       "  'private_tags': [],\n",
       "  'public_tags': [],\n",
       "  'watchlist_names': []},\n",
       " 'tx_burnt_fee': None,\n",
       " 'max_fee_per_gas': None,\n",
       " 'result': 'success',\n",
       " 'hash': '0x3ede5cc1ac219357001f0c9a0bf5639c3af842d206ec7991e3e25c4eb41f4be4',\n",
       " 'gas_price': '30000000027',\n",
       " 'priority_fee': None,\n",
       " 'base_fee_per_gas': '28',\n",
       " 'from': {'ens_domain_name': None,\n",
       "  'hash': '0x22eca92980B9DdB3E6A045d646da557C1Dc80771',\n",
       "  'implementation_address': None,\n",
       "  'implementation_name': None,\n",
       "  'implementations': [],\n",
       "  'is_contract': False,\n",
       "  'is_verified': False,\n",
       "  'metadata': None,\n",
       "  'name': None,\n",
       "  'private_tags': [],\n",
       "  'public_tags': [],\n",
       "  'watchlist_names': []},\n",
       " 'token_transfers': [],\n",
       " 'tx_types': ['contract_call'],\n",
       " 'gas_used': '34693',\n",
       " 'created_contract': None,\n",
       " 'position': 64,\n",
       " 'nonce': 26,\n",
       " 'has_error_in_internal_txs': False,\n",
       " 'actions': [],\n",
       " 'decoded_input': {'method_call': 'checkIn()',\n",
       "  'method_id': '183ff085',\n",
       "  'parameters': []},\n",
       " 'token_transfers_overflow': False,\n",
       " 'raw_input': '0x183ff085',\n",
       " 'value': '0',\n",
       " 'max_priority_fee_per_gas': None,\n",
       " 'revert_reason': None,\n",
       " 'confirmation_duration': [0, 2121.0],\n",
       " 'tx_tag': None}"
      ]
     },
     "execution_count": 35,
     "metadata": {},
     "output_type": "execute_result"
    }
   ],
   "source": [
    "eth_rest.get_transaction_info(tx_hash = \"0x3ede5cc1ac219357001f0c9a0bf5639c3af842d206ec7991e3e25c4eb41f4be4\")"
   ]
  },
  {
   "cell_type": "code",
   "execution_count": 36,
   "id": "52088cce-df88-48a1-b351-5382e4087201",
   "metadata": {},
   "outputs": [
    {
     "name": "stdout",
     "output_type": "stream",
     "text": [
      "url: https://polygon.blockscout.com/api/v2/transactions/0x3ede5cc1ac219357001f0c9a0bf5639c3af842d206ec7991e3e25c4eb41f4be4/token-transfers?type=ERC-20%2CERC-721%2CERC-1155\n"
     ]
    },
    {
     "data": {
      "text/plain": [
       "{'items': [], 'next_page_params': None}"
      ]
     },
     "execution_count": 36,
     "metadata": {},
     "output_type": "execute_result"
    }
   ],
   "source": [
    "eth_rest.get_token_hash_transfers(tx_hash = \"0x3ede5cc1ac219357001f0c9a0bf5639c3af842d206ec7991e3e25c4eb41f4be4\")"
   ]
  },
  {
   "cell_type": "code",
   "execution_count": 37,
   "id": "7250d6d5-0c55-4a37-bcc9-26f495b6be9f",
   "metadata": {},
   "outputs": [
    {
     "name": "stdout",
     "output_type": "stream",
     "text": [
      "url: https://polygon.blockscout.com/api/v2/transactions/0x3ede5cc1ac219357001f0c9a0bf5639c3af842d206ec7991e3e25c4eb41f4be4/internal-transactions\n"
     ]
    },
    {
     "data": {
      "text/plain": [
       "{'items': [], 'next_page_params': None}"
      ]
     },
     "execution_count": 37,
     "metadata": {},
     "output_type": "execute_result"
    }
   ],
   "source": [
    "eth_rest.get_internal_transactions(tx_hash = \"0x3ede5cc1ac219357001f0c9a0bf5639c3af842d206ec7991e3e25c4eb41f4be4\")"
   ]
  },
  {
   "cell_type": "code",
   "execution_count": 38,
   "id": "3f970862-1879-433b-b3ce-f1ec9b94bade",
   "metadata": {},
   "outputs": [
    {
     "name": "stdout",
     "output_type": "stream",
     "text": [
      "url: https://polygon.blockscout.com/api/v2/transactions/0x3ede5cc1ac219357001f0c9a0bf5639c3af842d206ec7991e3e25c4eb41f4be4/logs\n"
     ]
    },
    {
     "data": {
      "text/plain": [
       "{'items': [{'address': {'ens_domain_name': None,\n",
       "    'hash': '0xd8AfbF9b5d7da377d523F4bCddd2fd7F9322929a',\n",
       "    'implementation_address': None,\n",
       "    'implementation_name': None,\n",
       "    'implementations': [],\n",
       "    'is_contract': True,\n",
       "    'is_verified': False,\n",
       "    'metadata': None,\n",
       "    'name': None,\n",
       "    'private_tags': [],\n",
       "    'public_tags': [],\n",
       "    'watchlist_names': []},\n",
       "   'block_hash': '0x3e7b70314dd066d6ce8c6dc12b5123ef3c397e6900e41d893990534e0c3e9853',\n",
       "   'block_number': 59807267,\n",
       "   'data': '0x0000000000000000000000000000000000000000000000000000000000004dd90000000000000000000000000000000000000000000000000000000066a2cb85',\n",
       "   'decoded': {'method_call': 'CheckInEvent(address indexed user, uint256 date, uint256 timestamp)',\n",
       "    'method_id': '455c1ec2',\n",
       "    'parameters': [{'indexed': True,\n",
       "      'name': 'user',\n",
       "      'type': 'address',\n",
       "      'value': '0x22eca92980b9ddb3e6a045d646da557c1dc80771'},\n",
       "     {'indexed': False, 'name': 'date', 'type': 'uint256', 'value': '19929'},\n",
       "     {'indexed': False,\n",
       "      'name': 'timestamp',\n",
       "      'type': 'uint256',\n",
       "      'value': '1721944965'}]},\n",
       "   'index': 222,\n",
       "   'smart_contract': None,\n",
       "   'topics': ['0x455c1ec2de533b70dc801a34a71f427f49eab272a8ae032773d40899e546e890',\n",
       "    '0x00000000000000000000000022eca92980b9ddb3e6a045d646da557c1dc80771',\n",
       "    None,\n",
       "    None],\n",
       "   'tx_hash': '0x3ede5cc1ac219357001f0c9a0bf5639c3af842d206ec7991e3e25c4eb41f4be4'},\n",
       "  {'address': {'ens_domain_name': None,\n",
       "    'hash': '0x0000000000000000000000000000000000001010',\n",
       "    'implementation_address': None,\n",
       "    'implementation_name': None,\n",
       "    'implementations': [],\n",
       "    'is_contract': True,\n",
       "    'is_verified': True,\n",
       "    'metadata': None,\n",
       "    'name': 'MRC20',\n",
       "    'private_tags': [],\n",
       "    'public_tags': [],\n",
       "    'watchlist_names': []},\n",
       "   'block_hash': '0x3e7b70314dd066d6ce8c6dc12b5123ef3c397e6900e41d893990534e0c3e9853',\n",
       "   'block_number': 59807267,\n",
       "   'data': '0x0000000000000000000000000000000000000000000000000003b297ce3bd47b0000000000000000000000000000000000000000000000001755c90974961eec000000000000000000000000000000000000000000000041f1b45b2d8cd51cf200000000000000000000000000000000000000000000000017521671a65a4a71000000000000000000000000000000000000000000000041f1b80dc55b10f16d',\n",
       "   'decoded': {'method_call': 'LogFeeTransfer(address indexed token, address indexed from, address indexed to, uint256 amount, uint256 input1, uint256 input2, uint256 output1, uint256 output2)',\n",
       "    'method_id': '4dfe1bbb',\n",
       "    'parameters': [{'indexed': True,\n",
       "      'name': 'token',\n",
       "      'type': 'address',\n",
       "      'value': '0x0000000000000000000000000000000000001010'},\n",
       "     {'indexed': True,\n",
       "      'name': 'from',\n",
       "      'type': 'address',\n",
       "      'value': '0x22eca92980b9ddb3e6a045d646da557c1dc80771'},\n",
       "     {'indexed': True,\n",
       "      'name': 'to',\n",
       "      'type': 'address',\n",
       "      'value': '0x67b94473d81d0cd00849d563c94d0432ac988b49'},\n",
       "     {'indexed': False,\n",
       "      'name': 'amount',\n",
       "      'type': 'uint256',\n",
       "      'value': '1040789999965307'},\n",
       "     {'indexed': False,\n",
       "      'name': 'input1',\n",
       "      'type': 'uint256',\n",
       "      'value': '1681471078340632300'},\n",
       "     {'indexed': False,\n",
       "      'name': 'input2',\n",
       "      'type': 'uint256',\n",
       "      'value': '1216455010701263838450'},\n",
       "     {'indexed': False,\n",
       "      'name': 'output1',\n",
       "      'type': 'uint256',\n",
       "      'value': '1680430288340666993'},\n",
       "     {'indexed': False,\n",
       "      'name': 'output2',\n",
       "      'type': 'uint256',\n",
       "      'value': '1216456051491263803757'}]},\n",
       "   'index': 223,\n",
       "   'smart_contract': None,\n",
       "   'topics': ['0x4dfe1bbbcf077ddc3e01291eea2d5c70c2b422b415d95645b9adcfd678cb1d63',\n",
       "    '0x0000000000000000000000000000000000000000000000000000000000001010',\n",
       "    '0x00000000000000000000000022eca92980b9ddb3e6a045d646da557c1dc80771',\n",
       "    '0x00000000000000000000000067b94473d81d0cd00849d563c94d0432ac988b49'],\n",
       "   'tx_hash': '0x3ede5cc1ac219357001f0c9a0bf5639c3af842d206ec7991e3e25c4eb41f4be4'}],\n",
       " 'next_page_params': None}"
      ]
     },
     "execution_count": 38,
     "metadata": {},
     "output_type": "execute_result"
    }
   ],
   "source": [
    "eth_rest.get_transaction_logs(tx_hash = \"0x3ede5cc1ac219357001f0c9a0bf5639c3af842d206ec7991e3e25c4eb41f4be4\")"
   ]
  },
  {
   "cell_type": "code",
   "execution_count": 39,
   "id": "5c47f153-182a-4773-bd59-0969526293eb",
   "metadata": {},
   "outputs": [
    {
     "name": "stdout",
     "output_type": "stream",
     "text": [
      "url: https://polygon.blockscout.com/api/v2/transactions/0x3ede5cc1ac219357001f0c9a0bf5639c3af842d206ec7991e3e25c4eb41f4be4/state-changes\n"
     ]
    },
    {
     "data": {
      "text/plain": [
       "{'items': [{'address': {'ens_domain_name': None,\n",
       "    'hash': '0x22eca92980B9DdB3E6A045d646da557C1Dc80771',\n",
       "    'implementation_address': None,\n",
       "    'implementation_name': None,\n",
       "    'implementations': [],\n",
       "    'is_contract': False,\n",
       "    'is_verified': False,\n",
       "    'metadata': None,\n",
       "    'name': None,\n",
       "    'private_tags': [],\n",
       "    'public_tags': [],\n",
       "    'watchlist_names': []},\n",
       "   'balance_after': '1680430288339695589',\n",
       "   'balance_before': '1681471078340632300',\n",
       "   'change': '-1040790000936711',\n",
       "   'is_miner': False,\n",
       "   'token': None,\n",
       "   'token_id': None,\n",
       "   'type': 'coin'},\n",
       "  {'address': {'ens_domain_name': None,\n",
       "    'hash': '0x0000000000000000000000000000000000000000',\n",
       "    'implementation_address': None,\n",
       "    'implementation_name': None,\n",
       "    'implementations': [],\n",
       "    'is_contract': False,\n",
       "    'is_verified': False,\n",
       "    'metadata': None,\n",
       "    'name': None,\n",
       "    'private_tags': [],\n",
       "    'public_tags': [],\n",
       "    'watchlist_names': []},\n",
       "   'balance_after': '85953340491804625112017',\n",
       "   'balance_before': '85953339451014625146710',\n",
       "   'change': '1040789999965307',\n",
       "   'is_miner': True,\n",
       "   'token': None,\n",
       "   'token_id': None,\n",
       "   'type': 'coin'}],\n",
       " 'next_page_params': None}"
      ]
     },
     "execution_count": 39,
     "metadata": {},
     "output_type": "execute_result"
    }
   ],
   "source": [
    "eth_rest.get_state_changes(tx_hash = \"0x3ede5cc1ac219357001f0c9a0bf5639c3af842d206ec7991e3e25c4eb41f4be4\")"
   ]
  }
 ],
 "metadata": {
  "kernelspec": {
   "display_name": "Python 3 (ipykernel)",
   "language": "python",
   "name": "python3"
  },
  "language_info": {
   "codemirror_mode": {
    "name": "ipython",
    "version": 3
   },
   "file_extension": ".py",
   "mimetype": "text/x-python",
   "name": "python",
   "nbconvert_exporter": "python",
   "pygments_lexer": "ipython3",
   "version": "3.10.0rc2"
  }
 },
 "nbformat": 4,
 "nbformat_minor": 5
}
