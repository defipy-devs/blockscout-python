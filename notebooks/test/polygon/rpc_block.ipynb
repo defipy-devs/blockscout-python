{
 "cells": [
  {
   "cell_type": "code",
   "execution_count": 22,
   "id": "95ccae47-63af-4cc9-84aa-d7503e4b7aec",
   "metadata": {},
   "outputs": [],
   "source": [
    "from blockscout import Blockscout\n",
    "from blockscout import Net\n",
    "from blockscout import API\n",
    "\n",
    "vitalik_addr = '0xd8da6bf26964af9d7eed9e03e53415d37aa96045'\n",
    "usdc_addr = '0x3c499c542cEF5E3811e1192ce70d8cC03d5c3359'\n",
    "\n",
    "eth_rpc = Blockscout(Net.MATIC, API.RPC) "
   ]
  },
  {
   "cell_type": "code",
   "execution_count": 23,
   "id": "c9034caf-0343-4bb6-bf15-caf727cba695",
   "metadata": {},
   "outputs": [
    {
     "name": "stdout",
     "output_type": "stream",
     "text": [
      "url: https://polygon.blockscout.com/api?module=block&action=getblockreward&blockno=59807382\n"
     ]
    },
    {
     "data": {
      "text/plain": [
       "{'message': 'OK',\n",
       " 'result': {'blockMiner': '0x0000000000000000000000000000000000000000',\n",
       "  'blockNumber': '59807382',\n",
       "  'blockReward': '0',\n",
       "  'timeStamp': 1721945209,\n",
       "  'uncleInclusionReward': '0',\n",
       "  'uncles': []},\n",
       " 'status': '1'}"
      ]
     },
     "execution_count": 23,
     "metadata": {},
     "output_type": "execute_result"
    }
   ],
   "source": [
    "eth_rpc.get_block_reward_by_block_number(block_no=59807382)"
   ]
  },
  {
   "cell_type": "code",
   "execution_count": 25,
   "id": "4e15ad96-6d6a-4367-979b-00f1fea47fd5",
   "metadata": {},
   "outputs": [
    {
     "name": "stdout",
     "output_type": "stream",
     "text": [
      "url: https://polygon.blockscout.com/api?module=block&action=getblockcountdown&blockno=59857382\n"
     ]
    },
    {
     "data": {
      "text/plain": [
       "{'message': 'OK',\n",
       " 'result': {'CountdownBlock': '59857382',\n",
       "  'CurrentBlock': '59807442',\n",
       "  'EstimateTimeInSec': '105922.7',\n",
       "  'RemainingBlock': '49940'},\n",
       " 'status': '1'}"
      ]
     },
     "execution_count": 25,
     "metadata": {},
     "output_type": "execute_result"
    }
   ],
   "source": [
    "eth_rpc.get_est_block_countdown_time_by_block_number(block_no=59857382)"
   ]
  }
 ],
 "metadata": {
  "kernelspec": {
   "display_name": "Python 3 (ipykernel)",
   "language": "python",
   "name": "python3"
  },
  "language_info": {
   "codemirror_mode": {
    "name": "ipython",
    "version": 3
   },
   "file_extension": ".py",
   "mimetype": "text/x-python",
   "name": "python",
   "nbconvert_exporter": "python",
   "pygments_lexer": "ipython3",
   "version": "3.10.0rc2"
  }
 },
 "nbformat": 4,
 "nbformat_minor": 5
}
