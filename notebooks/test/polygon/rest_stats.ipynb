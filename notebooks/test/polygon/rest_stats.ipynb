{
 "cells": [
  {
   "cell_type": "code",
   "execution_count": 10,
   "id": "fb376097-418e-40ed-b8b5-485186c4601f",
   "metadata": {},
   "outputs": [],
   "source": [
    "from blockscout import Blockscout\n",
    "from blockscout import TokenTransfers\n",
    "from blockscout import Net\n",
    "from blockscout import API\n",
    "\n",
    "vitalik_addr = '0xd8da6bf26964af9d7eed9e03e53415d37aa96045'\n",
    "usdc_addr = '0x3c499c542cEF5E3811e1192ce70d8cC03d5c3359'\n",
    "\n",
    "eth_rest = Blockscout(Net.MATIC, API.REST) "
   ]
  },
  {
   "cell_type": "code",
   "execution_count": 11,
   "id": "d804ad2f-52de-4e60-b8c6-316c3595a718",
   "metadata": {},
   "outputs": [
    {
     "name": "stdout",
     "output_type": "stream",
     "text": [
      "url: https://polygon.blockscout.com/api/v2/stats\n"
     ]
    },
    {
     "data": {
      "text/plain": [
       "{'average_block_time': 2121.0,\n",
       " 'coin_image': 'https://coin-images.coingecko.com/coins/images/39139/small/MATIC.png?1720706717',\n",
       " 'coin_price': '0.499936',\n",
       " 'coin_price_change_percentage': -5.58,\n",
       " 'gas_price_updated_at': '2024-07-25T22:04:15.845093Z',\n",
       " 'gas_prices': {'slow': 30.19, 'average': 37.37, 'fast': 91.06},\n",
       " 'gas_prices_update_in': 13429,\n",
       " 'gas_used_today': '529946329728',\n",
       " 'market_cap': '0.0000000',\n",
       " 'network_utilization_percentage': 32.260613666666664,\n",
       " 'secondary_coin_price': None,\n",
       " 'static_gas_price': None,\n",
       " 'total_addresses': '337845649',\n",
       " 'total_blocks': '12484804',\n",
       " 'total_gas_used': '0',\n",
       " 'total_transactions': '1062817607',\n",
       " 'transactions_today': '3666127',\n",
       " 'tvl': None}"
      ]
     },
     "execution_count": 11,
     "metadata": {},
     "output_type": "execute_result"
    }
   ],
   "source": [
    "eth_rest.get_stats_counters()"
   ]
  },
  {
   "cell_type": "code",
   "execution_count": 12,
   "id": "8457077c-9a9d-48c2-9338-87327562962b",
   "metadata": {},
   "outputs": [
    {
     "name": "stdout",
     "output_type": "stream",
     "text": [
      "url: https://polygon.blockscout.com/api/v2/stats/charts/transactions\n"
     ]
    },
    {
     "data": {
      "text/plain": [
       "{'chart_data': [{'date': '2024-07-24', 'tx_count': 3666127},\n",
       "  {'date': '2024-07-23', 'tx_count': 3932972},\n",
       "  {'date': '2024-07-22', 'tx_count': 3690506},\n",
       "  {'date': '2024-07-21', 'tx_count': 3726878},\n",
       "  {'date': '2024-07-20', 'tx_count': 3270876},\n",
       "  {'date': '2024-07-19', 'tx_count': 3692628},\n",
       "  {'date': '2024-07-18', 'tx_count': 3758853},\n",
       "  {'date': '2024-07-17', 'tx_count': 3931310},\n",
       "  {'date': '2024-07-16', 'tx_count': 3838749},\n",
       "  {'date': '2024-07-15', 'tx_count': 3769098},\n",
       "  {'date': '2024-07-14', 'tx_count': 3494415},\n",
       "  {'date': '2024-07-13', 'tx_count': 3599386},\n",
       "  {'date': '2024-07-12', 'tx_count': 3559598},\n",
       "  {'date': '2024-07-11', 'tx_count': 3563183},\n",
       "  {'date': '2024-07-10', 'tx_count': 3624247},\n",
       "  {'date': '2024-07-09', 'tx_count': 3857642},\n",
       "  {'date': '2024-07-08', 'tx_count': 3963612},\n",
       "  {'date': '2024-07-07', 'tx_count': 3687005},\n",
       "  {'date': '2024-07-06', 'tx_count': 3761555},\n",
       "  {'date': '2024-07-05', 'tx_count': 4154907},\n",
       "  {'date': '2024-07-04', 'tx_count': 4141548},\n",
       "  {'date': '2024-07-03', 'tx_count': 3782449},\n",
       "  {'date': '2024-07-02', 'tx_count': 4279928},\n",
       "  {'date': '2024-07-01', 'tx_count': 4154506},\n",
       "  {'date': '2024-06-30', 'tx_count': 3850415},\n",
       "  {'date': '2024-06-29', 'tx_count': 3895620},\n",
       "  {'date': '2024-06-28', 'tx_count': 4179825},\n",
       "  {'date': '2024-06-27', 'tx_count': 4660464},\n",
       "  {'date': '2024-06-26', 'tx_count': 4402337},\n",
       "  {'date': '2024-06-25', 'tx_count': 4140990},\n",
       "  {'date': '2024-06-24', 'tx_count': 4265870}]}"
      ]
     },
     "execution_count": 12,
     "metadata": {},
     "output_type": "execute_result"
    }
   ],
   "source": [
    "eth_rest.get_stats_transactions_chart()"
   ]
  }
 ],
 "metadata": {
  "kernelspec": {
   "display_name": "Python 3 (ipykernel)",
   "language": "python",
   "name": "python3"
  },
  "language_info": {
   "codemirror_mode": {
    "name": "ipython",
    "version": 3
   },
   "file_extension": ".py",
   "mimetype": "text/x-python",
   "name": "python",
   "nbconvert_exporter": "python",
   "pygments_lexer": "ipython3",
   "version": "3.10.0rc2"
  }
 },
 "nbformat": 4,
 "nbformat_minor": 5
}
