{
 "cells": [
  {
   "cell_type": "code",
   "execution_count": 5,
   "id": "fb376097-418e-40ed-b8b5-485186c4601f",
   "metadata": {},
   "outputs": [],
   "source": [
    "from blockscout import Blockscout\n",
    "from blockscout import Net\n",
    "from blockscout import API\n",
    "\n",
    "eth = Blockscout(Net.ROLLUX, API.REST) "
   ]
  },
  {
   "cell_type": "code",
   "execution_count": 3,
   "id": "d804ad2f-52de-4e60-b8c6-316c3595a718",
   "metadata": {},
   "outputs": [
    {
     "name": "stdout",
     "output_type": "stream",
     "text": [
      "url: https://explorer.rollux.com/api/v2/stats\n"
     ]
    },
    {
     "data": {
      "text/plain": [
       "{'average_block_time': 2000.0,\n",
       " 'coin_image': None,\n",
       " 'coin_price': None,\n",
       " 'coin_price_change_percentage': None,\n",
       " 'gas_price_updated_at': '2024-07-12T21:06:21.072993Z',\n",
       " 'gas_prices': {'average': 0.13, 'fast': 0.13, 'slow': 0.13},\n",
       " 'gas_prices_update_in': 30448,\n",
       " 'gas_used_today': '15680546344',\n",
       " 'market_cap': '0',\n",
       " 'network_utilization_percentage': 1.2403707333333334,\n",
       " 'secondary_coin_price': None,\n",
       " 'static_gas_price': None,\n",
       " 'total_addresses': '47391',\n",
       " 'total_blocks': '16723992',\n",
       " 'total_gas_used': '0',\n",
       " 'total_transactions': '20314918',\n",
       " 'transactions_today': '55015',\n",
       " 'tvl': None}"
      ]
     },
     "execution_count": 3,
     "metadata": {},
     "output_type": "execute_result"
    }
   ],
   "source": [
    "eth.get_stats_counters()"
   ]
  },
  {
   "cell_type": "code",
   "execution_count": 4,
   "id": "8457077c-9a9d-48c2-9338-87327562962b",
   "metadata": {},
   "outputs": [
    {
     "name": "stdout",
     "output_type": "stream",
     "text": [
      "url: https://explorer.rollux.com/api/v2/stats/charts/transactions\n"
     ]
    },
    {
     "data": {
      "text/plain": [
       "{'chart_data': [{'date': '2024-07-11', 'tx_count': 55015},\n",
       "  {'date': '2024-07-10', 'tx_count': 54518},\n",
       "  {'date': '2024-07-09', 'tx_count': 54550},\n",
       "  {'date': '2024-07-08', 'tx_count': 55238},\n",
       "  {'date': '2024-07-07', 'tx_count': 55070},\n",
       "  {'date': '2024-07-06', 'tx_count': 54375},\n",
       "  {'date': '2024-07-05', 'tx_count': 54822},\n",
       "  {'date': '2024-07-04', 'tx_count': 54950},\n",
       "  {'date': '2024-07-03', 'tx_count': 54620},\n",
       "  {'date': '2024-07-02', 'tx_count': 54398},\n",
       "  {'date': '2024-07-01', 'tx_count': 54323},\n",
       "  {'date': '2024-06-30', 'tx_count': 54458},\n",
       "  {'date': '2024-06-29', 'tx_count': 54469},\n",
       "  {'date': '2024-06-28', 'tx_count': 54685},\n",
       "  {'date': '2024-06-27', 'tx_count': 54655},\n",
       "  {'date': '2024-06-26', 'tx_count': 54535},\n",
       "  {'date': '2024-06-25', 'tx_count': 54762},\n",
       "  {'date': '2024-06-24', 'tx_count': 55447},\n",
       "  {'date': '2024-06-23', 'tx_count': 54639},\n",
       "  {'date': '2024-06-22', 'tx_count': 55091},\n",
       "  {'date': '2024-06-21', 'tx_count': 54244},\n",
       "  {'date': '2024-06-20', 'tx_count': 54635},\n",
       "  {'date': '2024-06-19', 'tx_count': 54529},\n",
       "  {'date': '2024-06-18', 'tx_count': 54925},\n",
       "  {'date': '2024-06-17', 'tx_count': 54356},\n",
       "  {'date': '2024-06-16', 'tx_count': 53462},\n",
       "  {'date': '2024-06-15', 'tx_count': 54708},\n",
       "  {'date': '2024-06-14', 'tx_count': 54697},\n",
       "  {'date': '2024-06-13', 'tx_count': 54452},\n",
       "  {'date': '2024-06-12', 'tx_count': 54467},\n",
       "  {'date': '2024-06-11', 'tx_count': 54304}]}"
      ]
     },
     "execution_count": 4,
     "metadata": {},
     "output_type": "execute_result"
    }
   ],
   "source": [
    "eth.get_stats_transactions_chart()"
   ]
  }
 ],
 "metadata": {
  "kernelspec": {
   "display_name": "Python 3 (ipykernel)",
   "language": "python",
   "name": "python3"
  },
  "language_info": {
   "codemirror_mode": {
    "name": "ipython",
    "version": 3
   },
   "file_extension": ".py",
   "mimetype": "text/x-python",
   "name": "python",
   "nbconvert_exporter": "python",
   "pygments_lexer": "ipython3",
   "version": "3.10.0rc2"
  }
 },
 "nbformat": 4,
 "nbformat_minor": 5
}
