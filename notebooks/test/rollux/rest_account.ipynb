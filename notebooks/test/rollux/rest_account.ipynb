{
 "cells": [
  {
   "cell_type": "markdown",
   "id": "7ed6fab7-681c-48ac-a843-dc1e051bfd13",
   "metadata": {},
   "source": [
    "* https://explorer.rollux.com"
   ]
  },
  {
   "cell_type": "code",
   "execution_count": 28,
   "id": "a680857f-e2a5-4f32-8cdd-ffa3c3dcef52",
   "metadata": {},
   "outputs": [],
   "source": [
    "from blockscout import Blockscout\n",
    "from blockscout import TokenTransfers\n",
    "from blockscout import Net\n",
    "from blockscout import API\n",
    "\n",
    "eth = Blockscout(Net.ROLLUX, API.REST) "
   ]
  },
  {
   "cell_type": "code",
   "execution_count": 2,
   "id": "e633181f-0606-4d8b-904b-d925b5f89016",
   "metadata": {},
   "outputs": [],
   "source": [
    "#eth.get_addresses()"
   ]
  },
  {
   "cell_type": "code",
   "execution_count": 29,
   "id": "98f63940-9094-45d4-b2ba-2726129aa9e9",
   "metadata": {},
   "outputs": [
    {
     "name": "stdout",
     "output_type": "stream",
     "text": [
      "url: https://explorer.rollux.com/api/v2/addresses/0x8A4AA176007196D48d39C89402d3753c39AE64c1/coin-balance-history-by-day\n"
     ]
    },
    {
     "data": {
      "text/plain": [
       "{'days': 90,\n",
       " 'items': [{'date': '2024-04-25', 'value': '86446407228877425325650'},\n",
       "  {'date': '2024-05-03', 'value': '86446407228830192381490'},\n",
       "  {'date': '2024-06-27', 'value': '23312671671780191321359'},\n",
       "  {'date': '2024-07-15', 'value': '26965534847863886139012'},\n",
       "  {'date': '2024-07-22', 'value': '26965534847863886139012'}]}"
      ]
     },
     "execution_count": 29,
     "metadata": {},
     "output_type": "execute_result"
    }
   ],
   "source": [
    "eth.get_coin_balance_history_by_day(address = '0x8A4AA176007196D48d39C89402d3753c39AE64c1')"
   ]
  },
  {
   "cell_type": "code",
   "execution_count": 42,
   "id": "be732706-8960-436f-ad52-1368eba81a23",
   "metadata": {},
   "outputs": [],
   "source": [
    "#eth.get_coin_balance_history(address = '0x8A4AA176007196D48d39C89402d3753c39AE64c1')"
   ]
  },
  {
   "cell_type": "code",
   "execution_count": 31,
   "id": "86ca832a-3b88-4604-be72-1e7f4ba12f02",
   "metadata": {},
   "outputs": [
    {
     "name": "stdout",
     "output_type": "stream",
     "text": [
      "url: https://explorer.rollux.com/api/v2/addresses/0x48023b16c3e81AA7F6eFFbdEB35Bb83f4f31a8fd/tokens/?/type=ERC-20%2CERC-721%2CERC-1155\n"
     ]
    },
    {
     "data": {
      "text/plain": [
       "{'items': [{'token': {'address': '0x48023b16c3e81AA7F6eFFbdEB35Bb83f4f31a8fd',\n",
       "    'circulating_market_cap': None,\n",
       "    'decimals': '18',\n",
       "    'exchange_rate': None,\n",
       "    'holders': '551',\n",
       "    'icon_url': None,\n",
       "    'name': 'Pegasys',\n",
       "    'symbol': 'PSYS',\n",
       "    'total_supply': '46672962323868817457367234',\n",
       "    'type': 'ERC-20',\n",
       "    'volume_24h': None},\n",
       "   'token_id': None,\n",
       "   'token_instance': None,\n",
       "   'value': '11280500000000000000000'},\n",
       "  {'token': {'address': '0xAe6E9d862De84DBc3185c17ae1aDB2c992FCCCA1',\n",
       "    'circulating_market_cap': None,\n",
       "    'decimals': '18',\n",
       "    'exchange_rate': None,\n",
       "    'holders': '5',\n",
       "    'icon_url': None,\n",
       "    'name': 'Pegasys LP Token',\n",
       "    'symbol': 'PLP',\n",
       "    'total_supply': '5540495838360097524',\n",
       "    'type': 'ERC-20',\n",
       "    'volume_24h': None},\n",
       "   'token_id': None,\n",
       "   'token_instance': None,\n",
       "   'value': '999999999999999000'}],\n",
       " 'next_page_params': None}"
      ]
     },
     "execution_count": 31,
     "metadata": {},
     "output_type": "execute_result"
    }
   ],
   "source": [
    "eth.get_token_balances_with_filtering(address = '0x48023b16c3e81AA7F6eFFbdEB35Bb83f4f31a8fd')"
   ]
  },
  {
   "cell_type": "code",
   "execution_count": 32,
   "id": "01f22696-1cc6-4dc6-aa35-d27f14f69782",
   "metadata": {},
   "outputs": [
    {
     "name": "stdout",
     "output_type": "stream",
     "text": [
      "url: https://explorer.rollux.com/api/v2/addresses/0x8A4AA176007196D48d39C89402d3753c39AE64c1/token-balances\n"
     ]
    },
    {
     "data": {
      "text/plain": [
       "[{'token': {'address': '0x4200000000000000000000000000000000000006',\n",
       "   'circulating_market_cap': None,\n",
       "   'decimals': '18',\n",
       "   'exchange_rate': None,\n",
       "   'holders': '271',\n",
       "   'icon_url': None,\n",
       "   'name': 'Wrapped Syscoin',\n",
       "   'symbol': 'WSYS',\n",
       "   'total_supply': '2044152460808190153217640',\n",
       "   'type': 'ERC-20',\n",
       "   'volume_24h': None},\n",
       "  'token_id': None,\n",
       "  'token_instance': None,\n",
       "  'value': '65787771636449164370510'},\n",
       " {'token': {'address': '0xaA1c53AFd099E415208F47FCFA2C880f659E6904',\n",
       "   'circulating_market_cap': None,\n",
       "   'decimals': '18',\n",
       "   'exchange_rate': None,\n",
       "   'holders': '99',\n",
       "   'icon_url': None,\n",
       "   'name': 'Ethereum',\n",
       "   'symbol': 'ETH',\n",
       "   'total_supply': '2701501811659537706981',\n",
       "   'type': 'ERC-20',\n",
       "   'volume_24h': None},\n",
       "  'token_id': None,\n",
       "  'token_instance': None,\n",
       "  'value': '2689091041860717000235'},\n",
       " {'token': {'address': '0x368433CaC2A0B8D76E64681a9835502a1f2A8A30',\n",
       "   'circulating_market_cap': None,\n",
       "   'decimals': '6',\n",
       "   'exchange_rate': None,\n",
       "   'holders': '158',\n",
       "   'icon_url': None,\n",
       "   'name': 'USD Coin',\n",
       "   'symbol': 'USDC',\n",
       "   'total_supply': '350446540429',\n",
       "   'type': 'ERC-20',\n",
       "   'volume_24h': None},\n",
       "  'token_id': None,\n",
       "  'token_instance': None,\n",
       "  'value': '238836385233'},\n",
       " {'token': {'address': '0x28c9c7Fb3fE3104d2116Af26cC8eF7905547349c',\n",
       "   'circulating_market_cap': None,\n",
       "   'decimals': '6',\n",
       "   'exchange_rate': None,\n",
       "   'holders': '190',\n",
       "   'icon_url': None,\n",
       "   'name': 'Tether',\n",
       "   'symbol': 'USDT',\n",
       "   'total_supply': '250584719374',\n",
       "   'type': 'ERC-20',\n",
       "   'volume_24h': None},\n",
       "  'token_id': None,\n",
       "  'token_instance': None,\n",
       "  'value': '89590009236'},\n",
       " {'token': {'address': '0x2A4DC2e946b92AB4a1f7D62844EB237788F9056c',\n",
       "   'circulating_market_cap': None,\n",
       "   'decimals': '8',\n",
       "   'exchange_rate': None,\n",
       "   'holders': '5',\n",
       "   'icon_url': None,\n",
       "   'name': 'Bitcoin',\n",
       "   'symbol': 'BTC',\n",
       "   'total_supply': '999800000',\n",
       "   'type': 'ERC-20',\n",
       "   'volume_24h': None},\n",
       "  'token_id': None,\n",
       "  'token_instance': None,\n",
       "  'value': '999799972'}]"
      ]
     },
     "execution_count": 32,
     "metadata": {},
     "output_type": "execute_result"
    }
   ],
   "source": [
    "eth.get_token_balances(address = '0x8A4AA176007196D48d39C89402d3753c39AE64c1')"
   ]
  },
  {
   "cell_type": "code",
   "execution_count": null,
   "id": "3b88f942-8dae-41fe-a3c2-bd43d4621cb8",
   "metadata": {},
   "outputs": [],
   "source": [
    "#eth.get_blocks_validated(address = '0x4200000000000000000000000000000000000011')"
   ]
  },
  {
   "cell_type": "code",
   "execution_count": 37,
   "id": "eabf3f95-9498-4fac-851c-71d57e615cde",
   "metadata": {},
   "outputs": [],
   "source": [
    "#eth.get_address_logs(address = '0x48023b16c3e81AA7F6eFFbdEB35Bb83f4f31a8fd')"
   ]
  },
  {
   "cell_type": "code",
   "execution_count": 41,
   "id": "e018b6a9-99cc-4856-b07c-685b1f750901",
   "metadata": {},
   "outputs": [],
   "source": [
    "#eth.get_address_transactions(address = '0x8A4AA176007196D48d39C89402d3753c39AE64c1')"
   ]
  },
  {
   "cell_type": "code",
   "execution_count": 26,
   "id": "8c90e868-bd53-4186-bc68-1ca11968ae34",
   "metadata": {},
   "outputs": [
    {
     "name": "stdout",
     "output_type": "stream",
     "text": [
      "url: https://explorer.rollux.com/api/v2/addresses/0x8A4AA176007196D48d39C89402d3753c39AE64c1/counters\n"
     ]
    },
    {
     "data": {
      "text/plain": [
       "{'gas_usage_count': '2126547',\n",
       " 'token_transfers_count': '854',\n",
       " 'transactions_count': '100',\n",
       " 'validations_count': '0'}"
      ]
     },
     "execution_count": 26,
     "metadata": {},
     "output_type": "execute_result"
    }
   ],
   "source": [
    "eth.get_address_counters(address = '0x8A4AA176007196D48d39C89402d3753c39AE64c1')"
   ]
  },
  {
   "cell_type": "code",
   "execution_count": 39,
   "id": "9acdc2af-5d1a-46c5-bc65-684f48325507",
   "metadata": {},
   "outputs": [
    {
     "name": "stdout",
     "output_type": "stream",
     "text": [
      "url: https://explorer.rollux.com/api/v2/addresses/0x8A4AA176007196D48d39C89402d3753c39AE64c1\n"
     ]
    },
    {
     "data": {
      "text/plain": [
       "{'block_number_balance_updated_at': 17159981,\n",
       " 'coin_balance': '26965534847863886139012',\n",
       " 'creation_tx_hash': None,\n",
       " 'creator_address_hash': None,\n",
       " 'ens_domain_name': None,\n",
       " 'exchange_rate': None,\n",
       " 'has_beacon_chain_withdrawals': False,\n",
       " 'has_custom_methods_read': False,\n",
       " 'has_custom_methods_write': False,\n",
       " 'has_decompiled_code': False,\n",
       " 'has_logs': False,\n",
       " 'has_methods_read': False,\n",
       " 'has_methods_read_proxy': False,\n",
       " 'has_methods_write': False,\n",
       " 'has_methods_write_proxy': False,\n",
       " 'has_token_transfers': True,\n",
       " 'has_tokens': True,\n",
       " 'has_validated_blocks': False,\n",
       " 'hash': '0x8A4AA176007196D48d39C89402d3753c39AE64c1',\n",
       " 'implementation_address': None,\n",
       " 'implementation_name': None,\n",
       " 'is_contract': False,\n",
       " 'is_verified': None,\n",
       " 'metadata': None,\n",
       " 'name': None,\n",
       " 'private_tags': [],\n",
       " 'public_tags': [],\n",
       " 'token': None,\n",
       " 'watchlist_address_id': None,\n",
       " 'watchlist_names': []}"
      ]
     },
     "execution_count": 39,
     "metadata": {},
     "output_type": "execute_result"
    }
   ],
   "source": [
    "eth.get_address_info(address = '0x8A4AA176007196D48d39C89402d3753c39AE64c1')"
   ]
  }
 ],
 "metadata": {
  "kernelspec": {
   "display_name": "Python 3 (ipykernel)",
   "language": "python",
   "name": "python3"
  },
  "language_info": {
   "codemirror_mode": {
    "name": "ipython",
    "version": 3
   },
   "file_extension": ".py",
   "mimetype": "text/x-python",
   "name": "python",
   "nbconvert_exporter": "python",
   "pygments_lexer": "ipython3",
   "version": "3.10.0rc2"
  }
 },
 "nbformat": 4,
 "nbformat_minor": 5
}
