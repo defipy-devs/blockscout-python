{
 "cells": [
  {
   "cell_type": "code",
   "execution_count": 4,
   "id": "fb376097-418e-40ed-b8b5-485186c4601f",
   "metadata": {},
   "outputs": [],
   "source": [
    "from blockscout import Blockscout\n",
    "from blockscout import Net\n",
    "from blockscout import API\n",
    "\n",
    "vitalik_addr = '0xd8da6bf26964af9d7eed9e03e53415d37aa96045'\n",
    "usdc_addr = '0x0b2C639c533813f4Aa9D7837CAf62653d097Ff85'\n",
    "\n",
    "eth_rest = Blockscout(Net.OP, API.REST) "
   ]
  },
  {
   "cell_type": "code",
   "execution_count": 5,
   "id": "d804ad2f-52de-4e60-b8c6-316c3595a718",
   "metadata": {},
   "outputs": [
    {
     "name": "stdout",
     "output_type": "stream",
     "text": [
      "url: https://optimism.blockscout.com/api/v2/stats\n"
     ]
    },
    {
     "data": {
      "text/plain": [
       "{'average_block_time': 2000.0,\n",
       " 'coin_image': 'https://coin-images.coingecko.com/coins/images/279/small/ethereum.png?1696501628',\n",
       " 'coin_price': '3178.21',\n",
       " 'coin_price_change_percentage': -8.68,\n",
       " 'gas_price_updated_at': '2024-07-25T21:38:04.209502Z',\n",
       " 'gas_prices': {'slow': 0.02, 'average': 0.07, 'fast': 0.2},\n",
       " 'gas_prices_update_in': 13096,\n",
       " 'gas_used_today': '217064192465',\n",
       " 'market_cap': '382136498742.7917048',\n",
       " 'network_utilization_percentage': 18.076913933333334,\n",
       " 'secondary_coin_price': '1.736',\n",
       " 'static_gas_price': '1',\n",
       " 'total_addresses': '175013408',\n",
       " 'total_blocks': '123171012',\n",
       " 'total_gas_used': '0',\n",
       " 'total_transactions': '304465585',\n",
       " 'transactions_today': '461515',\n",
       " 'tvl': None}"
      ]
     },
     "execution_count": 5,
     "metadata": {},
     "output_type": "execute_result"
    }
   ],
   "source": [
    "eth_rest.get_stats_counters()"
   ]
  },
  {
   "cell_type": "code",
   "execution_count": 6,
   "id": "8457077c-9a9d-48c2-9338-87327562962b",
   "metadata": {},
   "outputs": [
    {
     "name": "stdout",
     "output_type": "stream",
     "text": [
      "url: https://optimism.blockscout.com/api/v2/stats/charts/transactions\n"
     ]
    },
    {
     "data": {
      "text/plain": [
       "{'chart_data': [{'date': '2024-07-24', 'tx_count': 461515},\n",
       "  {'date': '2024-07-23', 'tx_count': 556468},\n",
       "  {'date': '2024-07-22', 'tx_count': 544796},\n",
       "  {'date': '2024-07-21', 'tx_count': 538043},\n",
       "  {'date': '2024-07-20', 'tx_count': 488299},\n",
       "  {'date': '2024-07-19', 'tx_count': 525657},\n",
       "  {'date': '2024-07-18', 'tx_count': 543329},\n",
       "  {'date': '2024-07-17', 'tx_count': 566561},\n",
       "  {'date': '2024-07-16', 'tx_count': 605604},\n",
       "  {'date': '2024-07-15', 'tx_count': 544620},\n",
       "  {'date': '2024-07-14', 'tx_count': 437104},\n",
       "  {'date': '2024-07-13', 'tx_count': 440569},\n",
       "  {'date': '2024-07-12', 'tx_count': 538132},\n",
       "  {'date': '2024-07-11', 'tx_count': 527482},\n",
       "  {'date': '2024-07-10', 'tx_count': 503749},\n",
       "  {'date': '2024-07-09', 'tx_count': 544110},\n",
       "  {'date': '2024-07-08', 'tx_count': 564201},\n",
       "  {'date': '2024-07-07', 'tx_count': 420813},\n",
       "  {'date': '2024-07-06', 'tx_count': 458995},\n",
       "  {'date': '2024-07-05', 'tx_count': 619353},\n",
       "  {'date': '2024-07-04', 'tx_count': 547282},\n",
       "  {'date': '2024-07-03', 'tx_count': 502916},\n",
       "  {'date': '2024-07-02', 'tx_count': 491761},\n",
       "  {'date': '2024-07-01', 'tx_count': 473316},\n",
       "  {'date': '2024-06-30', 'tx_count': 462147},\n",
       "  {'date': '2024-06-29', 'tx_count': 452514},\n",
       "  {'date': '2024-06-28', 'tx_count': 497054},\n",
       "  {'date': '2024-06-27', 'tx_count': 512529},\n",
       "  {'date': '2024-06-26', 'tx_count': 479956},\n",
       "  {'date': '2024-06-25', 'tx_count': 503170},\n",
       "  {'date': '2024-06-24', 'tx_count': 572672}]}"
      ]
     },
     "execution_count": 6,
     "metadata": {},
     "output_type": "execute_result"
    }
   ],
   "source": [
    "eth_rest.get_stats_transactions_chart()"
   ]
  }
 ],
 "metadata": {
  "kernelspec": {
   "display_name": "Python 3 (ipykernel)",
   "language": "python",
   "name": "python3"
  },
  "language_info": {
   "codemirror_mode": {
    "name": "ipython",
    "version": 3
   },
   "file_extension": ".py",
   "mimetype": "text/x-python",
   "name": "python",
   "nbconvert_exporter": "python",
   "pygments_lexer": "ipython3",
   "version": "3.10.0rc2"
  }
 },
 "nbformat": 4,
 "nbformat_minor": 5
}
