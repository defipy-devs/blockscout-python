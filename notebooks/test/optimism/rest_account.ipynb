{
 "cells": [
  {
   "cell_type": "markdown",
   "id": "02738fcc-2769-4429-8306-117b65672367",
   "metadata": {},
   "source": [
    "* https://eth.blockscout.com"
   ]
  },
  {
   "cell_type": "code",
   "execution_count": 36,
   "id": "a680857f-e2a5-4f32-8cdd-ffa3c3dcef52",
   "metadata": {},
   "outputs": [],
   "source": [
    "from blockscout import Blockscout\n",
    "from blockscout import TokenTransfers\n",
    "from blockscout import Net\n",
    "from blockscout import API\n",
    "\n",
    "vitalik_addr = '0xd8da6bf26964af9d7eed9e03e53415d37aa96045'\n",
    "usdc_addr = '0x0b2C639c533813f4Aa9D7837CAf62653d097Ff85'\n",
    "\n",
    "eth_rest = Blockscout(Net.OP, API.REST) "
   ]
  },
  {
   "cell_type": "code",
   "execution_count": null,
   "id": "e633181f-0606-4d8b-904b-d925b5f89016",
   "metadata": {},
   "outputs": [
    {
     "name": "stdout",
     "output_type": "stream",
     "text": [
      "url: https://optimism.blockscout.com/api/v2/addresses\n"
     ]
    }
   ],
   "source": [
    "eth_rest.get_addresses()"
   ]
  },
  {
   "cell_type": "code",
   "execution_count": 12,
   "id": "98f63940-9094-45d4-b2ba-2726129aa9e9",
   "metadata": {},
   "outputs": [
    {
     "name": "stdout",
     "output_type": "stream",
     "text": [
      "url: https://eth.blockscout.com/api/v2/addresses/0xd8da6bf26964af9d7eed9e03e53415d37aa96045/coin-balance-history-by-day\n"
     ]
    },
    {
     "data": {
      "text/plain": [
       "{'items': [{'date': '2024-07-15', 'value': '356107251453900527887'},\n",
       "  {'date': '2024-07-16', 'value': '356106466233525472679'},\n",
       "  {'date': '2024-07-17', 'value': '356106466333525472679'},\n",
       "  {'date': '2024-07-18', 'value': '356101995382846800110'},\n",
       "  {'date': '2024-07-20', 'value': '356101995382846800210'},\n",
       "  {'date': '2024-07-22', 'value': '356102995382846800210'},\n",
       "  {'date': '2024-07-23', 'value': '356102716457326829510'},\n",
       "  {'date': '2024-07-24', 'value': '356102716457326829510'},\n",
       "  {'date': '2024-07-25', 'value': '356103443632896251832'},\n",
       "  {'date': '2024-07-25', 'value': '356103443632896251832'}],\n",
       " 'days': 10}"
      ]
     },
     "execution_count": 12,
     "metadata": {},
     "output_type": "execute_result"
    }
   ],
   "source": [
    "eth_rest.get_coin_balance_history_by_day(address = vitalik_addr)"
   ]
  },
  {
   "cell_type": "code",
   "execution_count": 14,
   "id": "be732706-8960-436f-ad52-1368eba81a23",
   "metadata": {},
   "outputs": [],
   "source": [
    "#eth_rest.get_coin_balance_history(address = vitalik_addr)"
   ]
  },
  {
   "cell_type": "code",
   "execution_count": 16,
   "id": "86ca832a-3b88-4604-be72-1e7f4ba12f02",
   "metadata": {},
   "outputs": [],
   "source": [
    "#eth_rest.get_token_balances_with_filtering(address = vitalik_addr)"
   ]
  },
  {
   "cell_type": "code",
   "execution_count": 18,
   "id": "01f22696-1cc6-4dc6-aa35-d27f14f69782",
   "metadata": {},
   "outputs": [],
   "source": [
    "#eth_rest.get_token_balances(address = vitalik_addr)"
   ]
  },
  {
   "cell_type": "code",
   "execution_count": 23,
   "id": "3b88f942-8dae-41fe-a3c2-bd43d4621cb8",
   "metadata": {},
   "outputs": [
    {
     "name": "stdout",
     "output_type": "stream",
     "text": [
      "url: https://eth.blockscout.com/api/v2/addresses/0xC02aaA39b223FE8D0A0e5C4F27eAD9083C756Cc2/blocks-validated\n"
     ]
    },
    {
     "data": {
      "text/plain": [
       "{'items': [], 'next_page_params': None}"
      ]
     },
     "execution_count": 23,
     "metadata": {},
     "output_type": "execute_result"
    }
   ],
   "source": [
    "eth_rest.get_blocks_validated(address = '0xC02aaA39b223FE8D0A0e5C4F27eAD9083C756Cc2')"
   ]
  },
  {
   "cell_type": "code",
   "execution_count": 29,
   "id": "eabf3f95-9498-4fac-851c-71d57e615cde",
   "metadata": {},
   "outputs": [],
   "source": [
    "#eth_rest.get_address_logs(address = usdc_addr)"
   ]
  },
  {
   "cell_type": "code",
   "execution_count": 31,
   "id": "e018b6a9-99cc-4856-b07c-685b1f750901",
   "metadata": {},
   "outputs": [],
   "source": [
    "#eth_rest.get_address_transactions(address = usdc_addr)"
   ]
  },
  {
   "cell_type": "code",
   "execution_count": 32,
   "id": "8c90e868-bd53-4186-bc68-1ca11968ae34",
   "metadata": {},
   "outputs": [
    {
     "name": "stdout",
     "output_type": "stream",
     "text": [
      "url: https://eth.blockscout.com/api/v2/addresses/0xA0b86991c6218b36c1d19D4a2e9Eb0cE3606eB48/counters\n"
     ]
    },
    {
     "data": {
      "text/plain": [
       "{'transactions_count': '43270543',\n",
       " 'token_transfers_count': '2197585',\n",
       " 'gas_usage_count': '2085883697401',\n",
       " 'validations_count': '0'}"
      ]
     },
     "execution_count": 32,
     "metadata": {},
     "output_type": "execute_result"
    }
   ],
   "source": [
    "eth_rest.get_address_counters(address = usdc_addr)"
   ]
  },
  {
   "cell_type": "code",
   "execution_count": 33,
   "id": "9acdc2af-5d1a-46c5-bc65-684f48325507",
   "metadata": {},
   "outputs": [
    {
     "name": "stdout",
     "output_type": "stream",
     "text": [
      "url: https://eth.blockscout.com/api/v2/addresses/0xA0b86991c6218b36c1d19D4a2e9Eb0cE3606eB48\n"
     ]
    },
    {
     "data": {
      "text/plain": [
       "{'block_number_balance_updated_at': 20385931,\n",
       " 'coin_balance': '0',\n",
       " 'creation_tx_hash': '0xe7e0fe390354509cd08c9a0168536938600ddc552b3f7cb96030ebef62e75895',\n",
       " 'creator_address_hash': '0x95Ba4cF87D6723ad9C0Db21737D862bE80e93911',\n",
       " 'ens_domain_name': None,\n",
       " 'exchange_rate': '3105.49',\n",
       " 'has_beacon_chain_withdrawals': False,\n",
       " 'has_decompiled_code': False,\n",
       " 'has_logs': True,\n",
       " 'has_token_transfers': True,\n",
       " 'has_tokens': True,\n",
       " 'has_validated_blocks': False,\n",
       " 'hash': '0xA0b86991c6218b36c1d19D4a2e9Eb0cE3606eB48',\n",
       " 'implementation_address': '0x43506849D7C04F9138D1A2050bbF3A0c054402dd',\n",
       " 'implementation_name': 'FiatTokenV2_2',\n",
       " 'implementations': [{'address': '0x43506849D7C04F9138D1A2050bbF3A0c054402dd',\n",
       "   'name': 'FiatTokenV2_2'}],\n",
       " 'is_contract': True,\n",
       " 'is_verified': True,\n",
       " 'metadata': None,\n",
       " 'name': 'FiatTokenProxy',\n",
       " 'private_tags': [],\n",
       " 'public_tags': [],\n",
       " 'token': {'address': '0xA0b86991c6218b36c1d19D4a2e9Eb0cE3606eB48',\n",
       "  'circulating_market_cap': '33845622082.541176',\n",
       "  'decimals': '6',\n",
       "  'exchange_rate': '1.001',\n",
       "  'holders': '2752698',\n",
       "  'icon_url': 'https://assets.coingecko.com/coins/images/6319/small/usdc.png?1696506694',\n",
       "  'name': 'USD Coin',\n",
       "  'symbol': 'USDC',\n",
       "  'total_supply': '25103478207285080',\n",
       "  'type': 'ERC-20',\n",
       "  'volume_24h': '8709126113.359972'},\n",
       " 'watchlist_address_id': None,\n",
       " 'watchlist_names': []}"
      ]
     },
     "execution_count": 33,
     "metadata": {},
     "output_type": "execute_result"
    }
   ],
   "source": [
    "eth_rest.get_address_info(address = usdc_addr)"
   ]
  }
 ],
 "metadata": {
  "kernelspec": {
   "display_name": "Python 3 (ipykernel)",
   "language": "python",
   "name": "python3"
  },
  "language_info": {
   "codemirror_mode": {
    "name": "ipython",
    "version": 3
   },
   "file_extension": ".py",
   "mimetype": "text/x-python",
   "name": "python",
   "nbconvert_exporter": "python",
   "pygments_lexer": "ipython3",
   "version": "3.10.0rc2"
  }
 },
 "nbformat": 4,
 "nbformat_minor": 5
}
