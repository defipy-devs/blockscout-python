{
 "cells": [
  {
   "cell_type": "code",
   "execution_count": 11,
   "id": "cbc9db38-f6e2-46a1-a124-da40afb761ed",
   "metadata": {},
   "outputs": [],
   "source": [
    "from blockscout import Blockscout\n",
    "from blockscout import Net\n",
    "from blockscout import API\n",
    "\n",
    "vitalik_addr = '0xd8da6bf26964af9d7eed9e03e53415d37aa96045'\n",
    "usdc_addr = '0x0b2C639c533813f4Aa9D7837CAf62653d097Ff85'\n",
    "\n",
    "eth_rpc = Blockscout(Net.OP, API.RPC) "
   ]
  },
  {
   "cell_type": "code",
   "execution_count": 12,
   "id": "39998d6d-14ac-4b96-835e-6897d9f4abdb",
   "metadata": {},
   "outputs": [
    {
     "name": "stdout",
     "output_type": "stream",
     "text": [
      "url: https://optimism.blockscout.com/api?module=stats&action=tokensupply&contractaddress=0x0b2C639c533813f4Aa9D7837CAf62653d097Ff85\n"
     ]
    },
    {
     "data": {
      "text/plain": [
       "{'message': 'OK', 'result': '178310672891451', 'status': '1'}"
      ]
     },
     "execution_count": 12,
     "metadata": {},
     "output_type": "execute_result"
    }
   ],
   "source": [
    "eth_rpc.get_total_token_supply(contractaddress=usdc_addr)"
   ]
  },
  {
   "cell_type": "code",
   "execution_count": 13,
   "id": "90ea9375-0f86-4feb-acea-ffff1ebded60",
   "metadata": {},
   "outputs": [
    {
     "name": "stdout",
     "output_type": "stream",
     "text": [
      "url: https://optimism.blockscout.com/api?module=stats&action=ethsupply&contractaddress=0x0b2C639c533813f4Aa9D7837CAf62653d097Ff85\n"
     ]
    },
    {
     "data": {
      "text/plain": [
       "{'message': 'OK', 'result': '0', 'status': '1'}"
      ]
     },
     "execution_count": 13,
     "metadata": {},
     "output_type": "execute_result"
    }
   ],
   "source": [
    "eth_rpc.get_total_eth_supply(contractaddress=usdc_addr)"
   ]
  },
  {
   "cell_type": "code",
   "execution_count": 14,
   "id": "9cfe3ec9-c0ca-4603-82b1-eff14ed942aa",
   "metadata": {},
   "outputs": [
    {
     "name": "stdout",
     "output_type": "stream",
     "text": [
      "url: https://optimism.blockscout.com/api?module=stats&action=coinsupply&contractaddress=0x0b2C639c533813f4Aa9D7837CAf62653d097Ff85\n"
     ]
    },
    {
     "data": {
      "text/plain": [
       "0.0"
      ]
     },
     "execution_count": 14,
     "metadata": {},
     "output_type": "execute_result"
    }
   ],
   "source": [
    "eth_rpc.get_total_coin_supply(contractaddress=usdc_addr)"
   ]
  },
  {
   "cell_type": "code",
   "execution_count": 15,
   "id": "a27fb243-8c0c-4d2c-8eac-828fea93b7f1",
   "metadata": {},
   "outputs": [
    {
     "name": "stdout",
     "output_type": "stream",
     "text": [
      "url: https://optimism.blockscout.com/api?module=stats&action=ethprice&contractaddress=0x0b2C639c533813f4Aa9D7837CAf62653d097Ff85\n"
     ]
    },
    {
     "data": {
      "text/plain": [
       "{'message': 'OK',\n",
       " 'result': {'ethbtc': None,\n",
       "  'ethbtc_timestamp': '1721943781',\n",
       "  'ethusd': '3167.32',\n",
       "  'ethusd_timestamp': '1721943781'},\n",
       " 'status': '1'}"
      ]
     },
     "execution_count": 15,
     "metadata": {},
     "output_type": "execute_result"
    }
   ],
   "source": [
    "eth_rpc.get_eth_price(contractaddress=usdc_addr)"
   ]
  },
  {
   "cell_type": "code",
   "execution_count": 16,
   "id": "8566e8f4-e44d-4797-9aa4-41172c62f1ec",
   "metadata": {},
   "outputs": [
    {
     "name": "stdout",
     "output_type": "stream",
     "text": [
      "url: https://optimism.blockscout.com/api?module=stats&action=ethprice&contractaddress=0x0b2C639c533813f4Aa9D7837CAf62653d097Ff85\n"
     ]
    },
    {
     "data": {
      "text/plain": [
       "{'message': 'OK',\n",
       " 'result': {'ethbtc': None,\n",
       "  'ethbtc_timestamp': '1721943781',\n",
       "  'ethusd': '3167.32',\n",
       "  'ethusd_timestamp': '1721943781'},\n",
       " 'status': '1'}"
      ]
     },
     "execution_count": 16,
     "metadata": {},
     "output_type": "execute_result"
    }
   ],
   "source": [
    "eth_rpc.get_coin_price(contractaddress=usdc_addr)"
   ]
  }
 ],
 "metadata": {
  "kernelspec": {
   "display_name": "Python 3 (ipykernel)",
   "language": "python",
   "name": "python3"
  },
  "language_info": {
   "codemirror_mode": {
    "name": "ipython",
    "version": 3
   },
   "file_extension": ".py",
   "mimetype": "text/x-python",
   "name": "python",
   "nbconvert_exporter": "python",
   "pygments_lexer": "ipython3",
   "version": "3.10.0rc2"
  }
 },
 "nbformat": 4,
 "nbformat_minor": 5
}
