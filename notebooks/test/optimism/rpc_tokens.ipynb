{
 "cells": [
  {
   "cell_type": "code",
   "execution_count": 7,
   "id": "40e6b3d4-17af-475f-9d37-d072d7d37db1",
   "metadata": {},
   "outputs": [],
   "source": [
    "from blockscout import Blockscout\n",
    "from blockscout import Net\n",
    "from blockscout import API\n",
    "\n",
    "vitalik_addr = '0xd8da6bf26964af9d7eed9e03e53415d37aa96045'\n",
    "usdc_addr = '0x0b2C639c533813f4Aa9D7837CAf62653d097Ff85'\n",
    "\n",
    "eth_rpc = Blockscout(Net.OP, API.RPC) "
   ]
  },
  {
   "cell_type": "code",
   "execution_count": 8,
   "id": "7aed2f67-7236-4047-9021-dcf5e1c1708c",
   "metadata": {},
   "outputs": [
    {
     "name": "stdout",
     "output_type": "stream",
     "text": [
      "url: https://optimism.blockscout.com/api?module=token&action=gettoken&contractaddress=0x0b2C639c533813f4Aa9D7837CAf62653d097Ff85\n"
     ]
    },
    {
     "data": {
      "text/plain": [
       "{'message': 'OK',\n",
       " 'result': {'cataloged': True,\n",
       "  'contractAddress': '0x0b2c639c533813f4aa9d7837caf62653d097ff85',\n",
       "  'decimals': '6',\n",
       "  'name': 'USD Coin',\n",
       "  'symbol': 'USDC',\n",
       "  'totalSupply': '178310672891451',\n",
       "  'type': 'ERC-20'},\n",
       " 'status': '1'}"
      ]
     },
     "execution_count": 8,
     "metadata": {},
     "output_type": "execute_result"
    }
   ],
   "source": [
    "eth_rpc.get_total_supply_by_contract_address(contractaddress=usdc_addr)"
   ]
  },
  {
   "cell_type": "code",
   "execution_count": 9,
   "id": "817de396-5264-4424-a103-83957daa1161",
   "metadata": {},
   "outputs": [
    {
     "name": "stdout",
     "output_type": "stream",
     "text": [
      "url: https://optimism.blockscout.com/api?module=token&action=gettokenholders&contractaddress=0x0b2C639c533813f4Aa9D7837CAf62653d097Ff85&page=1&offset=0\n"
     ]
    },
    {
     "data": {
      "text/plain": [
       "{'message': 'OK',\n",
       " 'result': [{'address': '0xacd03d601e5bb1b275bb94076ff46ed9d753435a',\n",
       "   'value': '13660748784485'},\n",
       "  {'address': '0xce8cca271ebc0533920c83d39f417ed6a0abb7d0',\n",
       "   'value': '12814704264620'},\n",
       "  {'address': '0xf89d7b9c864f589bbf53a82105107622b35eaa40',\n",
       "   'value': '10575096057585'},\n",
       "  {'address': '0x816f722424b49cf1275cc86da9840fbd5a6167e9',\n",
       "   'value': '9334328018348'},\n",
       "  {'address': '0x0d0707963952f2fba59dd06f2b425ace40b492fe',\n",
       "   'value': '7956072739852'},\n",
       "  {'address': '0x38d693ce1df5aadf7bc62595a37d667ad57922e5',\n",
       "   'value': '4444040733474'},\n",
       "  {'address': '0x7809621a6d7e61e400853c64b61568aa773a28ef',\n",
       "   'value': '4299301267968'},\n",
       "  {'address': '0xd839c179a4606f46abd7a757f7bb77d7593ae249',\n",
       "   'value': '3757995160283'},\n",
       "  {'address': '0xd1e859c8fbb8acdcc8e815c70d33b6aca58fde8a',\n",
       "   'value': '3692737002433'},\n",
       "  {'address': '0xa56a25dee5b3199a9198bbd48715ee3d0ed98378',\n",
       "   'value': '3008317832787'}],\n",
       " 'status': '1'}"
      ]
     },
     "execution_count": 9,
     "metadata": {},
     "output_type": "execute_result"
    }
   ],
   "source": [
    "eth_rpc.get_total_holders_by_contract_address(contractaddress=usdc_addr,page=1,offset=0)"
   ]
  },
  {
   "cell_type": "code",
   "execution_count": 10,
   "id": "c3904df1-f1d4-4320-8058-e066ab00a26f",
   "metadata": {},
   "outputs": [
    {
     "name": "stdout",
     "output_type": "stream",
     "text": [
      "url: https://optimism.blockscout.com/api?module=transaction&action=gettxinfo&txhash=0x4b2c7b43be9fa506b7306ad294902151e514450499be1d1740a8ac7aa44928f3\n"
     ]
    },
    {
     "data": {
      "text/plain": [
       "{'message': 'OK',\n",
       " 'result': {'blockNumber': '123172517',\n",
       "  'confirmations': '113',\n",
       "  'from': '0xcc97b177ff0aec9459746a26bbf922ca65aed279',\n",
       "  'gasLimit': '68100',\n",
       "  'gasPrice': '776366',\n",
       "  'gasUsed': '66406',\n",
       "  'hash': '0x4b2c7b43be9fa506b7306ad294902151e514450499be1d1740a8ac7aa44928f3',\n",
       "  'input': '0x6a7612020000000000000000000000005a8dfe7cd37f7f0ffa8444da555569504e7e3c2200000000000000000000000000000000000000000000000000038d7ea4c680000000000000000000000000000000000000000000000000000000000000000140000000000000000000000000000000000000000000000000000000000000000000000000000000000000000000000000000000000000000000000000000000000000000000000000000000000000000000000000000000000000000000000000000000000000000000000000000000000000000000000000000000000000000000000000000000000000000000000000000000000000000000000000000000000000000000000000000000000000000000000000000000000000000000000000000000000000000000000000000000000000000000000000000000000000016000000000000000000000000000000000000000000000000000000000000000000000000000000000000000000000000000000000000000000000000000000041d339b7db5f1e07bc7567075c84282a28a880ec11689847f45de594dbf3547187500beb2e53de97ba238d89aa9b62b68872eaa2437d34f851aa9711b519ee55061f00000000000000000000000000000000000000000000000000000000000000',\n",
       "  'logs': [{'address': '0x48d321f7ec9aad756dcd838de489d68c86ef3929',\n",
       "    'data': '0x0000000000000000000000005a8dfe7cd37f7f0ffa8444da555569504e7e3c2200000000000000000000000000000000000000000000000000038d7ea4c6800000000000000000000000000000000000000000000000000000000000000001600000000000000000000000000000000000000000000000000000000000000000000000000000000000000000000000000000000000000000000000000000000000000000000000000000000000000000000000000000000000000000000000000000000000000000000000000000000000000000000000000000000000000000000000000000000000000000000000000000000000000000000000000000000000000000000000000000000000000000000000000000000000000000000000000000000000000000000000000000000000000000000000000000000000000180000000000000000000000000000000000000000000000000000000000000020000000000000000000000000000000000000000000000000000000000000000000000000000000000000000000000000000000000000000000000000000000041d339b7db5f1e07bc7567075c84282a28a880ec11689847f45de594dbf3547187500beb2e53de97ba238d89aa9b62b68872eaa2437d34f851aa9711b519ee55061f0000000000000000000000000000000000000000000000000000000000000000000000000000000000000000000000000000000000000000000000000000600000000000000000000000000000000000000000000000000000000000000001000000000000000000000000cc97b177ff0aec9459746a26bbf922ca65aed2790000000000000000000000000000000000000000000000000000000000000001',\n",
       "    'index': '102',\n",
       "    'topics': ['0x66753cd2356569ee081232e3be8909b950e0a76c1f8460c3a5e3c2be32b11bed',\n",
       "     None,\n",
       "     None,\n",
       "     None]},\n",
       "   {'address': '0x48d321f7ec9aad756dcd838de489d68c86ef3929',\n",
       "    'data': '0x4f4bf461d36bcf356bc74640bbec91972a5aa40d3b1db04e652767aeef7108900000000000000000000000000000000000000000000000000000000000000000',\n",
       "    'index': '103',\n",
       "    'topics': ['0x442e715f626346e8c54381002da614f62bee8d27386535b2521ec8540898556e',\n",
       "     None,\n",
       "     None,\n",
       "     None]}],\n",
       "  'next_page_params': None,\n",
       "  'revertReason': '',\n",
       "  'success': True,\n",
       "  'timeStamp': '1721943811',\n",
       "  'to': '0x48d321f7ec9aad756dcd838de489d68c86ef3929',\n",
       "  'value': '0'},\n",
       " 'status': '1'}"
      ]
     },
     "execution_count": 10,
     "metadata": {},
     "output_type": "execute_result"
    }
   ],
   "source": [
    "eth_rpc.get_tx_info(txhash=\"0x4b2c7b43be9fa506b7306ad294902151e514450499be1d1740a8ac7aa44928f3\")"
   ]
  },
  {
   "cell_type": "code",
   "execution_count": 11,
   "id": "c3092340-b742-4314-a760-4f9c23001175",
   "metadata": {},
   "outputs": [
    {
     "name": "stdout",
     "output_type": "stream",
     "text": [
      "url: https://optimism.blockscout.com/api?module=transaction&action=gettxreceiptstatus&txhash=0x4b2c7b43be9fa506b7306ad294902151e514450499be1d1740a8ac7aa44928f3\n"
     ]
    },
    {
     "data": {
      "text/plain": [
       "{'message': 'OK', 'result': {'status': '1'}, 'status': '1'}"
      ]
     },
     "execution_count": 11,
     "metadata": {},
     "output_type": "execute_result"
    }
   ],
   "source": [
    "eth_rpc.get_tx_receipt_status(txhash=\"0x4b2c7b43be9fa506b7306ad294902151e514450499be1d1740a8ac7aa44928f3\")"
   ]
  },
  {
   "cell_type": "code",
   "execution_count": 12,
   "id": "2c1d3de9-cf6f-44a1-a1d9-b91b22691f33",
   "metadata": {},
   "outputs": [
    {
     "name": "stdout",
     "output_type": "stream",
     "text": [
      "url: https://optimism.blockscout.com/api?module=transaction&action=getstatus&txhash=0x4b2c7b43be9fa506b7306ad294902151e514450499be1d1740a8ac7aa44928f3\n"
     ]
    },
    {
     "data": {
      "text/plain": [
       "{'message': 'OK',\n",
       " 'result': {'errDescription': '', 'isError': '0'},\n",
       " 'status': '1'}"
      ]
     },
     "execution_count": 12,
     "metadata": {},
     "output_type": "execute_result"
    }
   ],
   "source": [
    "eth_rpc.get_status(txhash=\"0x4b2c7b43be9fa506b7306ad294902151e514450499be1d1740a8ac7aa44928f3\")"
   ]
  }
 ],
 "metadata": {
  "kernelspec": {
   "display_name": "Python 3 (ipykernel)",
   "language": "python",
   "name": "python3"
  },
  "language_info": {
   "codemirror_mode": {
    "name": "ipython",
    "version": 3
   },
   "file_extension": ".py",
   "mimetype": "text/x-python",
   "name": "python",
   "nbconvert_exporter": "python",
   "pygments_lexer": "ipython3",
   "version": "3.10.0rc2"
  }
 },
 "nbformat": 4,
 "nbformat_minor": 5
}
