{
 "cells": [
  {
   "cell_type": "code",
   "execution_count": 17,
   "id": "d7c1fe29-80d8-45bf-8f87-851fa13c5aa5",
   "metadata": {},
   "outputs": [],
   "source": [
    "from blockscout import Blockscout\n",
    "from blockscout import Net\n",
    "from blockscout import API\n",
    "\n",
    "vitalik_addr = '0xd8da6bf26964af9d7eed9e03e53415d37aa96045'\n",
    "usdc_addr = '0x0b2C639c533813f4Aa9D7837CAf62653d097Ff85'\n",
    "\n",
    "eth_rest = Blockscout(Net.OP, API.REST) "
   ]
  },
  {
   "cell_type": "code",
   "execution_count": 19,
   "id": "8bf60cd0-efd1-4333-b52c-cf1c12c59ba4",
   "metadata": {},
   "outputs": [],
   "source": [
    "#eth_rest.get_main_page_transactions()"
   ]
  },
  {
   "cell_type": "code",
   "execution_count": 20,
   "id": "cf09c06e-6127-4519-b052-91290cc964bc",
   "metadata": {},
   "outputs": [
    {
     "name": "stdout",
     "output_type": "stream",
     "text": [
      "url: https://optimism.blockscout.com/api/v2/transactions/0xc70bc6a7cc1bb9351085cdb133a8092d0e94ed9d078dce8c077957736bbb6746\n"
     ]
    },
    {
     "data": {
      "text/plain": [
       "{'timestamp': '2024-07-25T21:36:27.000000Z',\n",
       " 'fee': {'type': 'actual', 'value': '78228232692'},\n",
       " 'gas_limit': '21000',\n",
       " 'l1_gas_price': '5033531494',\n",
       " 'block': 123172305,\n",
       " 'status': 'ok',\n",
       " 'method': None,\n",
       " 'confirmations': 140,\n",
       " 'type': 2,\n",
       " 'l1_fee_scalar': '0',\n",
       " 'exchange_rate': '3180.08',\n",
       " 'to': {'ens_domain_name': None,\n",
       "  'hash': '0xE4eDb277e41dc89aB076a1F049f4a3EfA700bCE8',\n",
       "  'implementations': [],\n",
       "  'is_contract': False,\n",
       "  'is_verified': False,\n",
       "  'metadata': {'tags': [{'meta': {},\n",
       "     'name': 'Bridge',\n",
       "     'ordinal': 0,\n",
       "     'slug': 'bridge',\n",
       "     'tagType': 'note'},\n",
       "    {'meta': {},\n",
       "     'name': 'Orbiter Finance: Bridge 2',\n",
       "     'ordinal': 10,\n",
       "     'slug': 'orbiter-finance-bridge-2',\n",
       "     'tagType': 'name'}]},\n",
       "  'name': None,\n",
       "  'private_tags': [],\n",
       "  'public_tags': [],\n",
       "  'watchlist_names': []},\n",
       " 'tx_burnt_fee': '15131802000',\n",
       " 'max_fee_per_gas': '3582055',\n",
       " 'result': 'success',\n",
       " 'hash': '0xc70bc6a7cc1bb9351085cdb133a8092d0e94ed9d078dce8c077957736bbb6746',\n",
       " 'op_withdrawals': [],\n",
       " 'gas_price': '1720562',\n",
       " 'priority_fee': '21000000000',\n",
       " 'base_fee_per_gas': '720562',\n",
       " 'from': {'ens_domain_name': None,\n",
       "  'hash': '0x9642C38a314CA7f6ee8579d0b1919DcB809d17c9',\n",
       "  'implementations': [],\n",
       "  'is_contract': False,\n",
       "  'is_verified': False,\n",
       "  'metadata': None,\n",
       "  'name': None,\n",
       "  'private_tags': [],\n",
       "  'public_tags': [],\n",
       "  'watchlist_names': []},\n",
       " 'token_transfers': [],\n",
       " 'tx_types': ['coin_transfer'],\n",
       " 'l1_gas_used': '1600',\n",
       " 'gas_used': '21000',\n",
       " 'created_contract': None,\n",
       " 'position': 9,\n",
       " 'nonce': 1501,\n",
       " 'has_error_in_internal_txs': False,\n",
       " 'actions': [],\n",
       " 'l1_fee': '42096430692',\n",
       " 'decoded_input': None,\n",
       " 'token_transfers_overflow': False,\n",
       " 'raw_input': '0x',\n",
       " 'value': '1020000000009020',\n",
       " 'max_priority_fee_per_gas': '1000000',\n",
       " 'revert_reason': None,\n",
       " 'confirmation_duration': [0, 2000.0],\n",
       " 'tx_tag': None}"
      ]
     },
     "execution_count": 20,
     "metadata": {},
     "output_type": "execute_result"
    }
   ],
   "source": [
    "eth_rest.get_transaction_info(tx_hash = \"0xc70bc6a7cc1bb9351085cdb133a8092d0e94ed9d078dce8c077957736bbb6746\")"
   ]
  },
  {
   "cell_type": "code",
   "execution_count": 16,
   "id": "52088cce-df88-48a1-b351-5382e4087201",
   "metadata": {},
   "outputs": [
    {
     "name": "stdout",
     "output_type": "stream",
     "text": [
      "url: https://eth.blockscout.com/api/v2/transactions/0x380deafb132e487178ae07728672144ffb3b5d5ab946a29e322639ba04546025/token-transfers?type=ERC-20%2CERC-721%2CERC-1155\n"
     ]
    },
    {
     "data": {
      "text/plain": [
       "{'items': [{'block_hash': '0xc3135d6f4321d04d99bbd30599f76f9ac40f6ba6d7ac78f85e70704c62b13903',\n",
       "   'from': {'ens_domain_name': None,\n",
       "    'hash': '0x03686af8dFcF07e5388509cF23f52C4c2bE779eA',\n",
       "    'implementation_address': None,\n",
       "    'implementation_name': None,\n",
       "    'implementations': [],\n",
       "    'is_contract': False,\n",
       "    'is_verified': False,\n",
       "    'metadata': None,\n",
       "    'name': None,\n",
       "    'private_tags': [],\n",
       "    'public_tags': [],\n",
       "    'watchlist_names': []},\n",
       "   'log_index': '240',\n",
       "   'method': None,\n",
       "   'timestamp': None,\n",
       "   'to': {'ens_domain_name': 'fltchr.eth',\n",
       "    'hash': '0xCba08115CC07338eeAe1a6941799F3512112837e',\n",
       "    'implementation_address': None,\n",
       "    'implementation_name': None,\n",
       "    'implementations': [],\n",
       "    'is_contract': False,\n",
       "    'is_verified': False,\n",
       "    'metadata': None,\n",
       "    'name': None,\n",
       "    'private_tags': [],\n",
       "    'public_tags': [],\n",
       "    'watchlist_names': []},\n",
       "   'token': {'address': '0xA0b86991c6218b36c1d19D4a2e9Eb0cE3606eB48',\n",
       "    'circulating_market_cap': '33845622082.541176',\n",
       "    'decimals': '6',\n",
       "    'exchange_rate': '1.001',\n",
       "    'holders': '2752695',\n",
       "    'icon_url': 'https://assets.coingecko.com/coins/images/6319/small/usdc.png?1696506694',\n",
       "    'name': 'USD Coin',\n",
       "    'symbol': 'USDC',\n",
       "    'total_supply': '25103172625712018',\n",
       "    'type': 'ERC-20',\n",
       "    'volume_24h': '8709126113.359972'},\n",
       "   'total': {'decimals': '6', 'value': '10000000000'},\n",
       "   'tx_hash': '0x380deafb132e487178ae07728672144ffb3b5d5ab946a29e322639ba04546025',\n",
       "   'type': 'token_transfer'}],\n",
       " 'next_page_params': None}"
      ]
     },
     "execution_count": 16,
     "metadata": {},
     "output_type": "execute_result"
    }
   ],
   "source": [
    "eth_rest.get_token_hash_transfers(tx_hash = \"0x380deafb132e487178ae07728672144ffb3b5d5ab946a29e322639ba04546025\")"
   ]
  },
  {
   "cell_type": "code",
   "execution_count": 23,
   "id": "7250d6d5-0c55-4a37-bcc9-26f495b6be9f",
   "metadata": {},
   "outputs": [
    {
     "name": "stdout",
     "output_type": "stream",
     "text": [
      "url: https://optimism.blockscout.com/api/v2/transactions/0xfd231f629779887cc0d52361026c8eddcf25322b46703daa0c7e80f16d4cffdd/internal-transactions\n"
     ]
    },
    {
     "data": {
      "text/plain": [
       "{'items': [{'block': 123172450,\n",
       "   'block_index': 211,\n",
       "   'created_contract': None,\n",
       "   'error': None,\n",
       "   'from': {'ens_domain_name': None,\n",
       "    'hash': '0x0b2C639c533813f4Aa9D7837CAf62653d097Ff85',\n",
       "    'implementations': [{'address': '0xdEd3b9a8DBeDC2F9CB725B55d0E686A81E6d06dC',\n",
       "      'name': 'FiatTokenV2_2'}],\n",
       "    'is_contract': True,\n",
       "    'is_verified': True,\n",
       "    'metadata': None,\n",
       "    'name': 'FiatTokenProxy',\n",
       "    'private_tags': [],\n",
       "    'public_tags': [],\n",
       "    'watchlist_names': []},\n",
       "   'gas_limit': '70120',\n",
       "   'index': 1,\n",
       "   'success': True,\n",
       "   'timestamp': '2024-07-25T21:41:17.000000Z',\n",
       "   'to': {'ens_domain_name': None,\n",
       "    'hash': '0xdEd3b9a8DBeDC2F9CB725B55d0E686A81E6d06dC',\n",
       "    'implementations': [],\n",
       "    'is_contract': True,\n",
       "    'is_verified': True,\n",
       "    'metadata': None,\n",
       "    'name': 'FiatTokenV2_2',\n",
       "    'private_tags': [],\n",
       "    'public_tags': [],\n",
       "    'watchlist_names': []},\n",
       "   'transaction_hash': '0xfd231f629779887cc0d52361026c8eddcf25322b46703daa0c7e80f16d4cffdd',\n",
       "   'type': 'delegatecall',\n",
       "   'value': '0'}],\n",
       " 'next_page_params': None}"
      ]
     },
     "execution_count": 23,
     "metadata": {},
     "output_type": "execute_result"
    }
   ],
   "source": [
    "eth_rest.get_internal_transactions(tx_hash = \"0xfd231f629779887cc0d52361026c8eddcf25322b46703daa0c7e80f16d4cffdd\")"
   ]
  },
  {
   "cell_type": "code",
   "execution_count": 24,
   "id": "3f970862-1879-433b-b3ce-f1ec9b94bade",
   "metadata": {},
   "outputs": [
    {
     "name": "stdout",
     "output_type": "stream",
     "text": [
      "url: https://optimism.blockscout.com/api/v2/transactions/0xfd231f629779887cc0d52361026c8eddcf25322b46703daa0c7e80f16d4cffdd/logs\n"
     ]
    },
    {
     "data": {
      "text/plain": [
       "{'items': [{'address': {'ens_domain_name': None,\n",
       "    'hash': '0x0b2C639c533813f4Aa9D7837CAf62653d097Ff85',\n",
       "    'implementations': [{'address': '0xdEd3b9a8DBeDC2F9CB725B55d0E686A81E6d06dC',\n",
       "      'name': 'FiatTokenV2_2'}],\n",
       "    'is_contract': True,\n",
       "    'is_verified': True,\n",
       "    'metadata': None,\n",
       "    'name': 'FiatTokenProxy',\n",
       "    'private_tags': [],\n",
       "    'public_tags': [],\n",
       "    'watchlist_names': []},\n",
       "   'block_hash': '0x3f51efb703b6692c59161f333cd9c1173400c795fb5466ca9ff3d8a164d0abd9',\n",
       "   'block_number': 123172450,\n",
       "   'data': '0x00000000000000000000000000000000000000000000000000000000079fc490',\n",
       "   'decoded': {'method_call': 'Transfer(address indexed from, address indexed to, uint256 value)',\n",
       "    'method_id': 'ddf252ad',\n",
       "    'parameters': [{'indexed': True,\n",
       "      'name': 'from',\n",
       "      'type': 'address',\n",
       "      'value': '0x2f8a9feaa4d37a75a3163dd77b84f39a7e4e05ec'},\n",
       "     {'indexed': True,\n",
       "      'name': 'to',\n",
       "      'type': 'address',\n",
       "      'value': '0xd839c179a4606f46abd7a757f7bb77d7593ae249'},\n",
       "     {'indexed': False,\n",
       "      'name': 'value',\n",
       "      'type': 'uint256',\n",
       "      'value': '127911056'}]},\n",
       "   'index': 87,\n",
       "   'smart_contract': None,\n",
       "   'topics': ['0xddf252ad1be2c89b69c2b068fc378daa952ba7f163c4a11628f55a4df523b3ef',\n",
       "    '0x0000000000000000000000002f8a9feaa4d37a75a3163dd77b84f39a7e4e05ec',\n",
       "    '0x000000000000000000000000d839c179a4606f46abd7a757f7bb77d7593ae249',\n",
       "    None],\n",
       "   'tx_hash': '0xfd231f629779887cc0d52361026c8eddcf25322b46703daa0c7e80f16d4cffdd'}],\n",
       " 'next_page_params': None}"
      ]
     },
     "execution_count": 24,
     "metadata": {},
     "output_type": "execute_result"
    }
   ],
   "source": [
    "eth_rest.get_transaction_logs(tx_hash = \"0xfd231f629779887cc0d52361026c8eddcf25322b46703daa0c7e80f16d4cffdd\")"
   ]
  },
  {
   "cell_type": "code",
   "execution_count": 27,
   "id": "5c47f153-182a-4773-bd59-0969526293eb",
   "metadata": {},
   "outputs": [
    {
     "name": "stdout",
     "output_type": "stream",
     "text": [
      "url: https://optimism.blockscout.com/api/v2/transactions/0xac5463f16e6c810d1e57f0ffaf570b7dda2e0345ef307ca37d68264687e2038e/state-changes\n"
     ]
    },
    {
     "data": {
      "text/plain": [
       "'Internal server error'"
      ]
     },
     "execution_count": 27,
     "metadata": {},
     "output_type": "execute_result"
    }
   ],
   "source": [
    "eth_rest.get_state_changes(tx_hash = \"0xac5463f16e6c810d1e57f0ffaf570b7dda2e0345ef307ca37d68264687e2038e\")"
   ]
  }
 ],
 "metadata": {
  "kernelspec": {
   "display_name": "Python 3 (ipykernel)",
   "language": "python",
   "name": "python3"
  },
  "language_info": {
   "codemirror_mode": {
    "name": "ipython",
    "version": 3
   },
   "file_extension": ".py",
   "mimetype": "text/x-python",
   "name": "python",
   "nbconvert_exporter": "python",
   "pygments_lexer": "ipython3",
   "version": "3.10.0rc2"
  }
 },
 "nbformat": 4,
 "nbformat_minor": 5
}
