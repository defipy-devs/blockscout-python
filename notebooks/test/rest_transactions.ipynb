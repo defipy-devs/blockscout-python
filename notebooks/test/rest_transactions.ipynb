{
 "cells": [
  {
   "cell_type": "code",
   "execution_count": 1,
   "id": "d7c1fe29-80d8-45bf-8f87-851fa13c5aa5",
   "metadata": {},
   "outputs": [],
   "source": [
    "from blockscout import Blockscout\n",
    "from blockscout import Net\n",
    "from blockscout import API\n",
    "\n",
    "eth = Blockscout(Net.ROLLUX, API.REST) "
   ]
  },
  {
   "cell_type": "code",
   "execution_count": 1,
   "id": "8bf60cd0-efd1-4333-b52c-cf1c12c59ba4",
   "metadata": {},
   "outputs": [],
   "source": [
    "#eth.get_main_page_transactions()"
   ]
  },
  {
   "cell_type": "code",
   "execution_count": 2,
   "id": "cf09c06e-6127-4519-b052-91290cc964bc",
   "metadata": {},
   "outputs": [],
   "source": [
    "#eth.get_transaction_info(tx_hash = \"0xa4aecf951731a6a3f470b72184eed54a9dabe204f5bd0ce4a12a4c259e13de6b\")"
   ]
  },
  {
   "cell_type": "code",
   "execution_count": 3,
   "id": "52088cce-df88-48a1-b351-5382e4087201",
   "metadata": {},
   "outputs": [],
   "source": [
    "#eth.get_token_hash_transfers(tx_hash = \"0xa4aecf951731a6a3f470b72184eed54a9dabe204f5bd0ce4a12a4c259e13de6b\")"
   ]
  },
  {
   "cell_type": "code",
   "execution_count": 5,
   "id": "7250d6d5-0c55-4a37-bcc9-26f495b6be9f",
   "metadata": {},
   "outputs": [
    {
     "name": "stdout",
     "output_type": "stream",
     "text": [
      "url: https://explorer.rollux.com/api/v2/transactions/0x4771e75cf72255c2fd9835fa01b0d4bbb9c42594f8cf5e16c3e15467abbed33d/internal-transactions\n"
     ]
    },
    {
     "data": {
      "text/plain": [
       "{'items': [], 'next_page_params': None}"
      ]
     },
     "execution_count": 5,
     "metadata": {},
     "output_type": "execute_result"
    }
   ],
   "source": [
    "eth.get_internal_transactions(tx_hash = \"0x4771e75cf72255c2fd9835fa01b0d4bbb9c42594f8cf5e16c3e15467abbed33d\")"
   ]
  },
  {
   "cell_type": "code",
   "execution_count": 6,
   "id": "3f970862-1879-433b-b3ce-f1ec9b94bade",
   "metadata": {},
   "outputs": [
    {
     "name": "stdout",
     "output_type": "stream",
     "text": [
      "url: https://explorer.rollux.com/api/v2/transactions/0x4771e75cf72255c2fd9835fa01b0d4bbb9c42594f8cf5e16c3e15467abbed33d/logs\n"
     ]
    },
    {
     "data": {
      "text/plain": [
       "{'items': [{'address': {'ens_domain_name': None,\n",
       "    'hash': '0x4200000000000000000000000000000000000006',\n",
       "    'implementation_name': None,\n",
       "    'is_contract': True,\n",
       "    'is_verified': True,\n",
       "    'metadata': None,\n",
       "    'name': 'WETH9',\n",
       "    'private_tags': [],\n",
       "    'public_tags': [],\n",
       "    'watchlist_names': []},\n",
       "   'block_hash': '0xe3298db515d5d95b830e80a61ae23dac3138e5e4afd8511caa1db6c23df024b8',\n",
       "   'block_number': 16717646,\n",
       "   'data': '0x00000000000000000000000000000000000000000000004071bf5763164700d2',\n",
       "   'decoded': {'method_call': 'Withdrawal(address indexed src, uint256 wad)',\n",
       "    'method_id': '7fcf532c',\n",
       "    'parameters': [{'indexed': True,\n",
       "      'name': 'src',\n",
       "      'type': 'address',\n",
       "      'value': '0x76fd4debc82abe4a73f7da3759a02a94bf745a54'},\n",
       "     {'indexed': False,\n",
       "      'name': 'wad',\n",
       "      'type': 'uint256',\n",
       "      'value': '1188787986647336026322'}]},\n",
       "   'index': 0,\n",
       "   'smart_contract': None,\n",
       "   'topics': ['0x7fcf532c15f0a6db0bd6d0e038bea71d30d808c7d98cb3bf7268a95bf5081b65',\n",
       "    '0x00000000000000000000000076fd4debc82abe4a73f7da3759a02a94bf745a54',\n",
       "    None,\n",
       "    None],\n",
       "   'tx_hash': '0x4771e75cf72255c2fd9835fa01b0d4bbb9c42594f8cf5e16c3e15467abbed33d'}],\n",
       " 'next_page_params': None}"
      ]
     },
     "execution_count": 6,
     "metadata": {},
     "output_type": "execute_result"
    }
   ],
   "source": [
    "eth.get_transaction_logs(tx_hash = \"0x4771e75cf72255c2fd9835fa01b0d4bbb9c42594f8cf5e16c3e15467abbed33d\")"
   ]
  },
  {
   "cell_type": "code",
   "execution_count": 7,
   "id": "5c47f153-182a-4773-bd59-0969526293eb",
   "metadata": {},
   "outputs": [
    {
     "name": "stdout",
     "output_type": "stream",
     "text": [
      "url: https://explorer.rollux.com/api/v2/transactions/0x4771e75cf72255c2fd9835fa01b0d4bbb9c42594f8cf5e16c3e15467abbed33d/state-changes\n"
     ]
    },
    {
     "data": {
      "text/plain": [
       "{'items': [{'address': {'ens_domain_name': None,\n",
       "    'hash': '0x76fD4debc82aBe4A73f7DA3759A02a94Bf745a54',\n",
       "    'implementation_name': None,\n",
       "    'is_contract': False,\n",
       "    'is_verified': None,\n",
       "    'metadata': None,\n",
       "    'name': None,\n",
       "    'private_tags': [],\n",
       "    'public_tags': [],\n",
       "    'watchlist_names': []},\n",
       "   'balance_after': '845065714131814318443',\n",
       "   'balance_before': '845065717167015836043',\n",
       "   'change': '-3035201517600',\n",
       "   'is_miner': False,\n",
       "   'token': None,\n",
       "   'token_id': None,\n",
       "   'type': 'coin'},\n",
       "  {'address': {'ens_domain_name': None,\n",
       "    'hash': '0x4200000000000000000000000000000000000011',\n",
       "    'implementation_name': None,\n",
       "    'is_contract': True,\n",
       "    'is_verified': None,\n",
       "    'metadata': None,\n",
       "    'name': None,\n",
       "    'private_tags': [],\n",
       "    'public_tags': [],\n",
       "    'watchlist_names': []},\n",
       "   'balance_after': '240572589901542029356',\n",
       "   'balance_before': '240572586866342029356',\n",
       "   'change': '3035200000000',\n",
       "   'is_miner': True,\n",
       "   'token': None,\n",
       "   'token_id': None,\n",
       "   'type': 'coin'},\n",
       "  {'address': {'ens_domain_name': None,\n",
       "    'hash': '0x0000000000000000000000000000000000000000',\n",
       "    'implementation_name': None,\n",
       "    'is_contract': False,\n",
       "    'is_verified': False,\n",
       "    'metadata': None,\n",
       "    'name': None,\n",
       "    'private_tags': [],\n",
       "    'public_tags': [],\n",
       "    'watchlist_names': []},\n",
       "   'balance_after': '1188787986647336026322',\n",
       "   'balance_before': '0',\n",
       "   'change': '1188787986647336026322',\n",
       "   'is_miner': False,\n",
       "   'token': {'address': '0x4200000000000000000000000000000000000006',\n",
       "    'circulating_market_cap': None,\n",
       "    'decimals': '18',\n",
       "    'exchange_rate': None,\n",
       "    'holders': '274',\n",
       "    'icon_url': None,\n",
       "    'name': 'Wrapped Syscoin',\n",
       "    'symbol': 'WSYS',\n",
       "    'total_supply': '2309704363869876792797897',\n",
       "    'type': 'ERC-20',\n",
       "    'volume_24h': None},\n",
       "   'token_id': None,\n",
       "   'type': 'token'},\n",
       "  {'address': {'ens_domain_name': None,\n",
       "    'hash': '0x76fD4debc82aBe4A73f7DA3759A02a94Bf745a54',\n",
       "    'implementation_name': None,\n",
       "    'is_contract': False,\n",
       "    'is_verified': False,\n",
       "    'metadata': None,\n",
       "    'name': None,\n",
       "    'private_tags': [],\n",
       "    'public_tags': [],\n",
       "    'watchlist_names': []},\n",
       "   'balance_after': '0',\n",
       "   'balance_before': '1188787986647336026322',\n",
       "   'change': '-1188787986647336026322',\n",
       "   'is_miner': False,\n",
       "   'token': {'address': '0x4200000000000000000000000000000000000006',\n",
       "    'circulating_market_cap': None,\n",
       "    'decimals': '18',\n",
       "    'exchange_rate': None,\n",
       "    'holders': '274',\n",
       "    'icon_url': None,\n",
       "    'name': 'Wrapped Syscoin',\n",
       "    'symbol': 'WSYS',\n",
       "    'total_supply': '2309704363869876792797897',\n",
       "    'type': 'ERC-20',\n",
       "    'volume_24h': None},\n",
       "   'token_id': None,\n",
       "   'type': 'token'}],\n",
       " 'next_page_params': None}"
      ]
     },
     "execution_count": 7,
     "metadata": {},
     "output_type": "execute_result"
    }
   ],
   "source": [
    "eth.get_state_changes(tx_hash = \"0x4771e75cf72255c2fd9835fa01b0d4bbb9c42594f8cf5e16c3e15467abbed33d\")"
   ]
  }
 ],
 "metadata": {
  "kernelspec": {
   "display_name": "Python 3 (ipykernel)",
   "language": "python",
   "name": "python3"
  },
  "language_info": {
   "codemirror_mode": {
    "name": "ipython",
    "version": 3
   },
   "file_extension": ".py",
   "mimetype": "text/x-python",
   "name": "python",
   "nbconvert_exporter": "python",
   "pygments_lexer": "ipython3",
   "version": "3.10.0rc2"
  }
 },
 "nbformat": 4,
 "nbformat_minor": 5
}
