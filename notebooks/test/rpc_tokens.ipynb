{
 "cells": [
  {
   "cell_type": "code",
   "execution_count": 1,
   "id": "40e6b3d4-17af-475f-9d37-d072d7d37db1",
   "metadata": {},
   "outputs": [],
   "source": [
    "from blockscout import Blockscout\n",
    "from blockscout import Net\n",
    "from blockscout import API\n",
    "\n",
    "eth = Blockscout(Net.ROLLUX, API.RPC) "
   ]
  },
  {
   "cell_type": "code",
   "execution_count": 2,
   "id": "7aed2f67-7236-4047-9021-dcf5e1c1708c",
   "metadata": {},
   "outputs": [
    {
     "name": "stdout",
     "output_type": "stream",
     "text": [
      "url: https://explorer.rollux.com/api?module=token&action=gettoken&contractaddress=0x28c9c7Fb3fE3104d2116Af26cC8eF7905547349c\n"
     ]
    },
    {
     "data": {
      "text/plain": [
       "{'message': 'OK',\n",
       " 'result': {'cataloged': True,\n",
       "  'contractAddress': '0x28c9c7fb3fe3104d2116af26cc8ef7905547349c',\n",
       "  'decimals': '6',\n",
       "  'name': 'Tether',\n",
       "  'symbol': 'USDT',\n",
       "  'totalSupply': '250584719374',\n",
       "  'type': 'ERC-20'},\n",
       " 'status': '1'}"
      ]
     },
     "execution_count": 2,
     "metadata": {},
     "output_type": "execute_result"
    }
   ],
   "source": [
    "eth.get_total_supply_by_contract_address(contractaddress=\"0x28c9c7Fb3fE3104d2116Af26cC8eF7905547349c\")"
   ]
  },
  {
   "cell_type": "code",
   "execution_count": 3,
   "id": "817de396-5264-4424-a103-83957daa1161",
   "metadata": {},
   "outputs": [
    {
     "name": "stdout",
     "output_type": "stream",
     "text": [
      "url: https://explorer.rollux.com/api?module=token&action=gettokenholders&contractaddress=0x28c9c7Fb3fE3104d2116Af26cC8eF7905547349c&page=1&offset=1\n"
     ]
    },
    {
     "data": {
      "text/plain": [
       "{'message': 'OK',\n",
       " 'result': [{'address': '0x8a4aa176007196d48d39c89402d3753c39ae64c1',\n",
       "   'value': '74242704026'}],\n",
       " 'status': '1'}"
      ]
     },
     "execution_count": 3,
     "metadata": {},
     "output_type": "execute_result"
    }
   ],
   "source": [
    "eth.get_total_holders_by_contract_address(contractaddress=\"0x28c9c7Fb3fE3104d2116Af26cC8eF7905547349c\",page=1,offset=1)"
   ]
  },
  {
   "cell_type": "code",
   "execution_count": 4,
   "id": "c3904df1-f1d4-4320-8058-e066ab00a26f",
   "metadata": {},
   "outputs": [
    {
     "name": "stdout",
     "output_type": "stream",
     "text": [
      "url: https://explorer.rollux.com/api?module=transaction&action=gettxinfo&txhash=0x222f3afef2e0acdea4202a61ab93ff6f23ac26fc4ea26f119c9af2641a02c15f\n"
     ]
    },
    {
     "data": {
      "text/plain": [
       "{'message': 'OK',\n",
       " 'result': {'blockNumber': '16596861',\n",
       "  'confirmations': '132353',\n",
       "  'from': '0x8d5401e0f4448a735177683b4ab278fcf55c12d8',\n",
       "  'gasLimit': '78261',\n",
       "  'gasPrice': '100000050',\n",
       "  'gasUsed': '52174',\n",
       "  'hash': '0x222f3afef2e0acdea4202a61ab93ff6f23ac26fc4ea26f119c9af2641a02c15f',\n",
       "  'input': '0xa9059cbb0000000000000000000000005291e08b6850eab7695f3800dc47faff52af23b000000000000000000000000000000000000000000000000000000000001e8480',\n",
       "  'logs': [{'address': '0x28c9c7fb3fe3104d2116af26cc8ef7905547349c',\n",
       "    'data': '0x00000000000000000000000000000000000000000000000000000000001e8480',\n",
       "    'index': '0',\n",
       "    'topics': ['0xddf252ad1be2c89b69c2b068fc378daa952ba7f163c4a11628f55a4df523b3ef',\n",
       "     '0x0000000000000000000000008d5401e0f4448a735177683b4ab278fcf55c12d8',\n",
       "     '0x0000000000000000000000005291e08b6850eab7695f3800dc47faff52af23b0',\n",
       "     None]}],\n",
       "  'next_page_params': None,\n",
       "  'revertReason': '',\n",
       "  'success': True,\n",
       "  'timeStamp': '1720558963',\n",
       "  'to': '0x28c9c7fb3fe3104d2116af26cc8ef7905547349c',\n",
       "  'value': '0'},\n",
       " 'status': '1'}"
      ]
     },
     "execution_count": 4,
     "metadata": {},
     "output_type": "execute_result"
    }
   ],
   "source": [
    "eth.get_tx_info(txhash=\"0x222f3afef2e0acdea4202a61ab93ff6f23ac26fc4ea26f119c9af2641a02c15f\")"
   ]
  },
  {
   "cell_type": "code",
   "execution_count": 5,
   "id": "c3092340-b742-4314-a760-4f9c23001175",
   "metadata": {},
   "outputs": [
    {
     "name": "stdout",
     "output_type": "stream",
     "text": [
      "url: https://explorer.rollux.com/api?module=transaction&action=gettxreceiptstatus&txhash=0x222f3afef2e0acdea4202a61ab93ff6f23ac26fc4ea26f119c9af2641a02c15f\n"
     ]
    },
    {
     "data": {
      "text/plain": [
       "{'message': 'OK', 'result': {'status': '1'}, 'status': '1'}"
      ]
     },
     "execution_count": 5,
     "metadata": {},
     "output_type": "execute_result"
    }
   ],
   "source": [
    "eth.get_tx_receipt_status(txhash=\"0x222f3afef2e0acdea4202a61ab93ff6f23ac26fc4ea26f119c9af2641a02c15f\")"
   ]
  },
  {
   "cell_type": "code",
   "execution_count": 6,
   "id": "2c1d3de9-cf6f-44a1-a1d9-b91b22691f33",
   "metadata": {},
   "outputs": [
    {
     "name": "stdout",
     "output_type": "stream",
     "text": [
      "url: https://explorer.rollux.com/api?module=transaction&action=getstatus&txhash=0x222f3afef2e0acdea4202a61ab93ff6f23ac26fc4ea26f119c9af2641a02c15f\n"
     ]
    },
    {
     "data": {
      "text/plain": [
       "{'message': 'OK',\n",
       " 'result': {'errDescription': '', 'isError': '0'},\n",
       " 'status': '1'}"
      ]
     },
     "execution_count": 6,
     "metadata": {},
     "output_type": "execute_result"
    }
   ],
   "source": [
    "eth.get_status(txhash=\"0x222f3afef2e0acdea4202a61ab93ff6f23ac26fc4ea26f119c9af2641a02c15f\")"
   ]
  }
 ],
 "metadata": {
  "kernelspec": {
   "display_name": "Python 3 (ipykernel)",
   "language": "python",
   "name": "python3"
  },
  "language_info": {
   "codemirror_mode": {
    "name": "ipython",
    "version": 3
   },
   "file_extension": ".py",
   "mimetype": "text/x-python",
   "name": "python",
   "nbconvert_exporter": "python",
   "pygments_lexer": "ipython3",
   "version": "3.10.0rc2"
  }
 },
 "nbformat": 4,
 "nbformat_minor": 5
}
