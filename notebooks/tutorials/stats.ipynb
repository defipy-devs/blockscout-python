{
 "cells": [
  {
   "cell_type": "code",
   "execution_count": 1,
   "id": "cbc9db38-f6e2-46a1-a124-da40afb761ed",
   "metadata": {},
   "outputs": [],
   "source": [
    "from blockscout import Blockscout\n",
    "from blockscout import Net\n",
    "from blockscout import API\n",
    "\n",
    "eth = Blockscout(Net.ROLLUX, API.RPC) "
   ]
  },
  {
   "cell_type": "code",
   "execution_count": 2,
   "id": "39998d6d-14ac-4b96-835e-6897d9f4abdb",
   "metadata": {},
   "outputs": [
    {
     "name": "stdout",
     "output_type": "stream",
     "text": [
      "url: https://explorer.rollux.com/api?module=stats&action=tokensupply&contractaddress=0x28c9c7Fb3fE3104d2116Af26cC8eF7905547349c\n"
     ]
    },
    {
     "data": {
      "text/plain": [
       "{'message': 'OK', 'result': '250584719374', 'status': '1'}"
      ]
     },
     "execution_count": 2,
     "metadata": {},
     "output_type": "execute_result"
    }
   ],
   "source": [
    "eth.get_total_token_supply(contractaddress=\"0x28c9c7Fb3fE3104d2116Af26cC8eF7905547349c\")"
   ]
  },
  {
   "cell_type": "code",
   "execution_count": 3,
   "id": "90ea9375-0f86-4feb-acea-ffff1ebded60",
   "metadata": {},
   "outputs": [
    {
     "name": "stdout",
     "output_type": "stream",
     "text": [
      "url: https://explorer.rollux.com/api?module=stats&action=ethsupply&contractaddress=0x3390108E913824B8eaD638444cc52B9aBdF63798\n"
     ]
    },
    {
     "data": {
      "text/plain": [
       "{'message': 'OK', 'result': '14251240523863681137798987', 'status': '1'}"
      ]
     },
     "execution_count": 3,
     "metadata": {},
     "output_type": "execute_result"
    }
   ],
   "source": [
    "eth.get_total_eth_supply(contractaddress=\"0x3390108E913824B8eaD638444cc52B9aBdF63798\")"
   ]
  },
  {
   "cell_type": "code",
   "execution_count": 4,
   "id": "9cfe3ec9-c0ca-4603-82b1-eff14ed942aa",
   "metadata": {},
   "outputs": [
    {
     "name": "stdout",
     "output_type": "stream",
     "text": [
      "url: https://explorer.rollux.com/api?module=stats&action=coinsupply&contractaddress=0x3390108E913824B8eaD638444cc52B9aBdF63798\n"
     ]
    },
    {
     "data": {
      "text/plain": [
       "14251240.37386368"
      ]
     },
     "execution_count": 4,
     "metadata": {},
     "output_type": "execute_result"
    }
   ],
   "source": [
    "eth.get_total_coin_supply(contractaddress=\"0x3390108E913824B8eaD638444cc52B9aBdF63798\")"
   ]
  },
  {
   "cell_type": "code",
   "execution_count": 5,
   "id": "a27fb243-8c0c-4d2c-8eac-828fea93b7f1",
   "metadata": {},
   "outputs": [
    {
     "name": "stdout",
     "output_type": "stream",
     "text": [
      "url: https://explorer.rollux.com/api?module=stats&action=ethprice&contractaddress=0x3390108E913824B8eaD638444cc52B9aBdF63798\n"
     ]
    },
    {
     "data": {
      "text/plain": [
       "{'message': 'OK',\n",
       " 'result': {'ethbtc': None,\n",
       "  'ethbtc_timestamp': None,\n",
       "  'ethusd': None,\n",
       "  'ethusd_timestamp': None},\n",
       " 'status': '1'}"
      ]
     },
     "execution_count": 5,
     "metadata": {},
     "output_type": "execute_result"
    }
   ],
   "source": [
    "eth.get_eth_price(contractaddress=\"0x3390108E913824B8eaD638444cc52B9aBdF63798\")"
   ]
  },
  {
   "cell_type": "code",
   "execution_count": 6,
   "id": "8566e8f4-e44d-4797-9aa4-41172c62f1ec",
   "metadata": {},
   "outputs": [
    {
     "name": "stdout",
     "output_type": "stream",
     "text": [
      "url: https://explorer.rollux.com/api?module=stats&action=ethprice&contractaddress=0x3390108E913824B8eaD638444cc52B9aBdF63798\n"
     ]
    },
    {
     "data": {
      "text/plain": [
       "{'message': 'OK',\n",
       " 'result': {'ethbtc': None,\n",
       "  'ethbtc_timestamp': None,\n",
       "  'ethusd': None,\n",
       "  'ethusd_timestamp': None},\n",
       " 'status': '1'}"
      ]
     },
     "execution_count": 6,
     "metadata": {},
     "output_type": "execute_result"
    }
   ],
   "source": [
    "eth.get_coin_price(contractaddress=\"0x3390108E913824B8eaD638444cc52B9aBdF63798\")"
   ]
  }
 ],
 "metadata": {
  "kernelspec": {
   "display_name": "Python 3 (ipykernel)",
   "language": "python",
   "name": "python3"
  },
  "language_info": {
   "codemirror_mode": {
    "name": "ipython",
    "version": 3
   },
   "file_extension": ".py",
   "mimetype": "text/x-python",
   "name": "python",
   "nbconvert_exporter": "python",
   "pygments_lexer": "ipython3",
   "version": "3.10.0rc2"
  }
 },
 "nbformat": 4,
 "nbformat_minor": 5
}
