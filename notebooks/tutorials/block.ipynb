{
 "cells": [
  {
   "cell_type": "code",
   "execution_count": 1,
   "id": "95ccae47-63af-4cc9-84aa-d7503e4b7aec",
   "metadata": {},
   "outputs": [],
   "source": [
    "from blockscout import Blockscout\n",
    "from blockscout import Net\n",
    "from blockscout import API\n",
    "\n",
    "eth = Blockscout(Net.ROLLUX, API.RPC) "
   ]
  },
  {
   "cell_type": "code",
   "execution_count": null,
   "id": "c9034caf-0343-4bb6-bf15-caf727cba695",
   "metadata": {},
   "outputs": [],
   "source": [
    "eth.get_block_reward_by_block_number(block_no=1000000)"
   ]
  },
  {
   "cell_type": "code",
   "execution_count": null,
   "id": "4e15ad96-6d6a-4367-979b-00f1fea47fd5",
   "metadata": {},
   "outputs": [],
   "source": [
    "eth.get_est_block_countdown_time_by_block_number(block_no=26594990)"
   ]
  },
  {
   "cell_type": "code",
   "execution_count": null,
   "id": "a3c31ed9-f9d4-4ffb-9079-5b35a97e52e1",
   "metadata": {},
   "outputs": [],
   "source": [
    "eth.get_block_number_by_timestamp(timestamp=1720494115,closest=\"before\")"
   ]
  }
 ],
 "metadata": {
  "kernelspec": {
   "display_name": "Python 3 (ipykernel)",
   "language": "python",
   "name": "python3"
  },
  "language_info": {
   "codemirror_mode": {
    "name": "ipython",
    "version": 3
   },
   "file_extension": ".py",
   "mimetype": "text/x-python",
   "name": "python",
   "nbconvert_exporter": "python",
   "pygments_lexer": "ipython3",
   "version": "3.10.0rc2"
  }
 },
 "nbformat": 4,
 "nbformat_minor": 5
}
