{
 "cells": [
  {
   "cell_type": "markdown",
   "id": "467058d7-cbac-4d35-9652-fb49ae5c4b51",
   "metadata": {},
   "source": [
    "* https://explorer.rollux.com/api/v2/addresses"
   ]
  },
  {
   "cell_type": "code",
   "execution_count": 1,
   "id": "2d6df20a-1df7-4644-876a-f43095c3ceb6",
   "metadata": {},
   "outputs": [],
   "source": [
    "from blockscout import Blockscout\n",
    "from blockscout import Net\n",
    "from blockscout import API\n",
    "\n",
    "eth = Blockscout(Net.ROLLUX, API.RPC) "
   ]
  },
  {
   "cell_type": "code",
   "execution_count": null,
   "id": "64a5080a-168c-4393-b1c1-a065f911a49c",
   "metadata": {},
   "outputs": [],
   "source": [
    "eth.get_balance(address = \"0xBb8b9456F615545c88528653024E87C6069d1598\")"
   ]
  },
  {
   "cell_type": "code",
   "execution_count": null,
   "id": "1e4045f5-2996-41de-84ca-d266d0d32cda",
   "metadata": {},
   "outputs": [],
   "source": [
    "eth.get_balance(address=\"0xBb8b9456F615545c88528653024E87C6069d1598,0xc84633Af14e43F00D5aaa7A47B8d0864eE6a46FB\")"
   ]
  },
  {
   "cell_type": "code",
   "execution_count": null,
   "id": "6101b5e0-f614-43a7-9f26-c62efd80f771",
   "metadata": {},
   "outputs": [],
   "source": [
    "eth.get_balance(address=\"0xBb8b9456F615545c88528653024E87C6069d1598,0xc84633Af14e43F00D5aaa7A47B8d0864eE6a46FB\")"
   ]
  },
  {
   "cell_type": "code",
   "execution_count": null,
   "id": "ba21e02d-990f-49c1-a532-3d744cda11dd",
   "metadata": {},
   "outputs": [],
   "source": [
    "eth.get_pending_txs_by_address_paginated(address=\"0xBb8b9456F615545c88528653024E87C6069d1598\", page=1, offset=1)"
   ]
  },
  {
   "cell_type": "code",
   "execution_count": null,
   "id": "761e7c8d-f64b-4c98-a7e6-5d95489bf418",
   "metadata": {},
   "outputs": [],
   "source": [
    "eth.get_txs_by_address_paginated(address=\"0xBb8b9456F615545c88528653024E87C6069d1598\", startblock=16550000, endblock=16555563, page=1, offset=1, sort=\"asc\")"
   ]
  },
  {
   "cell_type": "code",
   "execution_count": null,
   "id": "f97a032a-a61d-4c14-a436-404238f3a678",
   "metadata": {},
   "outputs": [],
   "source": [
    "eth.get_erc20_token_transfer_events_by_address(address=\"0x48023b16c3e81AA7F6eFFbdEB35Bb83f4f31a8fd\", page=1, offset=1, sort=\"asc\")"
   ]
  },
  {
   "cell_type": "code",
   "execution_count": null,
   "id": "58d63a1c-94d7-4e13-9e68-efe3f862a3b0",
   "metadata": {},
   "outputs": [],
   "source": [
    "eth.get_erc721_token_transfer_events_by_address(address=\"0x48023b16c3e81AA7F6eFFbdEB35Bb83f4f31a8fd\", page=1, offset=1, sort=\"asc\")"
   ]
  },
  {
   "cell_type": "code",
   "execution_count": null,
   "id": "7baa1f7f-18ba-4a4d-a819-4ea6dc41db46",
   "metadata": {},
   "outputs": [],
   "source": [
    "eth.get_erc20_balance_by_contract_address(contractaddress=\"0x381E0bD1FE2e90707fA0e72880d8756f73e11084\", address=\"0x48023b16c3e81AA7F6eFFbdEB35Bb83f4f31a8fd\")"
   ]
  },
  {
   "cell_type": "code",
   "execution_count": null,
   "id": "0e50ec31-e26e-478d-a678-228353fa1dfd",
   "metadata": {},
   "outputs": [],
   "source": [
    "eth.get_erc20_tokens_by_address(address=\"0x48023b16c3e81AA7F6eFFbdEB35Bb83f4f31a8fd\")"
   ]
  },
  {
   "cell_type": "code",
   "execution_count": null,
   "id": "888c8a99-bace-4bcc-be42-74eb730f8eab",
   "metadata": {},
   "outputs": [],
   "source": [
    "eth.get_account_list_balances(address=\"0x4200000000000000000000000000000000000016\", page=1, offset=1)"
   ]
  }
 ],
 "metadata": {
  "kernelspec": {
   "display_name": "Python 3 (ipykernel)",
   "language": "python",
   "name": "python3"
  },
  "language_info": {
   "codemirror_mode": {
    "name": "ipython",
    "version": 3
   },
   "file_extension": ".py",
   "mimetype": "text/x-python",
   "name": "python",
   "nbconvert_exporter": "python",
   "pygments_lexer": "ipython3",
   "version": "3.10.0rc2"
  }
 },
 "nbformat": 4,
 "nbformat_minor": 5
}
