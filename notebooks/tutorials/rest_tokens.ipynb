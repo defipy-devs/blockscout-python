{
 "cells": [
  {
   "cell_type": "code",
   "execution_count": 1,
   "id": "2b3ba345-af2c-4d49-a4bb-ae5fd96a2821",
   "metadata": {},
   "outputs": [],
   "source": [
    "from blockscout import Blockscout\n",
    "from blockscout import Net\n",
    "from blockscout import API\n",
    "\n",
    "eth = Blockscout(Net.ROLLUX, API.REST) "
   ]
  },
  {
   "cell_type": "code",
   "execution_count": null,
   "id": "1608d20f-a84d-451f-8355-7e5150522355",
   "metadata": {},
   "outputs": [],
   "source": [
    "eth.get_token_counters(address=\"0x28c9c7Fb3fE3104d2116Af26cC8eF7905547349c\")"
   ]
  },
  {
   "cell_type": "code",
   "execution_count": null,
   "id": "f82707ee-0508-4513-89c1-1fff3d2c2809",
   "metadata": {},
   "outputs": [],
   "source": [
    "#eth.get_token_holders(address=\"0x28c9c7Fb3fE3104d2116Af26cC8eF7905547349c\")"
   ]
  },
  {
   "cell_type": "code",
   "execution_count": null,
   "id": "7361e47e-0e77-4b67-b2c7-36e29aacfa5d",
   "metadata": {},
   "outputs": [],
   "source": [
    "#eth.get_token_transfers(address=\"0x28c9c7Fb3fE3104d2116Af26cC8eF7905547349c\")"
   ]
  },
  {
   "cell_type": "code",
   "execution_count": null,
   "id": "43a0515c-b78d-4b92-ac75-4e19c64f9eae",
   "metadata": {},
   "outputs": [],
   "source": [
    "eth.get_token_info(address=\"0x28c9c7Fb3fE3104d2116Af26cC8eF7905547349c\")"
   ]
  },
  {
   "cell_type": "code",
   "execution_count": 2,
   "id": "d12861da-5454-426f-964f-57866311bd8e",
   "metadata": {},
   "outputs": [
    {
     "name": "stdout",
     "output_type": "stream",
     "text": [
      "url: https://explorer.rollux.com/api/v2/tokens?q=USDT&type=ERC-20%2CERC-721%2CERC-1155\n"
     ]
    },
    {
     "data": {
      "text/plain": [
       "{'items': [{'address': '0x28c9c7Fb3fE3104d2116Af26cC8eF7905547349c',\n",
       "   'circulating_market_cap': None,\n",
       "   'decimals': '6',\n",
       "   'exchange_rate': None,\n",
       "   'holders': '189',\n",
       "   'icon_url': None,\n",
       "   'name': 'Tether',\n",
       "   'symbol': 'USDT',\n",
       "   'total_supply': '250584719374',\n",
       "   'type': 'ERC-20',\n",
       "   'volume_24h': None},\n",
       "  {'address': '0xBC2715fBeB0e6A0a8E7111f61D323E9DEbA83561',\n",
       "   'circulating_market_cap': None,\n",
       "   'decimals': '6',\n",
       "   'exchange_rate': None,\n",
       "   'holders': '2',\n",
       "   'icon_url': None,\n",
       "   'name': 'Aave Rollux USDT',\n",
       "   'symbol': 'aRlxUSDT',\n",
       "   'total_supply': '1027890',\n",
       "   'type': 'ERC-20',\n",
       "   'volume_24h': None},\n",
       "  {'address': '0xD629d401bb10477b63EA8Fd5E9f1C46FB65bfFa7',\n",
       "   'circulating_market_cap': None,\n",
       "   'decimals': '6',\n",
       "   'exchange_rate': None,\n",
       "   'holders': '1',\n",
       "   'icon_url': None,\n",
       "   'name': 'Aave Rollux Stable Debt USDT',\n",
       "   'symbol': 'stableDebtRlxUSDT',\n",
       "   'total_supply': '7026',\n",
       "   'type': 'ERC-20',\n",
       "   'volume_24h': None},\n",
       "  {'address': '0x402F5103a247dc1a849dEf5805364F505d6C0D1C',\n",
       "   'circulating_market_cap': None,\n",
       "   'decimals': '6',\n",
       "   'exchange_rate': None,\n",
       "   'holders': '1',\n",
       "   'icon_url': None,\n",
       "   'name': 'Aave Rollux Variable Debt USDT',\n",
       "   'symbol': 'variableDebtRlxUSDT',\n",
       "   'total_supply': '100063',\n",
       "   'type': 'ERC-20',\n",
       "   'volume_24h': None}],\n",
       " 'next_page_params': None}"
      ]
     },
     "execution_count": 2,
     "metadata": {},
     "output_type": "execute_result"
    }
   ],
   "source": [
    "eth.get_tokens_list(token_name=\"USDT\")"
   ]
  }
 ],
 "metadata": {
  "kernelspec": {
   "display_name": "Python 3 (ipykernel)",
   "language": "python",
   "name": "python3"
  },
  "language_info": {
   "codemirror_mode": {
    "name": "ipython",
    "version": 3
   },
   "file_extension": ".py",
   "mimetype": "text/x-python",
   "name": "python",
   "nbconvert_exporter": "python",
   "pygments_lexer": "ipython3",
   "version": "3.10.0rc2"
  }
 },
 "nbformat": 4,
 "nbformat_minor": 5
}
